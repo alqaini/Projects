{
 "cells": [
  {
   "cell_type": "code",
   "execution_count": 162,
   "metadata": {},
   "outputs": [],
   "source": [
    "import pandas as pd \n",
    "import numpy as np \n",
    "import matplotlib.pyplot as plt\n",
    "%matplotlib inline\n",
    "from sklearn.tree import DecisionTreeClassifier\n",
    "from sklearn.ensemble import AdaBoostClassifier\n",
    "from sklearn.ensemble import RandomForestClassifier\n",
    "from sklearn.ensemble import BaggingClassifier\n",
    "from dmba import classificationSummary, liftChart,gainsChart\n",
    "from sklearn.model_selection import train_test_split\n"
   ]
  },
  {
   "cell_type": "code",
   "execution_count": 167,
   "metadata": {},
   "outputs": [
    {
     "data": {
      "text/html": [
       "<div>\n",
       "<style scoped>\n",
       "    .dataframe tbody tr th:only-of-type {\n",
       "        vertical-align: middle;\n",
       "    }\n",
       "\n",
       "    .dataframe tbody tr th {\n",
       "        vertical-align: top;\n",
       "    }\n",
       "\n",
       "    .dataframe thead th {\n",
       "        text-align: right;\n",
       "    }\n",
       "</style>\n",
       "<table border=\"1\" class=\"dataframe\">\n",
       "  <thead>\n",
       "    <tr style=\"text-align: right;\">\n",
       "      <th></th>\n",
       "      <th>Category</th>\n",
       "      <th>currency</th>\n",
       "      <th>sellerRating</th>\n",
       "      <th>Duration</th>\n",
       "      <th>endDay</th>\n",
       "      <th>ClosePrice</th>\n",
       "      <th>OpenPrice</th>\n",
       "      <th>Competitive?</th>\n",
       "    </tr>\n",
       "  </thead>\n",
       "  <tbody>\n",
       "    <tr>\n",
       "      <th>0</th>\n",
       "      <td>Music/Movie/Game</td>\n",
       "      <td>US</td>\n",
       "      <td>3249</td>\n",
       "      <td>5</td>\n",
       "      <td>Mon</td>\n",
       "      <td>0.01</td>\n",
       "      <td>0.01</td>\n",
       "      <td>0</td>\n",
       "    </tr>\n",
       "    <tr>\n",
       "      <th>1</th>\n",
       "      <td>Music/Movie/Game</td>\n",
       "      <td>US</td>\n",
       "      <td>3249</td>\n",
       "      <td>5</td>\n",
       "      <td>Mon</td>\n",
       "      <td>0.01</td>\n",
       "      <td>0.01</td>\n",
       "      <td>0</td>\n",
       "    </tr>\n",
       "    <tr>\n",
       "      <th>2</th>\n",
       "      <td>Music/Movie/Game</td>\n",
       "      <td>US</td>\n",
       "      <td>3249</td>\n",
       "      <td>5</td>\n",
       "      <td>Mon</td>\n",
       "      <td>0.01</td>\n",
       "      <td>0.01</td>\n",
       "      <td>0</td>\n",
       "    </tr>\n",
       "    <tr>\n",
       "      <th>3</th>\n",
       "      <td>Music/Movie/Game</td>\n",
       "      <td>US</td>\n",
       "      <td>3249</td>\n",
       "      <td>5</td>\n",
       "      <td>Mon</td>\n",
       "      <td>0.01</td>\n",
       "      <td>0.01</td>\n",
       "      <td>0</td>\n",
       "    </tr>\n",
       "    <tr>\n",
       "      <th>4</th>\n",
       "      <td>Music/Movie/Game</td>\n",
       "      <td>US</td>\n",
       "      <td>3249</td>\n",
       "      <td>5</td>\n",
       "      <td>Mon</td>\n",
       "      <td>0.01</td>\n",
       "      <td>0.01</td>\n",
       "      <td>0</td>\n",
       "    </tr>\n",
       "  </tbody>\n",
       "</table>\n",
       "</div>"
      ],
      "text/plain": [
       "           Category currency  sellerRating  ...  ClosePrice OpenPrice  Competitive?\n",
       "0  Music/Movie/Game       US          3249  ...        0.01      0.01             0\n",
       "1  Music/Movie/Game       US          3249  ...        0.01      0.01             0\n",
       "2  Music/Movie/Game       US          3249  ...        0.01      0.01             0\n",
       "3  Music/Movie/Game       US          3249  ...        0.01      0.01             0\n",
       "4  Music/Movie/Game       US          3249  ...        0.01      0.01             0\n",
       "\n",
       "[5 rows x 8 columns]"
      ]
     },
     "execution_count": 167,
     "metadata": {},
     "output_type": "execute_result"
    }
   ],
   "source": [
    "ebay = pd.read_csv('eBayAuctions.csv')\n",
    "ebay.head()"
   ]
  },
  {
   "cell_type": "code",
   "execution_count": 168,
   "metadata": {},
   "outputs": [
    {
     "data": {
      "text/plain": [
       "(1972, 8)"
      ]
     },
     "execution_count": 168,
     "metadata": {},
     "output_type": "execute_result"
    }
   ],
   "source": [
    "ebay.shape"
   ]
  },
  {
   "cell_type": "code",
   "execution_count": 169,
   "metadata": {},
   "outputs": [
    {
     "data": {
      "text/plain": [
       "Category         object\n",
       "currency         object\n",
       "sellerRating      int64\n",
       "Duration          int64\n",
       "endDay           object\n",
       "ClosePrice      float64\n",
       "OpenPrice       float64\n",
       "Competitive?      int64\n",
       "dtype: object"
      ]
     },
     "execution_count": 169,
     "metadata": {},
     "output_type": "execute_result"
    }
   ],
   "source": [
    "ebay.dtypes"
   ]
  },
  {
   "cell_type": "code",
   "execution_count": 170,
   "metadata": {},
   "outputs": [],
   "source": [
    "# encode the category column \n",
    "from sklearn.preprocessing import LabelEncoder\n",
    "label_encoder = LabelEncoder()\n",
    "ebay['Category']=label_encoder.fit_transform(ebay['Category'])"
   ]
  },
  {
   "cell_type": "code",
   "execution_count": 171,
   "metadata": {},
   "outputs": [],
   "source": [
    "# encode the currency column\n",
    "ebay['currency'] = label_encoder.fit_transform(ebay['currency'])"
   ]
  },
  {
   "cell_type": "code",
   "execution_count": 172,
   "metadata": {},
   "outputs": [],
   "source": [
    "ebay['endDay'] = label_encoder.fit_transform(ebay['endDay'])"
   ]
  },
  {
   "cell_type": "code",
   "execution_count": 173,
   "metadata": {},
   "outputs": [],
   "source": [
    "# ebay = ebay.values.reshape(-1,1)"
   ]
  },
  {
   "cell_type": "code",
   "execution_count": 174,
   "metadata": {},
   "outputs": [],
   "source": [
    "# from sklearn.preprocessing import OneHotEncoder\n",
    "#onehot = OneHotEncoder()\n",
    "#ebay['Category'] = onehot.fit_transform(ebay['Category']).toarray()"
   ]
  },
  {
   "cell_type": "code",
   "execution_count": 175,
   "metadata": {},
   "outputs": [
    {
     "data": {
      "text/html": [
       "<div>\n",
       "<style scoped>\n",
       "    .dataframe tbody tr th:only-of-type {\n",
       "        vertical-align: middle;\n",
       "    }\n",
       "\n",
       "    .dataframe tbody tr th {\n",
       "        vertical-align: top;\n",
       "    }\n",
       "\n",
       "    .dataframe thead th {\n",
       "        text-align: right;\n",
       "    }\n",
       "</style>\n",
       "<table border=\"1\" class=\"dataframe\">\n",
       "  <thead>\n",
       "    <tr style=\"text-align: right;\">\n",
       "      <th></th>\n",
       "      <th>Category</th>\n",
       "      <th>currency</th>\n",
       "      <th>sellerRating</th>\n",
       "      <th>Duration</th>\n",
       "      <th>endDay</th>\n",
       "      <th>ClosePrice</th>\n",
       "      <th>OpenPrice</th>\n",
       "      <th>Competitive?</th>\n",
       "    </tr>\n",
       "  </thead>\n",
       "  <tbody>\n",
       "    <tr>\n",
       "      <th>0</th>\n",
       "      <td>13</td>\n",
       "      <td>2</td>\n",
       "      <td>3249</td>\n",
       "      <td>5</td>\n",
       "      <td>1</td>\n",
       "      <td>0.01</td>\n",
       "      <td>0.01</td>\n",
       "      <td>0</td>\n",
       "    </tr>\n",
       "    <tr>\n",
       "      <th>1</th>\n",
       "      <td>13</td>\n",
       "      <td>2</td>\n",
       "      <td>3249</td>\n",
       "      <td>5</td>\n",
       "      <td>1</td>\n",
       "      <td>0.01</td>\n",
       "      <td>0.01</td>\n",
       "      <td>0</td>\n",
       "    </tr>\n",
       "    <tr>\n",
       "      <th>2</th>\n",
       "      <td>13</td>\n",
       "      <td>2</td>\n",
       "      <td>3249</td>\n",
       "      <td>5</td>\n",
       "      <td>1</td>\n",
       "      <td>0.01</td>\n",
       "      <td>0.01</td>\n",
       "      <td>0</td>\n",
       "    </tr>\n",
       "    <tr>\n",
       "      <th>3</th>\n",
       "      <td>13</td>\n",
       "      <td>2</td>\n",
       "      <td>3249</td>\n",
       "      <td>5</td>\n",
       "      <td>1</td>\n",
       "      <td>0.01</td>\n",
       "      <td>0.01</td>\n",
       "      <td>0</td>\n",
       "    </tr>\n",
       "    <tr>\n",
       "      <th>4</th>\n",
       "      <td>13</td>\n",
       "      <td>2</td>\n",
       "      <td>3249</td>\n",
       "      <td>5</td>\n",
       "      <td>1</td>\n",
       "      <td>0.01</td>\n",
       "      <td>0.01</td>\n",
       "      <td>0</td>\n",
       "    </tr>\n",
       "  </tbody>\n",
       "</table>\n",
       "</div>"
      ],
      "text/plain": [
       "   Category  currency  sellerRating  ...  ClosePrice  OpenPrice  Competitive?\n",
       "0        13         2          3249  ...        0.01       0.01             0\n",
       "1        13         2          3249  ...        0.01       0.01             0\n",
       "2        13         2          3249  ...        0.01       0.01             0\n",
       "3        13         2          3249  ...        0.01       0.01             0\n",
       "4        13         2          3249  ...        0.01       0.01             0\n",
       "\n",
       "[5 rows x 8 columns]"
      ]
     },
     "execution_count": 175,
     "metadata": {},
     "output_type": "execute_result"
    }
   ],
   "source": [
    "ebay.head()"
   ]
  },
  {
   "cell_type": "code",
   "execution_count": 176,
   "metadata": {},
   "outputs": [
    {
     "data": {
      "text/plain": [
       "array([13,  1, 16, 11,  2,  6,  3, 17,  8,  7,  9,  4,  5,  0, 12, 15, 10,\n",
       "       14])"
      ]
     },
     "execution_count": 176,
     "metadata": {},
     "output_type": "execute_result"
    }
   ],
   "source": [
    "ebay['Category'].unique()"
   ]
  },
  {
   "cell_type": "code",
   "execution_count": 177,
   "metadata": {},
   "outputs": [
    {
     "data": {
      "text/plain": [
       "array([1, 5, 0, 4, 2, 3, 6])"
      ]
     },
     "execution_count": 177,
     "metadata": {},
     "output_type": "execute_result"
    }
   ],
   "source": [
    "ebay['endDay'].unique()"
   ]
  },
  {
   "cell_type": "code",
   "execution_count": 178,
   "metadata": {},
   "outputs": [
    {
     "data": {
      "text/plain": [
       "array([2, 1, 0])"
      ]
     },
     "execution_count": 178,
     "metadata": {},
     "output_type": "execute_result"
    }
   ],
   "source": [
    "ebay['currency'].unique()"
   ]
  },
  {
   "cell_type": "code",
   "execution_count": 179,
   "metadata": {},
   "outputs": [
    {
     "data": {
      "text/plain": [
       "Category          int32\n",
       "currency          int32\n",
       "sellerRating      int64\n",
       "Duration          int64\n",
       "endDay            int32\n",
       "ClosePrice      float64\n",
       "OpenPrice       float64\n",
       "Competitive?      int64\n",
       "dtype: object"
      ]
     },
     "execution_count": 179,
     "metadata": {},
     "output_type": "execute_result"
    }
   ],
   "source": [
    "ebay.dtypes"
   ]
  },
  {
   "cell_type": "code",
   "execution_count": 180,
   "metadata": {},
   "outputs": [
    {
     "data": {
      "text/plain": [
       "Category        0\n",
       "currency        0\n",
       "sellerRating    0\n",
       "Duration        0\n",
       "endDay          0\n",
       "ClosePrice      0\n",
       "OpenPrice       0\n",
       "Competitive?    0\n",
       "dtype: int64"
      ]
     },
     "execution_count": 180,
     "metadata": {},
     "output_type": "execute_result"
    }
   ],
   "source": [
    "ebay.isna().sum()"
   ]
  },
  {
   "cell_type": "code",
   "execution_count": 181,
   "metadata": {},
   "outputs": [],
   "source": [
    "x = ebay.drop(columns =['Competitive?'])"
   ]
  },
  {
   "cell_type": "code",
   "execution_count": 182,
   "metadata": {},
   "outputs": [],
   "source": [
    "y = ebay['Competitive?']"
   ]
  },
  {
   "cell_type": "code",
   "execution_count": 183,
   "metadata": {},
   "outputs": [],
   "source": [
    "x_train,x_test,y_train,y_test = train_test_split(x,y,test_size = 0.40,\n",
    "                                                 random_state = 1)"
   ]
  },
  {
   "cell_type": "markdown",
   "metadata": {},
   "source": [
    "## DecisionTree "
   ]
  },
  {
   "cell_type": "code",
   "execution_count": 198,
   "metadata": {},
   "outputs": [
    {
     "name": "stdout",
     "output_type": "stream",
     "text": [
      "Confusion Matrix (Accuracy 0.8580)\n",
      "\n",
      "       Prediction\n",
      "Actual   0   1\n",
      "     0 310  43\n",
      "     1  69 367\n"
     ]
    }
   ],
   "source": [
    "dt = DecisionTreeClassifier(random_state = 1)\n",
    "dt.fit(x_train,y_train)\n",
    "dt_pred = dt.predict(x_test)\n",
    "classes = dt.classes_\n",
    "classificationSummary(y_test, y_pred, class_names = classes)"
   ]
  },
  {
   "cell_type": "code",
   "execution_count": 199,
   "metadata": {},
   "outputs": [
    {
     "data": {
      "text/html": [
       "<div>\n",
       "<style scoped>\n",
       "    .dataframe tbody tr th:only-of-type {\n",
       "        vertical-align: middle;\n",
       "    }\n",
       "\n",
       "    .dataframe tbody tr th {\n",
       "        vertical-align: top;\n",
       "    }\n",
       "\n",
       "    .dataframe thead th {\n",
       "        text-align: right;\n",
       "    }\n",
       "</style>\n",
       "<table border=\"1\" class=\"dataframe\">\n",
       "  <thead>\n",
       "    <tr style=\"text-align: right;\">\n",
       "      <th></th>\n",
       "      <th>actual</th>\n",
       "      <th>Predicted</th>\n",
       "      <th>Proba_0</th>\n",
       "      <th>proba_1</th>\n",
       "    </tr>\n",
       "  </thead>\n",
       "  <tbody>\n",
       "    <tr>\n",
       "      <th>480</th>\n",
       "      <td>1</td>\n",
       "      <td>1</td>\n",
       "      <td>1.434166e-08</td>\n",
       "      <td>1.0</td>\n",
       "    </tr>\n",
       "    <tr>\n",
       "      <th>258</th>\n",
       "      <td>1</td>\n",
       "      <td>1</td>\n",
       "      <td>1.512868e-08</td>\n",
       "      <td>1.0</td>\n",
       "    </tr>\n",
       "    <tr>\n",
       "      <th>159</th>\n",
       "      <td>1</td>\n",
       "      <td>1</td>\n",
       "      <td>1.571478e-08</td>\n",
       "      <td>1.0</td>\n",
       "    </tr>\n",
       "    <tr>\n",
       "      <th>158</th>\n",
       "      <td>1</td>\n",
       "      <td>1</td>\n",
       "      <td>2.845145e-08</td>\n",
       "      <td>1.0</td>\n",
       "    </tr>\n",
       "    <tr>\n",
       "      <th>1549</th>\n",
       "      <td>1</td>\n",
       "      <td>1</td>\n",
       "      <td>4.907630e-08</td>\n",
       "      <td>1.0</td>\n",
       "    </tr>\n",
       "  </tbody>\n",
       "</table>\n",
       "</div>"
      ],
      "text/plain": [
       "      actual  Predicted       Proba_0  proba_1\n",
       "480        1          1  1.434166e-08      1.0\n",
       "258        1          1  1.512868e-08      1.0\n",
       "159        1          1  1.571478e-08      1.0\n",
       "158        1          1  2.845145e-08      1.0\n",
       "1549       1          1  4.907630e-08      1.0"
      ]
     },
     "execution_count": 199,
     "metadata": {},
     "output_type": "execute_result"
    }
   ],
   "source": [
    "# putting the prediction into a new dataframe \n",
    "dt_proba = dt.predict_proba(x_test)\n",
    "dt_result = pd.DataFrame({'actual':y_test,\n",
    "                             'Predicted':dt_pred,\n",
    "                             'Proba_0': [p[0] for p in dt_proba],\n",
    "                             'proba_1': [p[1] for p in dt_proba]})\n",
    "boosting_result.head()"
   ]
  },
  {
   "cell_type": "code",
   "execution_count": 200,
   "metadata": {},
   "outputs": [
    {
     "data": {
      "image/png": "[encoded data removed]",
      "text/plain": [
       "<Figure size 720x288 with 2 Axes>"
      ]
     },
     "metadata": {
      "needs_background": "light"
     },
     "output_type": "display_data"
    }
   ],
   "source": [
    "# draw the lift chart\n",
    "dt_result = dt_result.sort_values(by=['proba_1'], ascending = False)\n",
    "fig, axes = plt.subplots(nrows = 1, ncols = 2, figsize = (10,4))\n",
    "liftChart(dt_result['proba_1'], title = False, ax = axes[1])\n",
    "gainsChart(dt_result['actual'], ax = axes[0])\n",
    "plt.show()"
   ]
  },
  {
   "cell_type": "code",
   "execution_count": null,
   "metadata": {},
   "outputs": [],
   "source": [
    "# the lift on the first decile is 1.9"
   ]
  },
  {
   "cell_type": "markdown",
   "metadata": {},
   "source": [
    "## bagging"
   ]
  },
  {
   "cell_type": "code",
   "execution_count": 195,
   "metadata": {},
   "outputs": [
    {
     "name": "stdout",
     "output_type": "stream",
     "text": [
      "Confusion Matrix (Accuracy 0.8580)\n",
      "\n",
      "       Prediction\n",
      "Actual   0   1\n",
      "     0 310  43\n",
      "     1  69 367\n"
     ]
    }
   ],
   "source": [
    "bagging = BaggingClassifier(DecisionTreeClassifier(random_state = 1),\n",
    "                           n_estimators = 100, random_state = 1)\n",
    "bagging.fit(x_train, y_train)\n",
    "bagging_pred = bagging.predict(x_test)\n",
    "classificationSummary(y_test, y_pred, class_names = classes)"
   ]
  },
  {
   "cell_type": "code",
   "execution_count": 196,
   "metadata": {},
   "outputs": [
    {
     "data": {
      "text/html": [
       "<div>\n",
       "<style scoped>\n",
       "    .dataframe tbody tr th:only-of-type {\n",
       "        vertical-align: middle;\n",
       "    }\n",
       "\n",
       "    .dataframe tbody tr th {\n",
       "        vertical-align: top;\n",
       "    }\n",
       "\n",
       "    .dataframe thead th {\n",
       "        text-align: right;\n",
       "    }\n",
       "</style>\n",
       "<table border=\"1\" class=\"dataframe\">\n",
       "  <thead>\n",
       "    <tr style=\"text-align: right;\">\n",
       "      <th></th>\n",
       "      <th>actual</th>\n",
       "      <th>Predicted</th>\n",
       "      <th>Proba_0</th>\n",
       "      <th>proba_1</th>\n",
       "    </tr>\n",
       "  </thead>\n",
       "  <tbody>\n",
       "    <tr>\n",
       "      <th>480</th>\n",
       "      <td>1</td>\n",
       "      <td>1</td>\n",
       "      <td>1.434166e-08</td>\n",
       "      <td>1.0</td>\n",
       "    </tr>\n",
       "    <tr>\n",
       "      <th>258</th>\n",
       "      <td>1</td>\n",
       "      <td>1</td>\n",
       "      <td>1.512868e-08</td>\n",
       "      <td>1.0</td>\n",
       "    </tr>\n",
       "    <tr>\n",
       "      <th>159</th>\n",
       "      <td>1</td>\n",
       "      <td>1</td>\n",
       "      <td>1.571478e-08</td>\n",
       "      <td>1.0</td>\n",
       "    </tr>\n",
       "    <tr>\n",
       "      <th>158</th>\n",
       "      <td>1</td>\n",
       "      <td>1</td>\n",
       "      <td>2.845145e-08</td>\n",
       "      <td>1.0</td>\n",
       "    </tr>\n",
       "    <tr>\n",
       "      <th>1549</th>\n",
       "      <td>1</td>\n",
       "      <td>1</td>\n",
       "      <td>4.907630e-08</td>\n",
       "      <td>1.0</td>\n",
       "    </tr>\n",
       "  </tbody>\n",
       "</table>\n",
       "</div>"
      ],
      "text/plain": [
       "      actual  Predicted       Proba_0  proba_1\n",
       "480        1          1  1.434166e-08      1.0\n",
       "258        1          1  1.512868e-08      1.0\n",
       "159        1          1  1.571478e-08      1.0\n",
       "158        1          1  2.845145e-08      1.0\n",
       "1549       1          1  4.907630e-08      1.0"
      ]
     },
     "execution_count": 196,
     "metadata": {},
     "output_type": "execute_result"
    }
   ],
   "source": [
    "bagging_proba = bagging.predict_proba(x_test)\n",
    "bagging_result = pd.DataFrame({'actual':y_test,\n",
    "                             'Predicted':bagging_pred,\n",
    "                             'Proba_0': [p[0] for p in bagging_proba],\n",
    "                             'proba_1': [p[1] for p in bagging_proba]})\n",
    "boosting_result.head()"
   ]
  },
  {
   "cell_type": "code",
   "execution_count": 197,
   "metadata": {},
   "outputs": [
    {
     "data": {
      "image/png": "[encoded data removed]",
      "text/plain": [
       "<Figure size 720x288 with 2 Axes>"
      ]
     },
     "metadata": {
      "needs_background": "light"
     },
     "output_type": "display_data"
    }
   ],
   "source": [
    "# draw the lift chart\n",
    "boosting_result = boosting_result.sort_values(by=['proba_1'], ascending = False)\n",
    "fig, axes = plt.subplots(nrows = 1, ncols = 2, figsize = (10,4))\n",
    "liftChart(boosting_result['proba_1'], title = False, ax = axes[1])\n",
    "gainsChart(boosting_result['actual'], ax = axes[0])\n",
    "plt.show()"
   ]
  },
  {
   "cell_type": "code",
   "execution_count": null,
   "metadata": {},
   "outputs": [],
   "source": [
    "# the ift of the first decile is 1.9"
   ]
  },
  {
   "cell_type": "markdown",
   "metadata": {},
   "source": [
    "## Boosting\n"
   ]
  },
  {
   "cell_type": "code",
   "execution_count": 188,
   "metadata": {},
   "outputs": [
    {
     "name": "stdout",
     "output_type": "stream",
     "text": [
      "Confusion Matrix (Accuracy 0.8580)\n",
      "\n",
      "       Prediction\n",
      "Actual   0   1\n",
      "     0 310  43\n",
      "     1  69 367\n"
     ]
    }
   ],
   "source": [
    "boosting = AdaBoostClassifier(DecisionTreeClassifier(random_state = 1),\n",
    "                             n_estimators = 100, random_state = 1)\n",
    "boosting.fit(x_train,y_train)\n",
    "boosting_pred = boosting.predict(x_test)\n",
    "classificationSummary(y_test,y_pred, class_names = classes)"
   ]
  },
  {
   "cell_type": "code",
   "execution_count": 193,
   "metadata": {},
   "outputs": [
    {
     "data": {
      "text/html": [
       "<div>\n",
       "<style scoped>\n",
       "    .dataframe tbody tr th:only-of-type {\n",
       "        vertical-align: middle;\n",
       "    }\n",
       "\n",
       "    .dataframe tbody tr th {\n",
       "        vertical-align: top;\n",
       "    }\n",
       "\n",
       "    .dataframe thead th {\n",
       "        text-align: right;\n",
       "    }\n",
       "</style>\n",
       "<table border=\"1\" class=\"dataframe\">\n",
       "  <thead>\n",
       "    <tr style=\"text-align: right;\">\n",
       "      <th></th>\n",
       "      <th>actual</th>\n",
       "      <th>Predicted</th>\n",
       "      <th>Proba_0</th>\n",
       "      <th>proba_1</th>\n",
       "    </tr>\n",
       "  </thead>\n",
       "  <tbody>\n",
       "    <tr>\n",
       "      <th>1287</th>\n",
       "      <td>0</td>\n",
       "      <td>0</td>\n",
       "      <td>0.999553</td>\n",
       "      <td>0.000447</td>\n",
       "    </tr>\n",
       "    <tr>\n",
       "      <th>1017</th>\n",
       "      <td>1</td>\n",
       "      <td>1</td>\n",
       "      <td>0.000013</td>\n",
       "      <td>0.999987</td>\n",
       "    </tr>\n",
       "    <tr>\n",
       "      <th>1047</th>\n",
       "      <td>0</td>\n",
       "      <td>0</td>\n",
       "      <td>0.999924</td>\n",
       "      <td>0.000076</td>\n",
       "    </tr>\n",
       "    <tr>\n",
       "      <th>108</th>\n",
       "      <td>1</td>\n",
       "      <td>1</td>\n",
       "      <td>0.000002</td>\n",
       "      <td>0.999998</td>\n",
       "    </tr>\n",
       "    <tr>\n",
       "      <th>1084</th>\n",
       "      <td>1</td>\n",
       "      <td>1</td>\n",
       "      <td>0.014499</td>\n",
       "      <td>0.985501</td>\n",
       "    </tr>\n",
       "  </tbody>\n",
       "</table>\n",
       "</div>"
      ],
      "text/plain": [
       "      actual  Predicted   Proba_0   proba_1\n",
       "1287       0          0  0.999553  0.000447\n",
       "1017       1          1  0.000013  0.999987\n",
       "1047       0          0  0.999924  0.000076\n",
       "108        1          1  0.000002  0.999998\n",
       "1084       1          1  0.014499  0.985501"
      ]
     },
     "execution_count": 193,
     "metadata": {},
     "output_type": "execute_result"
    }
   ],
   "source": [
    "boosting_proba = boosting.predict_proba(x_test)\n",
    "boosting_result = pd.DataFrame({'actual':y_test,\n",
    "                             'Predicted':boosting_pred,\n",
    "                             'Proba_0': [p[0] for p in boosting_proba],\n",
    "                             'proba_1': [p[1] for p in boosting_proba]})\n",
    "boosting_result.head()"
   ]
  },
  {
   "cell_type": "code",
   "execution_count": 194,
   "metadata": {},
   "outputs": [
    {
     "data": {
      "image/png": "[encoded data removed]",
      "text/plain": [
       "<Figure size 720x288 with 2 Axes>"
      ]
     },
     "metadata": {
      "needs_background": "light"
     },
     "output_type": "display_data"
    }
   ],
   "source": [
    "# draw the lift chart\n",
    "boosting_result = boosting_result.sort_values(by=['proba_1'], ascending = False)\n",
    "fig, axes = plt.subplots(nrows = 1, ncols = 2, figsize = (10,4))\n",
    "liftChart(boosting_result['proba_1'], title = False, ax = axes[1])\n",
    "gainsChart(boosting_result['actual'], ax = axes[0])\n",
    "plt.show()"
   ]
  },
  {
   "cell_type": "code",
   "execution_count": null,
   "metadata": {},
   "outputs": [],
   "source": [
    "# the lift for the first decile is 1.9"
   ]
  },
  {
   "cell_type": "markdown",
   "metadata": {},
   "source": [
    "## Random Forest"
   ]
  },
  {
   "cell_type": "code",
   "execution_count": 147,
   "metadata": {},
   "outputs": [
    {
     "name": "stdout",
     "output_type": "stream",
     "text": [
      "Confusion Matrix (Accuracy 0.8745)\n",
      "\n",
      "       Prediction\n",
      "Actual   0   1\n",
      "     0 324  29\n",
      "     1  70 366\n"
     ]
    }
   ],
   "source": [
    "random_forest = RandomForestClassifier(n_estimators = 100, random_state = 1)\n",
    "random_forest.fit(x_train, y_train)\n",
    "y_pred = random_forest.predict(x_test)\n",
    "classificationSummary(y_test,y_pred, class_names = classes)"
   ]
  },
  {
   "cell_type": "code",
   "execution_count": 153,
   "metadata": {},
   "outputs": [
    {
     "data": {
      "text/html": [
       "<div>\n",
       "<style scoped>\n",
       "    .dataframe tbody tr th:only-of-type {\n",
       "        vertical-align: middle;\n",
       "    }\n",
       "\n",
       "    .dataframe tbody tr th {\n",
       "        vertical-align: top;\n",
       "    }\n",
       "\n",
       "    .dataframe thead th {\n",
       "        text-align: right;\n",
       "    }\n",
       "</style>\n",
       "<table border=\"1\" class=\"dataframe\">\n",
       "  <thead>\n",
       "    <tr style=\"text-align: right;\">\n",
       "      <th></th>\n",
       "      <th>actual</th>\n",
       "      <th>Predicted</th>\n",
       "      <th>Proba_0</th>\n",
       "      <th>proba_1</th>\n",
       "    </tr>\n",
       "  </thead>\n",
       "  <tbody>\n",
       "    <tr>\n",
       "      <th>1287</th>\n",
       "      <td>0</td>\n",
       "      <td>0</td>\n",
       "      <td>0.990000</td>\n",
       "      <td>0.010000</td>\n",
       "    </tr>\n",
       "    <tr>\n",
       "      <th>1017</th>\n",
       "      <td>1</td>\n",
       "      <td>1</td>\n",
       "      <td>0.010000</td>\n",
       "      <td>0.990000</td>\n",
       "    </tr>\n",
       "    <tr>\n",
       "      <th>1047</th>\n",
       "      <td>0</td>\n",
       "      <td>0</td>\n",
       "      <td>1.000000</td>\n",
       "      <td>0.000000</td>\n",
       "    </tr>\n",
       "    <tr>\n",
       "      <th>108</th>\n",
       "      <td>1</td>\n",
       "      <td>1</td>\n",
       "      <td>0.000000</td>\n",
       "      <td>1.000000</td>\n",
       "    </tr>\n",
       "    <tr>\n",
       "      <th>1084</th>\n",
       "      <td>1</td>\n",
       "      <td>1</td>\n",
       "      <td>0.350000</td>\n",
       "      <td>0.650000</td>\n",
       "    </tr>\n",
       "    <tr>\n",
       "      <th>87</th>\n",
       "      <td>1</td>\n",
       "      <td>1</td>\n",
       "      <td>0.000000</td>\n",
       "      <td>1.000000</td>\n",
       "    </tr>\n",
       "    <tr>\n",
       "      <th>421</th>\n",
       "      <td>1</td>\n",
       "      <td>1</td>\n",
       "      <td>0.050000</td>\n",
       "      <td>0.950000</td>\n",
       "    </tr>\n",
       "    <tr>\n",
       "      <th>1412</th>\n",
       "      <td>0</td>\n",
       "      <td>0</td>\n",
       "      <td>0.740000</td>\n",
       "      <td>0.260000</td>\n",
       "    </tr>\n",
       "    <tr>\n",
       "      <th>414</th>\n",
       "      <td>1</td>\n",
       "      <td>1</td>\n",
       "      <td>0.003333</td>\n",
       "      <td>0.996667</td>\n",
       "    </tr>\n",
       "    <tr>\n",
       "      <th>285</th>\n",
       "      <td>1</td>\n",
       "      <td>1</td>\n",
       "      <td>0.000000</td>\n",
       "      <td>1.000000</td>\n",
       "    </tr>\n",
       "  </tbody>\n",
       "</table>\n",
       "</div>"
      ],
      "text/plain": [
       "      actual  Predicted   Proba_0   proba_1\n",
       "1287       0          0  0.990000  0.010000\n",
       "1017       1          1  0.010000  0.990000\n",
       "1047       0          0  1.000000  0.000000\n",
       "108        1          1  0.000000  1.000000\n",
       "1084       1          1  0.350000  0.650000\n",
       "87         1          1  0.000000  1.000000\n",
       "421        1          1  0.050000  0.950000\n",
       "1412       0          0  0.740000  0.260000\n",
       "414        1          1  0.003333  0.996667\n",
       "285        1          1  0.000000  1.000000"
      ]
     },
     "execution_count": 153,
     "metadata": {},
     "output_type": "execute_result"
    }
   ],
   "source": [
    "# putting the result in a dataframe \n",
    "r_forst_proba = random_forest.predict_proba(x_test)\n",
    "forest_result = pd.DataFrame({'actual':y_test,\n",
    "                             'Predicted':y_pred,\n",
    "                             'Proba_0': [p[0] for p in r_forst_proba],\n",
    "                             'proba_1': [p[1] for p in r_forst_proba]})\n",
    "forest_result.head(10)"
   ]
  },
  {
   "cell_type": "code",
   "execution_count": 156,
   "metadata": {},
   "outputs": [
    {
     "name": "stdout",
     "output_type": "stream",
     "text": [
      "      actual  Predicted   Proba_0   proba_1\n",
      "414        1          1  0.003333  0.996667\n",
      "1412       0          0  0.740000  0.260000\n"
     ]
    }
   ],
   "source": [
    "# to get the intersting casses\n",
    "cases = [414, 1412]\n",
    "print(forest_result.loc[cases])"
   ]
  },
  {
   "cell_type": "code",
   "execution_count": 164,
   "metadata": {},
   "outputs": [
    {
     "data": {
      "image/png": "[encoded data removed]",
      "text/plain": [
       "<Figure size 720x288 with 2 Axes>"
      ]
     },
     "metadata": {
      "needs_background": "light"
     },
     "output_type": "display_data"
    }
   ],
   "source": [
    "# draw the lift chart\n",
    "forest_result = forest_result.sort_values(by=['proba_1'], ascending = False)\n",
    "fig, axes = plt.subplots(nrows = 1, ncols = 2, figsize = (10,4))\n",
    "liftChart(forest_result['proba_1'], title = False, ax = axes[1])\n",
    "gainsChart(forest_result['actual'], ax = axes[0])\n",
    "plt.show()"
   ]
  },
  {
   "cell_type": "code",
   "execution_count": 201,
   "metadata": {},
   "outputs": [],
   "source": [
    "# the lift on the first decile is 2.0"
   ]
  },
  {
   "cell_type": "code",
   "execution_count": null,
   "metadata": {},
   "outputs": [],
   "source": [
    "# bagging adjust the weight of the observation based on the previous classification\n",
    "# Boosting it waeights the models based on their performance and decrease the bais"
   ]
  }
 ],
 "metadata": {
  "kernelspec": {
   "display_name": "Python 3",
   "language": "python",
   "name": "python3"
  },
  "language_info": {
   "codemirror_mode": {
    "name": "ipython",
    "version": 3
   },
   "file_extension": ".py",
   "mimetype": "text/x-python",
   "name": "python",
   "nbconvert_exporter": "python",
   "pygments_lexer": "ipython3",
   "version": "3.7.1"
  }
 },
 "nbformat": 4,
 "nbformat_minor": 4
}
