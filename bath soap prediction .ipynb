{
 "cells": [
  {
   "cell_type": "code",
   "execution_count": 227,
   "metadata": {},
   "outputs": [],
   "source": [
    "import pandas as pd \n",
    "import numpy as np \n",
    "from sklearn.metrics import pairwise\n",
    "from sklearn.cluster import KMeans\n",
    "from sklearn.decomposition import PCA\n",
    "from sklearn.discriminant_analysis import LinearDiscriminantAnalysis"
   ]
  },
  {
   "cell_type": "code",
   "execution_count": 198,
   "metadata": {},
   "outputs": [],
   "source": [
    "bath = pd.read_csv('BathSoapHousehold.csv')"
   ]
  },
  {
   "cell_type": "code",
   "execution_count": 105,
   "metadata": {},
   "outputs": [],
   "source": [
    "import matplotlib.pyplot as plt"
   ]
  },
  {
   "cell_type": "code",
   "execution_count": 254,
   "metadata": {},
   "outputs": [],
   "source": [
    "bath = pd.get_dummies(bath)"
   ]
  },
  {
   "cell_type": "markdown",
   "metadata": {},
   "source": [
    "# The variables that describe both purchase behavior and basis of purchase\n"
   ]
  },
  {
   "cell_type": "code",
   "execution_count": 270,
   "metadata": {},
   "outputs": [
    {
     "data": {
      "text/html": [
       "<div>\n",
       "<style scoped>\n",
       "    .dataframe tbody tr th:only-of-type {\n",
       "        vertical-align: middle;\n",
       "    }\n",
       "\n",
       "    .dataframe tbody tr th {\n",
       "        vertical-align: top;\n",
       "    }\n",
       "\n",
       "    .dataframe thead th {\n",
       "        text-align: right;\n",
       "    }\n",
       "</style>\n",
       "<table border=\"1\" class=\"dataframe\">\n",
       "  <thead>\n",
       "    <tr style=\"text-align: right;\">\n",
       "      <th></th>\n",
       "      <th>Member id</th>\n",
       "      <th>SEC</th>\n",
       "      <th>FEH</th>\n",
       "      <th>MT</th>\n",
       "      <th>SEX</th>\n",
       "      <th>AGE</th>\n",
       "      <th>EDU</th>\n",
       "      <th>HS</th>\n",
       "      <th>CHILD</th>\n",
       "      <th>CS</th>\n",
       "      <th>...</th>\n",
       "      <th>PropCat 6</th>\n",
       "      <th>PropCat 7</th>\n",
       "      <th>PropCat 8</th>\n",
       "      <th>PropCat 9</th>\n",
       "      <th>PropCat 10</th>\n",
       "      <th>PropCat 11</th>\n",
       "      <th>PropCat 12</th>\n",
       "      <th>PropCat 13</th>\n",
       "      <th>PropCat 14</th>\n",
       "      <th>PropCat 15</th>\n",
       "    </tr>\n",
       "  </thead>\n",
       "  <tbody>\n",
       "    <tr>\n",
       "      <th>0</th>\n",
       "      <td>1010010</td>\n",
       "      <td>4</td>\n",
       "      <td>3</td>\n",
       "      <td>10</td>\n",
       "      <td>1</td>\n",
       "      <td>4</td>\n",
       "      <td>4</td>\n",
       "      <td>2</td>\n",
       "      <td>4</td>\n",
       "      <td>1</td>\n",
       "      <td>...</td>\n",
       "      <td>0.000000</td>\n",
       "      <td>0.000000</td>\n",
       "      <td>0.000000</td>\n",
       "      <td>0.000000</td>\n",
       "      <td>0.0</td>\n",
       "      <td>0.000000</td>\n",
       "      <td>0.028037</td>\n",
       "      <td>0.0</td>\n",
       "      <td>0.130841</td>\n",
       "      <td>0.339564</td>\n",
       "    </tr>\n",
       "    <tr>\n",
       "      <th>1</th>\n",
       "      <td>1010020</td>\n",
       "      <td>3</td>\n",
       "      <td>2</td>\n",
       "      <td>10</td>\n",
       "      <td>2</td>\n",
       "      <td>2</td>\n",
       "      <td>4</td>\n",
       "      <td>4</td>\n",
       "      <td>2</td>\n",
       "      <td>1</td>\n",
       "      <td>...</td>\n",
       "      <td>0.347048</td>\n",
       "      <td>0.026834</td>\n",
       "      <td>0.016100</td>\n",
       "      <td>0.014311</td>\n",
       "      <td>0.0</td>\n",
       "      <td>0.059034</td>\n",
       "      <td>0.000000</td>\n",
       "      <td>0.0</td>\n",
       "      <td>0.080501</td>\n",
       "      <td>0.000000</td>\n",
       "    </tr>\n",
       "    <tr>\n",
       "      <th>2</th>\n",
       "      <td>1014020</td>\n",
       "      <td>2</td>\n",
       "      <td>3</td>\n",
       "      <td>10</td>\n",
       "      <td>2</td>\n",
       "      <td>4</td>\n",
       "      <td>5</td>\n",
       "      <td>6</td>\n",
       "      <td>4</td>\n",
       "      <td>1</td>\n",
       "      <td>...</td>\n",
       "      <td>0.121212</td>\n",
       "      <td>0.033550</td>\n",
       "      <td>0.010823</td>\n",
       "      <td>0.008658</td>\n",
       "      <td>0.0</td>\n",
       "      <td>0.000000</td>\n",
       "      <td>0.016234</td>\n",
       "      <td>0.0</td>\n",
       "      <td>0.561688</td>\n",
       "      <td>0.003247</td>\n",
       "    </tr>\n",
       "    <tr>\n",
       "      <th>3</th>\n",
       "      <td>1014030</td>\n",
       "      <td>4</td>\n",
       "      <td>0</td>\n",
       "      <td>0</td>\n",
       "      <td>0</td>\n",
       "      <td>4</td>\n",
       "      <td>0</td>\n",
       "      <td>0</td>\n",
       "      <td>5</td>\n",
       "      <td>0</td>\n",
       "      <td>...</td>\n",
       "      <td>0.000000</td>\n",
       "      <td>0.000000</td>\n",
       "      <td>0.000000</td>\n",
       "      <td>0.000000</td>\n",
       "      <td>0.0</td>\n",
       "      <td>0.000000</td>\n",
       "      <td>0.000000</td>\n",
       "      <td>0.0</td>\n",
       "      <td>0.600000</td>\n",
       "      <td>0.000000</td>\n",
       "    </tr>\n",
       "    <tr>\n",
       "      <th>4</th>\n",
       "      <td>1014190</td>\n",
       "      <td>4</td>\n",
       "      <td>1</td>\n",
       "      <td>10</td>\n",
       "      <td>2</td>\n",
       "      <td>3</td>\n",
       "      <td>4</td>\n",
       "      <td>4</td>\n",
       "      <td>3</td>\n",
       "      <td>1</td>\n",
       "      <td>...</td>\n",
       "      <td>0.000000</td>\n",
       "      <td>0.000000</td>\n",
       "      <td>0.048193</td>\n",
       "      <td>0.000000</td>\n",
       "      <td>0.0</td>\n",
       "      <td>0.000000</td>\n",
       "      <td>0.000000</td>\n",
       "      <td>0.0</td>\n",
       "      <td>0.144578</td>\n",
       "      <td>0.000000</td>\n",
       "    </tr>\n",
       "  </tbody>\n",
       "</table>\n",
       "<p>5 rows × 46 columns</p>\n",
       "</div>"
      ],
      "text/plain": [
       "   Member id  SEC  FEH  MT  SEX  AGE  EDU  HS  CHILD  CS  ...  PropCat 6  \\\n",
       "0    1010010    4    3  10    1    4    4   2      4   1  ...   0.000000   \n",
       "1    1010020    3    2  10    2    2    4   4      2   1  ...   0.347048   \n",
       "2    1014020    2    3  10    2    4    5   6      4   1  ...   0.121212   \n",
       "3    1014030    4    0   0    0    4    0   0      5   0  ...   0.000000   \n",
       "4    1014190    4    1  10    2    3    4   4      3   1  ...   0.000000   \n",
       "\n",
       "   PropCat 7  PropCat 8  PropCat 9  PropCat 10  PropCat 11  PropCat 12  \\\n",
       "0   0.000000   0.000000   0.000000         0.0    0.000000    0.028037   \n",
       "1   0.026834   0.016100   0.014311         0.0    0.059034    0.000000   \n",
       "2   0.033550   0.010823   0.008658         0.0    0.000000    0.016234   \n",
       "3   0.000000   0.000000   0.000000         0.0    0.000000    0.000000   \n",
       "4   0.000000   0.048193   0.000000         0.0    0.000000    0.000000   \n",
       "\n",
       "   PropCat 13  PropCat 14  PropCat 15  \n",
       "0         0.0    0.130841    0.339564  \n",
       "1         0.0    0.080501    0.000000  \n",
       "2         0.0    0.561688    0.003247  \n",
       "3         0.0    0.600000    0.000000  \n",
       "4         0.0    0.144578    0.000000  \n",
       "\n",
       "[5 rows x 46 columns]"
      ]
     },
     "execution_count": 270,
     "metadata": {},
     "output_type": "execute_result"
    }
   ],
   "source": [
    "bath.head()"
   ]
  },
  {
   "cell_type": "code",
   "execution_count": 271,
   "metadata": {
    "scrolled": true
   },
   "outputs": [
    {
     "data": {
      "text/plain": [
       "Member id                0\n",
       "SEC                      0\n",
       "FEH                      0\n",
       "MT                       0\n",
       "SEX                      0\n",
       "AGE                      0\n",
       "EDU                      0\n",
       "HS                       0\n",
       "CHILD                    0\n",
       "CS                       0\n",
       "Affluence Index          0\n",
       "No. of Brands            0\n",
       "Brand Runs               0\n",
       "Total Volume             0\n",
       "No. of  Trans            0\n",
       "Value                    0\n",
       "Trans / Brand Runs       0\n",
       "Vol/Tran                 0\n",
       "Avg. Price               0\n",
       "Pur Vol No Promo - %     0\n",
       "Pur Vol Promo 6 %        0\n",
       "Pur Vol Other Promo %    0\n",
       "Br. Cd. 57, 144          0\n",
       "Br. Cd. 55               0\n",
       "Br. Cd. 272              0\n",
       "Br. Cd. 286              0\n",
       "Br. Cd. 24               0\n",
       "Br. Cd. 481              0\n",
       "Br. Cd. 352              0\n",
       "Br. Cd. 5                0\n",
       "Others 999               0\n",
       "Pr Cat 1                 0\n",
       "Pr Cat 2                 0\n",
       "Pr Cat 3                 0\n",
       "Pr Cat 4                 0\n",
       "PropCat 5                0\n",
       "PropCat 6                0\n",
       "PropCat 7                0\n",
       "PropCat 8                0\n",
       "PropCat 9                0\n",
       "PropCat 10               0\n",
       "PropCat 11               0\n",
       "PropCat 12               0\n",
       "PropCat 13               0\n",
       "PropCat 14               0\n",
       "PropCat 15               0\n",
       "dtype: int64"
      ]
     },
     "execution_count": 271,
     "metadata": {},
     "output_type": "execute_result"
    }
   ],
   "source": [
    "bath.isna().sum()"
   ]
  },
  {
   "cell_type": "code",
   "execution_count": 272,
   "metadata": {},
   "outputs": [
    {
     "data": {
      "text/plain": [
       "(600, 46)"
      ]
     },
     "execution_count": 272,
     "metadata": {},
     "output_type": "execute_result"
    }
   ],
   "source": [
    "bath.shape"
   ]
  },
  {
   "cell_type": "code",
   "execution_count": 273,
   "metadata": {},
   "outputs": [
    {
     "name": "stdout",
     "output_type": "stream",
     "text": [
      "['Member id', 'SEC', 'FEH', 'MT', 'SEX', 'AGE', 'EDU', 'HS', 'CHILD', 'CS', 'Affluence Index', 'No. of Brands', 'Brand Runs', 'Total Volume', 'No. of  Trans', 'Value', 'Trans / Brand Runs', 'Vol/Tran', 'Avg. Price ', 'Pur Vol No Promo - %', 'Pur Vol Promo 6 %', 'Pur Vol Other Promo %', 'Br. Cd. 57, 144', 'Br. Cd. 55', 'Br. Cd. 272', 'Br. Cd. 286', 'Br. Cd. 24', 'Br. Cd. 481', 'Br. Cd. 352', 'Br. Cd. 5', 'Others 999', 'Pr Cat 1', 'Pr Cat 2', 'Pr Cat 3', 'Pr Cat 4', 'PropCat 5', 'PropCat 6', 'PropCat 7', 'PropCat 8', 'PropCat 9', 'PropCat 10', 'PropCat 11', 'PropCat 12', 'PropCat 13', 'PropCat 14', 'PropCat 15']\n"
     ]
    }
   ],
   "source": [
    "print(list(bath.columns))"
   ]
  },
  {
   "cell_type": "code",
   "execution_count": 274,
   "metadata": {},
   "outputs": [],
   "source": [
    "# create kmeans objects\n",
    "kmeans = KMeans(n_clusters = 5)"
   ]
  },
  {
   "cell_type": "code",
   "execution_count": 275,
   "metadata": {},
   "outputs": [
    {
     "data": {
      "text/plain": [
       "KMeans(n_clusters=5)"
      ]
     },
     "execution_count": 275,
     "metadata": {},
     "output_type": "execute_result"
    }
   ],
   "source": [
    "# fit the kmeans object to the dataset\n",
    "kmeans.fit(bath)"
   ]
  },
  {
   "cell_type": "code",
   "execution_count": 276,
   "metadata": {},
   "outputs": [],
   "source": [
    "clusters = kmeans.cluster_centers_"
   ]
  },
  {
   "cell_type": "code",
   "execution_count": 277,
   "metadata": {},
   "outputs": [
    {
     "data": {
      "text/plain": [
       "array([[1.05758230e+06, 3.35632184e+00, 2.48275862e+00, 9.13793103e+00,\n",
       "        1.82758621e+00, 3.00000000e+00, 3.47126437e+00, 4.68965517e+00,\n",
       "        2.97701149e+00, 9.88505747e-01, 1.29885057e+01, 3.41379310e+00,\n",
       "        1.45172414e+01, 1.30906322e+04, 3.51264368e+01, 1.37557011e+03,\n",
       "        2.94609195e+00, 4.08272644e+02, 1.08244828e+01, 9.12674370e-01,\n",
       "        4.78721230e-02, 3.94535071e-02, 1.34249104e-01, 2.25414988e-01,\n",
       "        1.59239469e-02, 3.79817524e-02, 2.86594424e-02, 1.30410730e-02,\n",
       "        2.51847709e-02, 1.89693581e-02, 5.00072026e-01, 2.18604299e-01,\n",
       "        4.22594498e-01, 2.41554458e-01, 1.17246745e-01, 4.01645259e-01,\n",
       "        1.28790713e-01, 7.25480560e-02, 3.71482117e-02, 4.04366053e-02,\n",
       "        1.24158187e-02, 1.86634559e-02, 2.17258983e-03, 3.54052419e-02,\n",
       "        2.38122434e-01, 1.26516153e-02],\n",
       "       [1.15371502e+06, 1.65022422e+00, 1.64573991e+00, 6.99551570e+00,\n",
       "        1.65022422e+00, 3.20627803e+00, 4.72197309e+00, 3.65470852e+00,\n",
       "        3.34080717e+00, 8.74439462e-01, 2.08385650e+01, 3.80717489e+00,\n",
       "        1.71031390e+01, 9.43949327e+03, 2.89192825e+01, 1.23857404e+03,\n",
       "        1.95964126e+00, 3.55770987e+02, 1.36294170e+01, 9.01645488e-01,\n",
       "        6.64421383e-02, 3.19123736e-02, 2.06291026e-01, 3.08501915e-02,\n",
       "        5.23993171e-02, 3.94994261e-02, 2.89977592e-02, 3.49790659e-02,\n",
       "        3.38524658e-02, 1.84119261e-02, 5.54718822e-01, 3.88385319e-01,\n",
       "        5.34576916e-01, 3.40938433e-02, 4.29439213e-02, 4.80361202e-01,\n",
       "        7.52448789e-02, 1.11064860e-01, 1.25657194e-01, 2.88581507e-02,\n",
       "        2.88009085e-02, 3.78968514e-02, 8.87088233e-03, 3.72465602e-02,\n",
       "        3.35058536e-02, 3.24926581e-02],\n",
       "       [1.07750300e+06, 3.04444444e+00, 2.34444444e+00, 8.85555556e+00,\n",
       "        1.83333333e+00, 3.55555556e+00, 3.53333333e+00, 4.65555556e+00,\n",
       "        3.11111111e+00, 9.88888889e-01, 1.50666667e+01, 3.45555556e+00,\n",
       "        1.42888889e+01, 1.47291111e+04, 3.31000000e+01, 1.50028333e+03,\n",
       "        3.62700000e+00, 4.70238889e+02, 1.05552222e+01, 9.21350611e-01,\n",
       "        3.89276601e-02, 3.97217293e-02, 1.95020729e-01, 1.98476989e-01,\n",
       "        1.70067770e-02, 3.84174991e-02, 8.51419742e-03, 2.11248341e-02,\n",
       "        3.63649994e-02, 1.45605036e-02, 4.70513471e-01, 2.01705238e-01,\n",
       "        4.85638964e-01, 2.20163027e-01, 9.24927713e-02, 4.61818558e-01,\n",
       "        9.56408246e-02, 8.85798475e-02, 3.54737795e-02, 3.79975801e-02,\n",
       "        2.01645918e-02, 2.13869729e-02, 3.40228454e-03, 1.24195049e-02,\n",
       "        2.15565062e-01, 7.55099428e-03],\n",
       "       [1.02924292e+06, 3.55555556e+00, 2.12500000e+00, 8.65277778e+00,\n",
       "        1.63888889e+00, 3.13888889e+00, 2.58333333e+00, 4.50000000e+00,\n",
       "        3.36111111e+00, 8.47222222e-01, 1.01527778e+01, 3.20833333e+00,\n",
       "        1.25277778e+01, 1.37771528e+04, 2.79305556e+01, 1.19673403e+03,\n",
       "        3.80069444e+00, 5.21535278e+02, 8.79013889e+00, 9.44857537e-01,\n",
       "        3.21151315e-02, 2.30273315e-02, 1.53671681e-01, 3.58788213e-01,\n",
       "        1.05247147e-02, 4.57373987e-03, 2.56526974e-03, 2.25563687e-02,\n",
       "        3.25219631e-02, 1.25711363e-02, 4.02226914e-01, 1.13633934e-01,\n",
       "        3.38922111e-01, 3.73045051e-01, 1.74398904e-01, 3.84228565e-01,\n",
       "        4.78513447e-02, 6.72553254e-02, 3.79423128e-02, 1.44389643e-02,\n",
       "        7.26519107e-03, 2.25563687e-02, 8.78729772e-03, 2.56526974e-03,\n",
       "        3.69210104e-01, 3.78992559e-02],\n",
       "       [1.11049766e+06, 2.42187500e+00, 2.20312500e+00, 8.84375000e+00,\n",
       "        1.82031250e+00, 3.17187500e+00, 4.42968750e+00, 4.28906250e+00,\n",
       "        3.23437500e+00, 1.00000000e+00, 1.83437500e+01, 3.85937500e+00,\n",
       "        1.70781250e+01, 1.24015234e+04, 3.27890625e+01, 1.44816328e+03,\n",
       "        2.16625000e+00, 4.24234687e+02, 1.20068750e+01, 9.09250629e-01,\n",
       "        5.70528972e-02, 3.36964739e-02, 1.87456319e-01, 5.79844167e-02,\n",
       "        3.54251200e-02, 3.49156395e-02, 1.31404672e-02, 2.41677218e-02,\n",
       "        4.05031458e-02, 2.29688419e-02, 5.83438328e-01, 2.77018636e-01,\n",
       "        5.60927429e-01, 6.43000403e-02, 9.77538951e-02, 4.92238490e-01,\n",
       "        1.19974818e-01, 1.11342235e-01, 8.52427914e-02, 3.18020712e-02,\n",
       "        1.80344350e-02, 3.12246843e-02, 4.87631605e-03, 1.77645738e-02,\n",
       "        6.02809847e-02, 2.72186002e-02]])"
      ]
     },
     "execution_count": 277,
     "metadata": {},
     "output_type": "execute_result"
    }
   ],
   "source": [
    "clusters"
   ]
  },
  {
   "cell_type": "code",
   "execution_count": 278,
   "metadata": {},
   "outputs": [],
   "source": [
    "y_km = kmeans.fit_predict(bath)"
   ]
  },
  {
   "cell_type": "code",
   "execution_count": 279,
   "metadata": {},
   "outputs": [
    {
     "name": "stdout",
     "output_type": "stream",
     "text": [
      "[1 1 1 1 1 1 1 1 1 1 1 1 1 1 1 1 1 1 1 1 1 1 1 1 1 1 1 1 1 1 1 1 1 1 1 1 1\n",
      " 1 1 1 1 1 1 1 1 1 1 1 1 1 1 1 1 1 1 1 1 1 1 1 1 1 1 1 1 1 1 1 1 1 1 1 3 3\n",
      " 3 3 3 3 3 3 3 3 3 3 3 3 3 3 3 3 3 3 3 3 3 3 3 3 3 3 3 3 3 3 3 3 3 3 3 3 3\n",
      " 3 3 3 3 3 3 3 3 3 3 3 3 3 3 3 3 3 3 3 3 3 3 3 3 3 3 3 3 3 3 3 3 3 3 3 3 3\n",
      " 3 3 3 3 3 3 3 3 3 3 3 4 4 4 4 4 4 4 4 4 4 4 4 4 4 4 4 4 4 4 4 4 4 4 4 4 4\n",
      " 4 4 4 4 4 4 4 4 4 4 4 4 4 4 4 4 4 4 4 4 4 4 4 4 4 4 4 4 4 4 4 4 4 4 4 4 4\n",
      " 4 4 4 4 4 4 4 4 4 4 4 4 4 4 4 4 4 4 4 4 4 4 4 4 4 4 4 0 0 0 0 0 0 0 0 0 0\n",
      " 0 0 0 0 0 0 0 0 0 0 0 0 0 0 0 0 0 0 0 0 0 0 0 0 0 0 0 0 0 0 0 0 0 0 0 0 0\n",
      " 0 0 0 0 0 0 0 0 0 0 0 0 0 0 0 0 0 0 0 0 0 0 0 0 0 0 0 0 0 0 0 0 0 0 0 0 0\n",
      " 0 0 0 0 0 0 0 0 0 0 0 0 0 0 0 0 0 0 0 0 0 0 0 0 0 0 0 0 0 0 0 0 0 0 0 0 0\n",
      " 0 0 0 0 0 0 0 2 2 2 2 2 2 2 2 2 2 2 2 2 2 2 2 2 2 2 2 2 2 2 2 2 2 2 2 2 2\n",
      " 2 2 2 2 2 2 2 2 2 2 2 2 2 2 2 2 2 2 2 2 2 2 2 2 2 2 2 2 2 2 2 2 2 2 2 2 2\n",
      " 2 2 2 2 2 2 2 2 2 2 2 2 2 2 2 2 2 2 2 2 2 2 2 2 2 2 2 2 2 2 2 2 2 2 2 2 2\n",
      " 2 2 2 2 2 2 2 2 2 2 2 2 2 2 2 2 2 2 2 2 2 2 2 2 2 2 2 2 2 2 2 2 2 2 2 2 2\n",
      " 2 2 2 2 2 2 2 2 2 2 2 2 2 2 2 2 2 2 2 2 2 2 2 2 2 2 2 2 2 2 2 2 2 2 2 2 2\n",
      " 2 2 2 2 2 2 2 2 2 2 2 2 2 2 2 2 2 2 2 2 2 2 2 2 2 2 2 2 2 2 2 2 2 2 2 2 2\n",
      " 2 2 2 2 2 2 2 2]\n"
     ]
    }
   ],
   "source": [
    "print(kmeans.labels_)"
   ]
  },
  {
   "cell_type": "code",
   "execution_count": 280,
   "metadata": {},
   "outputs": [
    {
     "name": "stdout",
     "output_type": "stream",
     "text": [
      "70236471291.28682\n"
     ]
    }
   ],
   "source": [
    "print(kmeans.inertia_)"
   ]
  },
  {
   "cell_type": "code",
   "execution_count": 281,
   "metadata": {},
   "outputs": [
    {
     "data": {
      "text/plain": [
       "(600,)"
      ]
     },
     "execution_count": 281,
     "metadata": {},
     "output_type": "execute_result"
    }
   ],
   "source": [
    "kmeans.labels_.shape"
   ]
  },
  {
   "cell_type": "code",
   "execution_count": 282,
   "metadata": {},
   "outputs": [
    {
     "name": "stdout",
     "output_type": "stream",
     "text": [
      "inertia of:  2 cluster:  311871775894.5114\n",
      "inertia of:  3 cluster:  154282645040.54153\n",
      "inertia of:  4 cluster:  83169106029.20763\n",
      "inertia of:  5 cluster:  70236471291.28682\n",
      "inertia of:  6 cluster:  59144517687.95931\n",
      "inertia of:  7 cluster:  51255773691.22163\n",
      "inertia of:  8 cluster:  46135933087.09803\n",
      "inertia of:  9 cluster:  40837061559.04029\n",
      "inertia of:  10 cluster:  35829674893.02745\n",
      "inertia of:  11 cluster:  31791087412.19639\n",
      "inertia of:  12 cluster:  29083858363.243927\n",
      "inertia of:  13 cluster:  27448654666.350307\n",
      "inertia of:  14 cluster:  25733974297.059135\n",
      "inertia of:  15 cluster:  24274590583.91109\n",
      "inertia of:  16 cluster:  22977028435.058037\n",
      "inertia of:  17 cluster:  21942526362.411507\n",
      "inertia of:  18 cluster:  20740723393.810497\n",
      "inertia of:  19 cluster:  19752693072.19412\n"
     ]
    }
   ],
   "source": [
    "cluster_no = range(2,20)\n",
    "inertia = []\n",
    "for i in cluster_no:\n",
    "    kmeans = KMeans(n_clusters = i, random_state=2)\n",
    "    kmeans = kmeans.fit(bath)\n",
    "    u = kmeans.inertia_\n",
    "    inertia.append(u)\n",
    "    print('inertia of: ', i, 'cluster: ', u)"
   ]
  },
  {
   "cell_type": "code",
   "execution_count": 283,
   "metadata": {},
   "outputs": [
    {
     "data": {
      "text/plain": [
       "Text(0.5, 1.0, 'inertia plot per k')"
      ]
     },
     "execution_count": 283,
     "metadata": {},
     "output_type": "execute_result"
    },
    {
     "data": {
      "image/png": "[encoded data removed]",
      "text/plain": [
       "<Figure size 1152x432 with 1 Axes>"
      ]
     },
     "metadata": {
      "needs_background": "light"
     },
     "output_type": "display_data"
    }
   ],
   "source": [
    "# creating a plot to choose which inertia of cluster should we choose\n",
    "fig, (ax1) = plt.subplots(1,figsize = (16,6))\n",
    "xx = np.arange(len(cluster_no))\n",
    "ax1.plot(xx,inertia)\n",
    "ax1.set_xticks(xx)\n",
    "ax1.set_xticklabels(cluster_no, rotation='vertical')\n",
    "plt.xlabel('number of clusters')\n",
    "plt.ylabel('inertia score')\n",
    "plt.title('inertia plot per k')"
   ]
  },
  {
   "cell_type": "code",
   "execution_count": 284,
   "metadata": {},
   "outputs": [
    {
     "data": {
      "text/html": [
       "<div>\n",
       "<style scoped>\n",
       "    .dataframe tbody tr th:only-of-type {\n",
       "        vertical-align: middle;\n",
       "    }\n",
       "\n",
       "    .dataframe tbody tr th {\n",
       "        vertical-align: top;\n",
       "    }\n",
       "\n",
       "    .dataframe thead th {\n",
       "        text-align: right;\n",
       "    }\n",
       "</style>\n",
       "<table border=\"1\" class=\"dataframe\">\n",
       "  <thead>\n",
       "    <tr style=\"text-align: right;\">\n",
       "      <th></th>\n",
       "      <th>cluster0</th>\n",
       "      <th>cluster1</th>\n",
       "      <th>cluster2</th>\n",
       "      <th>cluster3</th>\n",
       "    </tr>\n",
       "  </thead>\n",
       "  <tbody>\n",
       "    <tr>\n",
       "      <th>0</th>\n",
       "      <td>128</td>\n",
       "      <td>91</td>\n",
       "      <td>223</td>\n",
       "      <td>158</td>\n",
       "    </tr>\n",
       "  </tbody>\n",
       "</table>\n",
       "</div>"
      ],
      "text/plain": [
       "   cluster0  cluster1  cluster2  cluster3\n",
       "0       128        91       223       158"
      ]
     },
     "execution_count": 284,
     "metadata": {},
     "output_type": "execute_result"
    }
   ],
   "source": [
    "# running kmeans using 5 clusters\n",
    "kmeans = KMeans(n_clusters = 4, random_state = 2)\n",
    "kmeans = kmeans.fit(bath)\n",
    "kmeans.labels_\n",
    "#prediction\n",
    "predictions  =kmeans.predict(bath)\n",
    "\n",
    "# calculating the count of cluster\n",
    "unique, counts = np.unique(predictions, return_counts = True)\n",
    "counts =counts.reshape(1,4)\n",
    "\n",
    "#creating a datagram\n",
    "countscldf = pd.DataFrame(counts,columns = ['cluster0','cluster1','cluster2','cluster3'])\n",
    "countscldf"
   ]
  },
  {
   "cell_type": "code",
   "execution_count": 285,
   "metadata": {},
   "outputs": [
    {
     "data": {
      "text/plain": [
       "array([1, 1, 1, 1, 1, 1, 1, 1, 1, 1, 1, 1, 1, 1, 1, 1, 1, 1, 1, 1, 1, 1,\n",
       "       1, 1, 1, 1, 1, 1, 1, 1, 1, 1, 1, 1, 1, 1, 1, 1, 1, 1, 1, 1, 1, 1,\n",
       "       1, 1, 1, 1, 1, 1, 1, 1, 1, 1, 1, 1, 1, 1, 1, 1, 1, 1, 1, 1, 1, 1,\n",
       "       1, 1, 1, 1, 1, 1, 1, 1, 1, 1, 1, 1, 1, 1, 1, 1, 1, 1, 1, 1, 1, 1,\n",
       "       1, 1, 1, 3, 3, 3, 3, 3, 3, 3, 3, 3, 3, 3, 3, 3, 3, 3, 3, 3, 3, 3,\n",
       "       3, 3, 3, 3, 3, 3, 3, 3, 3, 3, 3, 3, 3, 3, 3, 3, 3, 3, 3, 3, 3, 3,\n",
       "       3, 3, 3, 3, 3, 3, 3, 3, 3, 3, 3, 3, 3, 3, 3, 3, 3, 3, 3, 3, 3, 3,\n",
       "       3, 3, 3, 3, 3, 3, 3, 3, 3, 3, 3, 3, 3, 3, 3, 3, 3, 3, 3, 3, 3, 3,\n",
       "       3, 3, 3, 3, 3, 3, 3, 3, 3, 3, 3, 3, 3, 3, 3, 3, 3, 3, 3, 3, 3, 3,\n",
       "       3, 3, 3, 3, 3, 3, 3, 3, 3, 3, 3, 3, 3, 3, 3, 3, 3, 3, 3, 3, 3, 3,\n",
       "       3, 3, 3, 3, 3, 3, 3, 3, 3, 3, 3, 3, 3, 3, 3, 3, 3, 3, 3, 3, 3, 3,\n",
       "       3, 3, 3, 3, 3, 3, 3, 0, 0, 0, 0, 0, 0, 0, 0, 0, 0, 0, 0, 0, 0, 0,\n",
       "       0, 0, 0, 0, 0, 0, 0, 0, 0, 0, 0, 0, 0, 0, 0, 0, 0, 0, 0, 0, 0, 0,\n",
       "       0, 0, 0, 0, 0, 0, 0, 0, 0, 0, 0, 0, 0, 0, 0, 0, 0, 0, 0, 0, 0, 0,\n",
       "       0, 0, 0, 0, 0, 0, 0, 0, 0, 0, 0, 0, 0, 0, 0, 0, 0, 0, 0, 0, 0, 0,\n",
       "       0, 0, 0, 0, 0, 0, 0, 0, 0, 0, 0, 0, 0, 0, 0, 0, 0, 0, 0, 0, 0, 0,\n",
       "       0, 0, 0, 0, 0, 0, 0, 0, 0, 0, 0, 0, 0, 0, 0, 0, 0, 0, 0, 0, 0, 0,\n",
       "       0, 0, 0, 2, 2, 2, 2, 2, 2, 2, 2, 2, 2, 2, 2, 2, 2, 2, 2, 2, 2, 2,\n",
       "       2, 2, 2, 2, 2, 2, 2, 2, 2, 2, 2, 2, 2, 2, 2, 2, 2, 2, 2, 2, 2, 2,\n",
       "       2, 2, 2, 2, 2, 2, 2, 2, 2, 2, 2, 2, 2, 2, 2, 2, 2, 2, 2, 2, 2, 2,\n",
       "       2, 2, 2, 2, 2, 2, 2, 2, 2, 2, 2, 2, 2, 2, 2, 2, 2, 2, 2, 2, 2, 2,\n",
       "       2, 2, 2, 2, 2, 2, 2, 2, 2, 2, 2, 2, 2, 2, 2, 2, 2, 2, 2, 2, 2, 2,\n",
       "       2, 2, 2, 2, 2, 2, 2, 2, 2, 2, 2, 2, 2, 2, 2, 2, 2, 2, 2, 2, 2, 2,\n",
       "       2, 2, 2, 2, 2, 2, 2, 2, 2, 2, 2, 2, 2, 2, 2, 2, 2, 2, 2, 2, 2, 2,\n",
       "       2, 2, 2, 2, 2, 2, 2, 2, 2, 2, 2, 2, 2, 2, 2, 2, 2, 2, 2, 2, 2, 2,\n",
       "       2, 2, 2, 2, 2, 2, 2, 2, 2, 2, 2, 2, 2, 2, 2, 2, 2, 2, 2, 2, 2, 2,\n",
       "       2, 2, 2, 2, 2, 2, 2, 2, 2, 2, 2, 2, 2, 2, 2, 2, 2, 2, 2, 2, 2, 2,\n",
       "       2, 2, 2, 2, 2, 2])"
      ]
     },
     "execution_count": 285,
     "metadata": {},
     "output_type": "execute_result"
    }
   ],
   "source": [
    "# checking the kmeans labels \n",
    "kmeans.labels_"
   ]
  },
  {
   "cell_type": "code",
   "execution_count": 286,
   "metadata": {},
   "outputs": [
    {
     "data": {
      "text/plain": [
       "array([1, 1, 1, 1, 1, 1, 1, 1, 1, 1, 1, 1, 1, 1, 1, 1, 1, 1, 1, 1, 1, 1,\n",
       "       1, 1, 1, 1, 1, 1, 1, 1, 1, 1, 1, 1, 1, 1, 1, 1, 1, 1, 1, 1, 1, 1,\n",
       "       1, 1, 1, 1, 1, 1, 1, 1, 1, 1, 1, 1, 1, 1, 1, 1, 1, 1, 1, 1, 1, 1,\n",
       "       1, 1, 1, 1, 1, 1, 1, 1, 1, 1, 1, 1, 1, 1, 1, 1, 1, 1, 1, 1, 1, 1,\n",
       "       1, 1, 1, 3, 3, 3, 3, 3, 3, 3, 3, 3, 3, 3, 3, 3, 3, 3, 3, 3, 3, 3,\n",
       "       3, 3, 3, 3, 3, 3, 3, 3, 3, 3, 3, 3, 3, 3, 3, 3, 3, 3, 3, 3, 3, 3,\n",
       "       3, 3, 3, 3, 3, 3, 3, 3, 3, 3, 3, 3, 3, 3, 3, 3, 3, 3, 3, 3, 3, 3,\n",
       "       3, 3, 3, 3, 3, 3, 3, 3, 3, 3, 3, 3, 3, 3, 3, 3, 3, 3, 3, 3, 3, 3,\n",
       "       3, 3, 3, 3, 3, 3, 3, 3, 3, 3, 3, 3, 3, 3, 3, 3, 3, 3, 3, 3, 3, 3,\n",
       "       3, 3, 3, 3, 3, 3, 3, 3, 3, 3, 3, 3, 3, 3, 3, 3, 3, 3, 3, 3, 3, 3,\n",
       "       3, 3, 3, 3, 3, 3, 3, 3, 3, 3, 3, 3, 3, 3, 3, 3, 3, 3, 3, 3, 3, 3,\n",
       "       3, 3, 3, 3, 3, 3, 3, 0, 0, 0, 0, 0, 0, 0, 0, 0, 0, 0, 0, 0, 0, 0,\n",
       "       0, 0, 0, 0, 0, 0, 0, 0, 0, 0, 0, 0, 0, 0, 0, 0, 0, 0, 0, 0, 0, 0,\n",
       "       0, 0, 0, 0, 0, 0, 0, 0, 0, 0, 0, 0, 0, 0, 0, 0, 0, 0, 0, 0, 0, 0,\n",
       "       0, 0, 0, 0, 0, 0, 0, 0, 0, 0, 0, 0, 0, 0, 0, 0, 0, 0, 0, 0, 0, 0,\n",
       "       0, 0, 0, 0, 0, 0, 0, 0, 0, 0, 0, 0, 0, 0, 0, 0, 0, 0, 0, 0, 0, 0,\n",
       "       0, 0, 0, 0, 0, 0, 0, 0, 0, 0, 0, 0, 0, 0, 0, 0, 0, 0, 0, 0, 0, 0,\n",
       "       0, 0, 0, 2, 2, 2, 2, 2, 2, 2, 2, 2, 2, 2, 2, 2, 2, 2, 2, 2, 2, 2,\n",
       "       2, 2, 2, 2, 2, 2, 2, 2, 2, 2, 2, 2, 2, 2, 2, 2, 2, 2, 2, 2, 2, 2,\n",
       "       2, 2, 2, 2, 2, 2, 2, 2, 2, 2, 2, 2, 2, 2, 2, 2, 2, 2, 2, 2, 2, 2,\n",
       "       2, 2, 2, 2, 2, 2, 2, 2, 2, 2, 2, 2, 2, 2, 2, 2, 2, 2, 2, 2, 2, 2,\n",
       "       2, 2, 2, 2, 2, 2, 2, 2, 2, 2, 2, 2, 2, 2, 2, 2, 2, 2, 2, 2, 2, 2,\n",
       "       2, 2, 2, 2, 2, 2, 2, 2, 2, 2, 2, 2, 2, 2, 2, 2, 2, 2, 2, 2, 2, 2,\n",
       "       2, 2, 2, 2, 2, 2, 2, 2, 2, 2, 2, 2, 2, 2, 2, 2, 2, 2, 2, 2, 2, 2,\n",
       "       2, 2, 2, 2, 2, 2, 2, 2, 2, 2, 2, 2, 2, 2, 2, 2, 2, 2, 2, 2, 2, 2,\n",
       "       2, 2, 2, 2, 2, 2, 2, 2, 2, 2, 2, 2, 2, 2, 2, 2, 2, 2, 2, 2, 2, 2,\n",
       "       2, 2, 2, 2, 2, 2, 2, 2, 2, 2, 2, 2, 2, 2, 2, 2, 2, 2, 2, 2, 2, 2,\n",
       "       2, 2, 2, 2, 2, 2])"
      ]
     },
     "execution_count": 286,
     "metadata": {},
     "output_type": "execute_result"
    }
   ],
   "source": [
    "# checking if the predictions matches the labels \n",
    "predictions"
   ]
  },
  {
   "cell_type": "code",
   "execution_count": 306,
   "metadata": {},
   "outputs": [],
   "source": [
    "# setting x variable and y variable and target\n",
    "x = bath\n",
    "y = predictions\n",
    "target_name = ['cluster0','cluster1','cluster2','cluster3']\n",
    "# setting the pca\n",
    "pca = PCA(n_components = 2, random_state = 453)\n",
    "pca_fit = pca.fit(x).transform(x)\n"
   ]
  },
  {
   "cell_type": "code",
   "execution_count": 334,
   "metadata": {},
   "outputs": [],
   "source": [
    "#filter rows of original data\n",
    "filtered_label0 = pca_fit[predictions == 0]"
   ]
  },
  {
   "cell_type": "code",
   "execution_count": 337,
   "metadata": {},
   "outputs": [
    {
     "data": {
      "image/png": "[encoded data removed]",
      "text/plain": [
       "<Figure size 432x288 with 1 Axes>"
      ]
     },
     "metadata": {
      "needs_background": "light"
     },
     "output_type": "display_data"
    }
   ],
   "source": [
    "#plotting the results\n",
    "plt.scatter(filtered_label0[:,0] , filtered_label0[:,1])\n",
    "plt.show()"
   ]
  },
  {
   "cell_type": "code",
   "execution_count": 338,
   "metadata": {},
   "outputs": [],
   "source": [
    "#Getting unique labels\n",
    "u_labels = np.unique(predictions)"
   ]
  },
  {
   "cell_type": "code",
   "execution_count": 343,
   "metadata": {},
   "outputs": [
    {
     "data": {
      "image/png": "[encoded data removed]",
      "text/plain": [
       "<Figure size 432x288 with 1 Axes>"
      ]
     },
     "metadata": {
      "needs_background": "light"
     },
     "output_type": "display_data"
    }
   ],
   "source": [
    "#plotting the results:\n",
    " \n",
    "for i in u_labels:\n",
    "    plt.scatter(pca_fit[predictions == i , 0], pca_fit[predictions == i , 1] , label = target_name)\n",
    "plt.legend()\n",
    "plt.show()"
   ]
  },
  {
   "cell_type": "markdown",
   "metadata": {},
   "source": [
    "#"
   ]
  },
  {
   "cell_type": "markdown",
   "metadata": {},
   "source": [
    "## running kmeans with variables that describe purchase behavior (including brand loyalty)"
   ]
  },
  {
   "cell_type": "code",
   "execution_count": 130,
   "metadata": {},
   "outputs": [
    {
     "data": {
      "text/plain": [
       "Index(['Member id', 'SEC', 'FEH', 'MT', 'SEX', 'AGE', 'EDU', 'HS', 'CHILD',\n",
       "       'CS', 'Affluence Index', 'No. of Brands', 'Brand Runs', 'Total Volume',\n",
       "       'No. of  Trans', 'Value', 'Trans / Brand Runs', 'Vol/Tran',\n",
       "       'Avg. Price ', 'Pur Vol No Promo - %', 'Pur Vol Promo 6 %',\n",
       "       'Pur Vol Other Promo %', 'Br. Cd. 57, 144', 'Br. Cd. 55', 'Br. Cd. 272',\n",
       "       'Br. Cd. 286', 'Br. Cd. 24', 'Br. Cd. 481', 'Br. Cd. 352', 'Br. Cd. 5',\n",
       "       'Others 999', 'Pr Cat 1', 'Pr Cat 2', 'Pr Cat 3', 'Pr Cat 4',\n",
       "       'PropCat 5', 'PropCat 6', 'PropCat 7', 'PropCat 8', 'PropCat 9',\n",
       "       'PropCat 10', 'PropCat 11', 'PropCat 12', 'PropCat 13', 'PropCat 14',\n",
       "       'PropCat 15'],\n",
       "      dtype='object')"
      ]
     },
     "execution_count": 130,
     "metadata": {},
     "output_type": "execute_result"
    }
   ],
   "source": [
    "bath.columns"
   ]
  },
  {
   "cell_type": "code",
   "execution_count": 134,
   "metadata": {},
   "outputs": [],
   "source": [
    "bath_pb = bath.iloc[:,:-15]"
   ]
  },
  {
   "cell_type": "code",
   "execution_count": 136,
   "metadata": {},
   "outputs": [
    {
     "data": {
      "text/plain": [
       "(600, 31)"
      ]
     },
     "execution_count": 136,
     "metadata": {},
     "output_type": "execute_result"
    }
   ],
   "source": [
    "bath_pb.shape"
   ]
  },
  {
   "cell_type": "code",
   "execution_count": 139,
   "metadata": {},
   "outputs": [
    {
     "data": {
      "text/plain": [
       "Index(['Member id', 'SEC', 'FEH', 'MT', 'SEX', 'AGE', 'EDU', 'HS', 'CHILD',\n",
       "       'CS', 'Affluence Index', 'No. of Brands', 'Brand Runs', 'Total Volume',\n",
       "       'No. of  Trans', 'Value', 'Trans / Brand Runs', 'Vol/Tran',\n",
       "       'Avg. Price ', 'Pur Vol No Promo - %', 'Pur Vol Promo 6 %',\n",
       "       'Pur Vol Other Promo %', 'Br. Cd. 57, 144', 'Br. Cd. 55', 'Br. Cd. 272',\n",
       "       'Br. Cd. 286', 'Br. Cd. 24', 'Br. Cd. 481', 'Br. Cd. 352', 'Br. Cd. 5',\n",
       "       'Others 999'],\n",
       "      dtype='object')"
      ]
     },
     "execution_count": 139,
     "metadata": {},
     "output_type": "execute_result"
    }
   ],
   "source": [
    "bath_pb.columns"
   ]
  },
  {
   "cell_type": "code",
   "execution_count": 140,
   "metadata": {},
   "outputs": [],
   "source": [
    "# create kmeans objects\n",
    "kmeans_pb = KMeans(n_clusters = 4)"
   ]
  },
  {
   "cell_type": "code",
   "execution_count": 142,
   "metadata": {},
   "outputs": [
    {
     "data": {
      "text/plain": [
       "KMeans(n_clusters=4)"
      ]
     },
     "execution_count": 142,
     "metadata": {},
     "output_type": "execute_result"
    }
   ],
   "source": [
    "# fit the kmeans object to the dataset\n",
    "kmeans_pb.fit(bath_pb)"
   ]
  },
  {
   "cell_type": "code",
   "execution_count": 144,
   "metadata": {},
   "outputs": [],
   "source": [
    "clusters_pb = kmeans_pb.cluster_centers_"
   ]
  },
  {
   "cell_type": "code",
   "execution_count": 145,
   "metadata": {},
   "outputs": [
    {
     "data": {
      "text/plain": [
       "array([[1.11049766e+06, 2.42187500e+00, 2.20312500e+00, 8.84375000e+00,\n",
       "        1.82031250e+00, 3.17187500e+00, 4.42968750e+00, 4.28906250e+00,\n",
       "        3.23437500e+00, 1.00000000e+00, 1.83437500e+01, 3.85937500e+00,\n",
       "        1.70781250e+01, 1.24015234e+04, 3.27890625e+01, 1.44816328e+03,\n",
       "        2.16625000e+00, 4.24234687e+02, 1.20068750e+01, 9.09250629e-01,\n",
       "        5.70528972e-02, 3.36964739e-02, 1.87456319e-01, 5.79844167e-02,\n",
       "        3.54251200e-02, 3.49156395e-02, 1.31404672e-02, 2.41677218e-02,\n",
       "        4.05031458e-02, 2.29688419e-02, 5.83438328e-01],\n",
       "       [1.07022797e+06, 3.17088608e+00, 2.43037975e+00, 9.05696203e+00,\n",
       "        1.84177215e+00, 3.25949367e+00, 3.67721519e+00, 4.74683544e+00,\n",
       "        3.00000000e+00, 1.01265823e+00, 1.44936709e+01, 3.44303797e+00,\n",
       "        1.48164557e+01, 1.42074684e+04, 3.49177215e+01, 1.47474905e+03,\n",
       "        3.31170886e+00, 4.45032468e+02, 1.06525949e+01, 9.18667377e-01,\n",
       "        4.57567455e-02, 3.55758773e-02, 1.68378458e-01, 2.03297540e-01,\n",
       "        1.77313072e-02, 4.11013961e-02, 1.18305638e-02, 1.83693221e-02,\n",
       "        3.42748107e-02, 1.77424208e-02, 4.86996917e-01],\n",
       "       [1.15371502e+06, 1.65022422e+00, 1.64573991e+00, 6.99551570e+00,\n",
       "        1.65022422e+00, 3.20627803e+00, 4.72197309e+00, 3.65470852e+00,\n",
       "        3.34080717e+00, 8.74439462e-01, 2.08385650e+01, 3.80717489e+00,\n",
       "        1.71031390e+01, 9.43949327e+03, 2.89192825e+01, 1.23857404e+03,\n",
       "        1.95964126e+00, 3.55770987e+02, 1.36294170e+01, 9.01645488e-01,\n",
       "        6.64421383e-02, 3.19123736e-02, 2.06291026e-01, 3.08501915e-02,\n",
       "        5.23993171e-02, 3.94994261e-02, 2.89977592e-02, 3.49790659e-02,\n",
       "        3.38524658e-02, 1.84119261e-02, 5.54718822e-01],\n",
       "       [1.03290549e+06, 3.52747253e+00, 2.15384615e+00, 8.61538462e+00,\n",
       "        1.65934066e+00, 3.20879121e+00, 2.47252747e+00, 4.40659341e+00,\n",
       "        3.37362637e+00, 8.35164835e-01, 1.01868132e+01, 3.24175824e+00,\n",
       "        1.21978022e+01, 1.33151648e+04, 2.77912088e+01, 1.18521538e+03,\n",
       "        3.66087912e+00, 4.95347582e+02, 9.24703297e+00, 9.36313431e-01,\n",
       "        3.02317339e-02, 3.34548354e-02, 1.50462664e-01, 3.42700802e-01,\n",
       "        9.58490370e-03, 6.56347330e-03, 1.73090065e-02, 1.93133414e-02,\n",
       "        2.62646841e-02, 1.16769100e-02, 4.16124215e-01]])"
      ]
     },
     "execution_count": 145,
     "metadata": {},
     "output_type": "execute_result"
    }
   ],
   "source": [
    "clusters_pb"
   ]
  },
  {
   "cell_type": "code",
   "execution_count": 147,
   "metadata": {},
   "outputs": [
    {
     "name": "stdout",
     "output_type": "stream",
     "text": [
      "83169105709.69818\n"
     ]
    }
   ],
   "source": [
    "print(kmeans_pb.inertia_)"
   ]
  },
  {
   "cell_type": "code",
   "execution_count": 149,
   "metadata": {},
   "outputs": [
    {
     "name": "stdout",
     "output_type": "stream",
     "text": [
      "[3 3 3 3 3 3 3 3 3 3 3 3 3 3 3 3 3 3 3 3 3 3 3 3 3 3 3 3 3 3 3 3 3 3 3 3 3\n",
      " 3 3 3 3 3 3 3 3 3 3 3 3 3 3 3 3 3 3 3 3 3 3 3 3 3 3 3 3 3 3 3 3 3 3 3 3 3\n",
      " 3 3 3 3 3 3 3 3 3 3 3 3 3 3 3 3 3 1 1 1 1 1 1 1 1 1 1 1 1 1 1 1 1 1 1 1 1\n",
      " 1 1 1 1 1 1 1 1 1 1 1 1 1 1 1 1 1 1 1 1 1 1 1 1 1 1 1 1 1 1 1 1 1 1 1 1 1\n",
      " 1 1 1 1 1 1 1 1 1 1 1 1 1 1 1 1 1 1 1 1 1 1 1 1 1 1 1 1 1 1 1 1 1 1 1 1 1\n",
      " 1 1 1 1 1 1 1 1 1 1 1 1 1 1 1 1 1 1 1 1 1 1 1 1 1 1 1 1 1 1 1 1 1 1 1 1 1\n",
      " 1 1 1 1 1 1 1 1 1 1 1 1 1 1 1 1 1 1 1 1 1 1 1 1 1 1 1 0 0 0 0 0 0 0 0 0 0\n",
      " 0 0 0 0 0 0 0 0 0 0 0 0 0 0 0 0 0 0 0 0 0 0 0 0 0 0 0 0 0 0 0 0 0 0 0 0 0\n",
      " 0 0 0 0 0 0 0 0 0 0 0 0 0 0 0 0 0 0 0 0 0 0 0 0 0 0 0 0 0 0 0 0 0 0 0 0 0\n",
      " 0 0 0 0 0 0 0 0 0 0 0 0 0 0 0 0 0 0 0 0 0 0 0 0 0 0 0 0 0 0 0 0 0 0 0 0 0\n",
      " 0 0 0 0 0 0 0 2 2 2 2 2 2 2 2 2 2 2 2 2 2 2 2 2 2 2 2 2 2 2 2 2 2 2 2 2 2\n",
      " 2 2 2 2 2 2 2 2 2 2 2 2 2 2 2 2 2 2 2 2 2 2 2 2 2 2 2 2 2 2 2 2 2 2 2 2 2\n",
      " 2 2 2 2 2 2 2 2 2 2 2 2 2 2 2 2 2 2 2 2 2 2 2 2 2 2 2 2 2 2 2 2 2 2 2 2 2\n",
      " 2 2 2 2 2 2 2 2 2 2 2 2 2 2 2 2 2 2 2 2 2 2 2 2 2 2 2 2 2 2 2 2 2 2 2 2 2\n",
      " 2 2 2 2 2 2 2 2 2 2 2 2 2 2 2 2 2 2 2 2 2 2 2 2 2 2 2 2 2 2 2 2 2 2 2 2 2\n",
      " 2 2 2 2 2 2 2 2 2 2 2 2 2 2 2 2 2 2 2 2 2 2 2 2 2 2 2 2 2 2 2 2 2 2 2 2 2\n",
      " 2 2 2 2 2 2 2 2]\n"
     ]
    }
   ],
   "source": [
    "print(kmeans_pb.labels_)"
   ]
  },
  {
   "cell_type": "code",
   "execution_count": 150,
   "metadata": {},
   "outputs": [
    {
     "data": {
      "text/plain": [
       "(600,)"
      ]
     },
     "execution_count": 150,
     "metadata": {},
     "output_type": "execute_result"
    }
   ],
   "source": [
    "kmeans.labels_.shape"
   ]
  },
  {
   "cell_type": "code",
   "execution_count": 218,
   "metadata": {},
   "outputs": [
    {
     "name": "stdout",
     "output_type": "stream",
     "text": [
      "inertia of:  2 cluster:  311871775568.51526\n",
      "inertia of:  3 cluster:  154282644713.72864\n",
      "inertia of:  4 cluster:  83169105709.69818\n",
      "inertia of:  5 cluster:  70236470972.39346\n",
      "inertia of:  6 cluster:  59144517369.60925\n",
      "inertia of:  7 cluster:  51255773373.740326\n",
      "inertia of:  8 cluster:  46135932770.387505\n",
      "inertia of:  9 cluster:  40837061242.42534\n",
      "inertia of:  10 cluster:  35829674576.805084\n",
      "inertia of:  11 cluster:  31791087096.521645\n",
      "inertia of:  12 cluster:  29083858048.469578\n",
      "inertia of:  13 cluster:  27448654352.131107\n",
      "inertia of:  14 cluster:  25733973983.17571\n",
      "inertia of:  15 cluster:  24274590270.277073\n",
      "inertia of:  16 cluster:  22977028122.944565\n",
      "inertia of:  17 cluster:  21942526050.140312\n",
      "inertia of:  18 cluster:  20740723085.797886\n",
      "inertia of:  19 cluster:  19752692759.86632\n"
     ]
    }
   ],
   "source": [
    "cluster_no_pb = range(2,20)\n",
    "inertia_pb = []\n",
    "for i in cluster_no_pb:\n",
    "    kmeans_pb = KMeans(n_clusters = i, random_state=2)\n",
    "    kmeans_pb = kmeans_pb.fit(bath_pb)\n",
    "    n = kmeans_pb.inertia_\n",
    "    inertia_pb.append(n)\n",
    "    print('inertia of: ', i, 'cluster: ', n)"
   ]
  },
  {
   "cell_type": "code",
   "execution_count": 219,
   "metadata": {},
   "outputs": [
    {
     "data": {
      "text/plain": [
       "Text(0.5, 1.0, 'inertia plot per k')"
      ]
     },
     "execution_count": 219,
     "metadata": {},
     "output_type": "execute_result"
    },
    {
     "data": {
      "image/png": "[encoded data removed]",
      "text/plain": [
       "<Figure size 1152x432 with 1 Axes>"
      ]
     },
     "metadata": {
      "needs_background": "light"
     },
     "output_type": "display_data"
    }
   ],
   "source": [
    "# creating a plot to choose which inertia of cluster should we choose\n",
    "fig, (ax1) = plt.subplots(1,figsize = (16,6))\n",
    "xx = np.arange(len(cluster_no_pb))\n",
    "ax1.plot(xx,inertia_pb)\n",
    "ax1.set_xticks(xx)\n",
    "ax1.set_xticklabels(cluster_no_pb, rotation='vertical')\n",
    "plt.xlabel('number of clusters')\n",
    "plt.ylabel('inertia score')\n",
    "plt.title('inertia plot per k')"
   ]
  },
  {
   "cell_type": "code",
   "execution_count": 220,
   "metadata": {},
   "outputs": [
    {
     "data": {
      "text/html": [
       "<div>\n",
       "<style scoped>\n",
       "    .dataframe tbody tr th:only-of-type {\n",
       "        vertical-align: middle;\n",
       "    }\n",
       "\n",
       "    .dataframe tbody tr th {\n",
       "        vertical-align: top;\n",
       "    }\n",
       "\n",
       "    .dataframe thead th {\n",
       "        text-align: right;\n",
       "    }\n",
       "</style>\n",
       "<table border=\"1\" class=\"dataframe\">\n",
       "  <thead>\n",
       "    <tr style=\"text-align: right;\">\n",
       "      <th></th>\n",
       "      <th>cluster0</th>\n",
       "      <th>cluster1</th>\n",
       "      <th>cluster2</th>\n",
       "      <th>cluster3</th>\n",
       "    </tr>\n",
       "  </thead>\n",
       "  <tbody>\n",
       "    <tr>\n",
       "      <th>0</th>\n",
       "      <td>128</td>\n",
       "      <td>91</td>\n",
       "      <td>223</td>\n",
       "      <td>158</td>\n",
       "    </tr>\n",
       "  </tbody>\n",
       "</table>\n",
       "</div>"
      ],
      "text/plain": [
       "   cluster0  cluster1  cluster2  cluster3\n",
       "0       128        91       223       158"
      ]
     },
     "execution_count": 220,
     "metadata": {},
     "output_type": "execute_result"
    }
   ],
   "source": [
    "# running kmeans using 5 clusters\n",
    "kmeans_pb = KMeans(n_clusters = 4, random_state = 2)\n",
    "kmeans_pb = kmeans_pb.fit(bath_pb)\n",
    "kmeans_pb.labels_\n",
    "#prediction\n",
    "predictions_pb  =kmeans_pb.predict(bath_pb)\n",
    "\n",
    "# calculating the count of cluster\n",
    "unique_pb, counts_pb = np.unique(predictions_pb, return_counts = True)\n",
    "counts_pb =counts_pb.reshape(1,4)\n",
    "\n",
    "#creating a datagram\n",
    "countscldf_pb = pd.DataFrame(counts_pb,columns = ['cluster0','cluster1','cluster2','cluster3'])\n",
    "countscldf_pb"
   ]
  },
  {
   "cell_type": "code",
   "execution_count": 158,
   "metadata": {},
   "outputs": [
    {
     "data": {
      "text/plain": [
       "array([1, 1, 1, 1, 1, 1, 1, 1, 1, 1, 1, 1, 1, 1, 1, 1, 1, 1, 1, 1, 1, 1,\n",
       "       1, 1, 1, 1, 1, 1, 1, 1, 1, 1, 1, 1, 1, 1, 1, 1, 1, 1, 1, 1, 1, 1,\n",
       "       1, 1, 1, 1, 1, 1, 1, 1, 1, 1, 1, 1, 1, 1, 1, 1, 1, 1, 1, 1, 1, 1,\n",
       "       1, 1, 1, 1, 1, 1, 1, 1, 1, 1, 1, 1, 1, 1, 1, 1, 1, 1, 1, 1, 1, 1,\n",
       "       1, 1, 1, 3, 3, 3, 3, 3, 3, 3, 3, 3, 3, 3, 3, 3, 3, 3, 3, 3, 3, 3,\n",
       "       3, 3, 3, 3, 3, 3, 3, 3, 3, 3, 3, 3, 3, 3, 3, 3, 3, 3, 3, 3, 3, 3,\n",
       "       3, 3, 3, 3, 3, 3, 3, 3, 3, 3, 3, 3, 3, 3, 3, 3, 3, 3, 3, 3, 3, 3,\n",
       "       3, 3, 3, 3, 3, 3, 3, 3, 3, 3, 3, 3, 3, 3, 3, 3, 3, 3, 3, 3, 3, 3,\n",
       "       3, 3, 3, 3, 3, 3, 3, 3, 3, 3, 3, 3, 3, 3, 3, 3, 3, 3, 3, 3, 3, 3,\n",
       "       3, 3, 3, 3, 3, 3, 3, 3, 3, 3, 3, 3, 3, 3, 3, 3, 3, 3, 3, 3, 3, 3,\n",
       "       3, 3, 3, 3, 3, 3, 3, 3, 3, 3, 3, 3, 3, 3, 3, 3, 3, 3, 3, 3, 3, 3,\n",
       "       3, 3, 3, 3, 3, 3, 3, 0, 0, 0, 0, 0, 0, 0, 0, 0, 0, 0, 0, 0, 0, 0,\n",
       "       0, 0, 0, 0, 0, 0, 0, 0, 0, 0, 0, 0, 0, 0, 0, 0, 0, 0, 0, 0, 0, 0,\n",
       "       0, 0, 0, 0, 0, 0, 0, 0, 0, 0, 0, 0, 0, 0, 0, 0, 0, 0, 0, 0, 0, 0,\n",
       "       0, 0, 0, 0, 0, 0, 0, 0, 0, 0, 0, 0, 0, 0, 0, 0, 0, 0, 0, 0, 0, 0,\n",
       "       0, 0, 0, 0, 0, 0, 0, 0, 0, 0, 0, 0, 0, 0, 0, 0, 0, 0, 0, 0, 0, 0,\n",
       "       0, 0, 0, 0, 0, 0, 0, 0, 0, 0, 0, 0, 0, 0, 0, 0, 0, 0, 0, 0, 0, 0,\n",
       "       0, 0, 0, 2, 2, 2, 2, 2, 2, 2, 2, 2, 2, 2, 2, 2, 2, 2, 2, 2, 2, 2,\n",
       "       2, 2, 2, 2, 2, 2, 2, 2, 2, 2, 2, 2, 2, 2, 2, 2, 2, 2, 2, 2, 2, 2,\n",
       "       2, 2, 2, 2, 2, 2, 2, 2, 2, 2, 2, 2, 2, 2, 2, 2, 2, 2, 2, 2, 2, 2,\n",
       "       2, 2, 2, 2, 2, 2, 2, 2, 2, 2, 2, 2, 2, 2, 2, 2, 2, 2, 2, 2, 2, 2,\n",
       "       2, 2, 2, 2, 2, 2, 2, 2, 2, 2, 2, 2, 2, 2, 2, 2, 2, 2, 2, 2, 2, 2,\n",
       "       2, 2, 2, 2, 2, 2, 2, 2, 2, 2, 2, 2, 2, 2, 2, 2, 2, 2, 2, 2, 2, 2,\n",
       "       2, 2, 2, 2, 2, 2, 2, 2, 2, 2, 2, 2, 2, 2, 2, 2, 2, 2, 2, 2, 2, 2,\n",
       "       2, 2, 2, 2, 2, 2, 2, 2, 2, 2, 2, 2, 2, 2, 2, 2, 2, 2, 2, 2, 2, 2,\n",
       "       2, 2, 2, 2, 2, 2, 2, 2, 2, 2, 2, 2, 2, 2, 2, 2, 2, 2, 2, 2, 2, 2,\n",
       "       2, 2, 2, 2, 2, 2, 2, 2, 2, 2, 2, 2, 2, 2, 2, 2, 2, 2, 2, 2, 2, 2,\n",
       "       2, 2, 2, 2, 2, 2])"
      ]
     },
     "execution_count": 158,
     "metadata": {},
     "output_type": "execute_result"
    }
   ],
   "source": [
    "kmeans_pb.labels_"
   ]
  },
  {
   "cell_type": "code",
   "execution_count": 159,
   "metadata": {},
   "outputs": [
    {
     "data": {
      "text/plain": [
       "array([1, 1, 1, 1, 1, 1, 1, 1, 1, 1, 1, 1, 1, 1, 1, 1, 1, 1, 1, 1, 1, 1,\n",
       "       1, 1, 1, 1, 1, 1, 1, 1, 1, 1, 1, 1, 1, 1, 1, 1, 1, 1, 1, 1, 1, 1,\n",
       "       1, 1, 1, 1, 1, 1, 1, 1, 1, 1, 1, 1, 1, 1, 1, 1, 1, 1, 1, 1, 1, 1,\n",
       "       1, 1, 1, 1, 1, 1, 1, 1, 1, 1, 1, 1, 1, 1, 1, 1, 1, 1, 1, 1, 1, 1,\n",
       "       1, 1, 1, 3, 3, 3, 3, 3, 3, 3, 3, 3, 3, 3, 3, 3, 3, 3, 3, 3, 3, 3,\n",
       "       3, 3, 3, 3, 3, 3, 3, 3, 3, 3, 3, 3, 3, 3, 3, 3, 3, 3, 3, 3, 3, 3,\n",
       "       3, 3, 3, 3, 3, 3, 3, 3, 3, 3, 3, 3, 3, 3, 3, 3, 3, 3, 3, 3, 3, 3,\n",
       "       3, 3, 3, 3, 3, 3, 3, 3, 3, 3, 3, 3, 3, 3, 3, 3, 3, 3, 3, 3, 3, 3,\n",
       "       3, 3, 3, 3, 3, 3, 3, 3, 3, 3, 3, 3, 3, 3, 3, 3, 3, 3, 3, 3, 3, 3,\n",
       "       3, 3, 3, 3, 3, 3, 3, 3, 3, 3, 3, 3, 3, 3, 3, 3, 3, 3, 3, 3, 3, 3,\n",
       "       3, 3, 3, 3, 3, 3, 3, 3, 3, 3, 3, 3, 3, 3, 3, 3, 3, 3, 3, 3, 3, 3,\n",
       "       3, 3, 3, 3, 3, 3, 3, 0, 0, 0, 0, 0, 0, 0, 0, 0, 0, 0, 0, 0, 0, 0,\n",
       "       0, 0, 0, 0, 0, 0, 0, 0, 0, 0, 0, 0, 0, 0, 0, 0, 0, 0, 0, 0, 0, 0,\n",
       "       0, 0, 0, 0, 0, 0, 0, 0, 0, 0, 0, 0, 0, 0, 0, 0, 0, 0, 0, 0, 0, 0,\n",
       "       0, 0, 0, 0, 0, 0, 0, 0, 0, 0, 0, 0, 0, 0, 0, 0, 0, 0, 0, 0, 0, 0,\n",
       "       0, 0, 0, 0, 0, 0, 0, 0, 0, 0, 0, 0, 0, 0, 0, 0, 0, 0, 0, 0, 0, 0,\n",
       "       0, 0, 0, 0, 0, 0, 0, 0, 0, 0, 0, 0, 0, 0, 0, 0, 0, 0, 0, 0, 0, 0,\n",
       "       0, 0, 0, 2, 2, 2, 2, 2, 2, 2, 2, 2, 2, 2, 2, 2, 2, 2, 2, 2, 2, 2,\n",
       "       2, 2, 2, 2, 2, 2, 2, 2, 2, 2, 2, 2, 2, 2, 2, 2, 2, 2, 2, 2, 2, 2,\n",
       "       2, 2, 2, 2, 2, 2, 2, 2, 2, 2, 2, 2, 2, 2, 2, 2, 2, 2, 2, 2, 2, 2,\n",
       "       2, 2, 2, 2, 2, 2, 2, 2, 2, 2, 2, 2, 2, 2, 2, 2, 2, 2, 2, 2, 2, 2,\n",
       "       2, 2, 2, 2, 2, 2, 2, 2, 2, 2, 2, 2, 2, 2, 2, 2, 2, 2, 2, 2, 2, 2,\n",
       "       2, 2, 2, 2, 2, 2, 2, 2, 2, 2, 2, 2, 2, 2, 2, 2, 2, 2, 2, 2, 2, 2,\n",
       "       2, 2, 2, 2, 2, 2, 2, 2, 2, 2, 2, 2, 2, 2, 2, 2, 2, 2, 2, 2, 2, 2,\n",
       "       2, 2, 2, 2, 2, 2, 2, 2, 2, 2, 2, 2, 2, 2, 2, 2, 2, 2, 2, 2, 2, 2,\n",
       "       2, 2, 2, 2, 2, 2, 2, 2, 2, 2, 2, 2, 2, 2, 2, 2, 2, 2, 2, 2, 2, 2,\n",
       "       2, 2, 2, 2, 2, 2, 2, 2, 2, 2, 2, 2, 2, 2, 2, 2, 2, 2, 2, 2, 2, 2,\n",
       "       2, 2, 2, 2, 2, 2])"
      ]
     },
     "execution_count": 159,
     "metadata": {},
     "output_type": "execute_result"
    }
   ],
   "source": [
    "predictions_pb"
   ]
  },
  {
   "cell_type": "code",
   "execution_count": 358,
   "metadata": {},
   "outputs": [],
   "source": [
    "# setting x variable and y variable and target\n",
    "x_pb = bath_pb\n",
    "y_pb = predictions_pb\n",
    "\n",
    "# setting the pca\n",
    "pca = PCA(n_components = 2, random_state = 2)\n",
    "pca_fit_pb = pca.fit(x_pb).transform(x_pb)\n"
   ]
  },
  {
   "cell_type": "code",
   "execution_count": 359,
   "metadata": {},
   "outputs": [],
   "source": [
    "#filter rows of original data\n",
    "filtered_label0_pb = pca_fit_pb[y_pb == 0]"
   ]
  },
  {
   "cell_type": "code",
   "execution_count": 360,
   "metadata": {},
   "outputs": [
    {
     "data": {
      "image/png": "[encoded data removed]",
      "text/plain": [
       "<Figure size 432x288 with 1 Axes>"
      ]
     },
     "metadata": {
      "needs_background": "light"
     },
     "output_type": "display_data"
    }
   ],
   "source": [
    "#plotting the results\n",
    "plt.scatter(pca_fit_pb[:,0] , pca_fit_pb[:,1])\n",
    "plt.show()"
   ]
  },
  {
   "cell_type": "code",
   "execution_count": 361,
   "metadata": {},
   "outputs": [],
   "source": [
    "#Getting unique labels\n",
    "u_labels_pb = np.unique(y_pb)"
   ]
  },
  {
   "cell_type": "code",
   "execution_count": 362,
   "metadata": {},
   "outputs": [
    {
     "data": {
      "image/png": "[encoded data removed]",
      "text/plain": [
       "<Figure size 432x288 with 1 Axes>"
      ]
     },
     "metadata": {
      "needs_background": "light"
     },
     "output_type": "display_data"
    }
   ],
   "source": [
    "#plotting the results:\n",
    " \n",
    "for i in u_labels_pb:\n",
    "    plt.scatter(pca_fit_pb[y_pb == i , 0], pca_fit_pb[y_pb == i , 1] , label = target_name)\n",
    "plt.legend()\n",
    "plt.show()"
   ]
  },
  {
   "cell_type": "markdown",
   "metadata": {},
   "source": [
    "# The variables that describe the basis for purchase"
   ]
  },
  {
   "cell_type": "code",
   "execution_count": 192,
   "metadata": {},
   "outputs": [],
   "source": [
    "bath_basis = pd.read_csv('BathSoapHousehold.csv')"
   ]
  },
  {
   "cell_type": "code",
   "execution_count": 196,
   "metadata": {},
   "outputs": [],
   "source": [
    "bath_basis.drop(columns =['No. of Brands', 'Brand Runs', 'Total Volume',\n",
    "       'No. of  Trans', 'Value', 'Trans / Brand Runs', 'Vol/Tran',\n",
    "       'Avg. Price ', 'Pur Vol No Promo - %', 'Pur Vol Promo 6 %',\n",
    "       'Pur Vol Other Promo %', 'Br. Cd. 57, 144', 'Br. Cd. 55', 'Br. Cd. 272',\n",
    "       'Br. Cd. 286', 'Br. Cd. 24', 'Br. Cd. 481', 'Br. Cd. 352', 'Br. Cd. 5',\n",
    "       'Others 999'], axis = 1, inplace = True )"
   ]
  },
  {
   "cell_type": "code",
   "execution_count": 197,
   "metadata": {},
   "outputs": [
    {
     "data": {
      "text/plain": [
       "(600, 26)"
      ]
     },
     "execution_count": 197,
     "metadata": {},
     "output_type": "execute_result"
    }
   ],
   "source": [
    "bath_basis.shape"
   ]
  },
  {
   "cell_type": "code",
   "execution_count": 256,
   "metadata": {},
   "outputs": [
    {
     "data": {
      "text/html": [
       "<div>\n",
       "<style scoped>\n",
       "    .dataframe tbody tr th:only-of-type {\n",
       "        vertical-align: middle;\n",
       "    }\n",
       "\n",
       "    .dataframe tbody tr th {\n",
       "        vertical-align: top;\n",
       "    }\n",
       "\n",
       "    .dataframe thead th {\n",
       "        text-align: right;\n",
       "    }\n",
       "</style>\n",
       "<table border=\"1\" class=\"dataframe\">\n",
       "  <thead>\n",
       "    <tr style=\"text-align: right;\">\n",
       "      <th></th>\n",
       "      <th>Member id</th>\n",
       "      <th>SEC</th>\n",
       "      <th>FEH</th>\n",
       "      <th>MT</th>\n",
       "      <th>SEX</th>\n",
       "      <th>AGE</th>\n",
       "      <th>EDU</th>\n",
       "      <th>HS</th>\n",
       "      <th>CHILD</th>\n",
       "      <th>CS</th>\n",
       "      <th>...</th>\n",
       "      <th>PropCat 6</th>\n",
       "      <th>PropCat 7</th>\n",
       "      <th>PropCat 8</th>\n",
       "      <th>PropCat 9</th>\n",
       "      <th>PropCat 10</th>\n",
       "      <th>PropCat 11</th>\n",
       "      <th>PropCat 12</th>\n",
       "      <th>PropCat 13</th>\n",
       "      <th>PropCat 14</th>\n",
       "      <th>PropCat 15</th>\n",
       "    </tr>\n",
       "  </thead>\n",
       "  <tbody>\n",
       "    <tr>\n",
       "      <th>0</th>\n",
       "      <td>1010010</td>\n",
       "      <td>4</td>\n",
       "      <td>3</td>\n",
       "      <td>10</td>\n",
       "      <td>1</td>\n",
       "      <td>4</td>\n",
       "      <td>4</td>\n",
       "      <td>2</td>\n",
       "      <td>4</td>\n",
       "      <td>1</td>\n",
       "      <td>...</td>\n",
       "      <td>0.000000</td>\n",
       "      <td>0.000000</td>\n",
       "      <td>0.000000</td>\n",
       "      <td>0.000000</td>\n",
       "      <td>0.000000</td>\n",
       "      <td>0.000000</td>\n",
       "      <td>0.028037</td>\n",
       "      <td>0.000000</td>\n",
       "      <td>0.130841</td>\n",
       "      <td>0.339564</td>\n",
       "    </tr>\n",
       "    <tr>\n",
       "      <th>1</th>\n",
       "      <td>1010020</td>\n",
       "      <td>3</td>\n",
       "      <td>2</td>\n",
       "      <td>10</td>\n",
       "      <td>2</td>\n",
       "      <td>2</td>\n",
       "      <td>4</td>\n",
       "      <td>4</td>\n",
       "      <td>2</td>\n",
       "      <td>1</td>\n",
       "      <td>...</td>\n",
       "      <td>0.347048</td>\n",
       "      <td>0.026834</td>\n",
       "      <td>0.016100</td>\n",
       "      <td>0.014311</td>\n",
       "      <td>0.000000</td>\n",
       "      <td>0.059034</td>\n",
       "      <td>0.000000</td>\n",
       "      <td>0.000000</td>\n",
       "      <td>0.080501</td>\n",
       "      <td>0.000000</td>\n",
       "    </tr>\n",
       "    <tr>\n",
       "      <th>2</th>\n",
       "      <td>1014020</td>\n",
       "      <td>2</td>\n",
       "      <td>3</td>\n",
       "      <td>10</td>\n",
       "      <td>2</td>\n",
       "      <td>4</td>\n",
       "      <td>5</td>\n",
       "      <td>6</td>\n",
       "      <td>4</td>\n",
       "      <td>1</td>\n",
       "      <td>...</td>\n",
       "      <td>0.121212</td>\n",
       "      <td>0.033550</td>\n",
       "      <td>0.010823</td>\n",
       "      <td>0.008658</td>\n",
       "      <td>0.000000</td>\n",
       "      <td>0.000000</td>\n",
       "      <td>0.016234</td>\n",
       "      <td>0.000000</td>\n",
       "      <td>0.561688</td>\n",
       "      <td>0.003247</td>\n",
       "    </tr>\n",
       "    <tr>\n",
       "      <th>3</th>\n",
       "      <td>1014030</td>\n",
       "      <td>4</td>\n",
       "      <td>0</td>\n",
       "      <td>0</td>\n",
       "      <td>0</td>\n",
       "      <td>4</td>\n",
       "      <td>0</td>\n",
       "      <td>0</td>\n",
       "      <td>5</td>\n",
       "      <td>0</td>\n",
       "      <td>...</td>\n",
       "      <td>0.000000</td>\n",
       "      <td>0.000000</td>\n",
       "      <td>0.000000</td>\n",
       "      <td>0.000000</td>\n",
       "      <td>0.000000</td>\n",
       "      <td>0.000000</td>\n",
       "      <td>0.000000</td>\n",
       "      <td>0.000000</td>\n",
       "      <td>0.600000</td>\n",
       "      <td>0.000000</td>\n",
       "    </tr>\n",
       "    <tr>\n",
       "      <th>4</th>\n",
       "      <td>1014190</td>\n",
       "      <td>4</td>\n",
       "      <td>1</td>\n",
       "      <td>10</td>\n",
       "      <td>2</td>\n",
       "      <td>3</td>\n",
       "      <td>4</td>\n",
       "      <td>4</td>\n",
       "      <td>3</td>\n",
       "      <td>1</td>\n",
       "      <td>...</td>\n",
       "      <td>0.000000</td>\n",
       "      <td>0.000000</td>\n",
       "      <td>0.048193</td>\n",
       "      <td>0.000000</td>\n",
       "      <td>0.000000</td>\n",
       "      <td>0.000000</td>\n",
       "      <td>0.000000</td>\n",
       "      <td>0.000000</td>\n",
       "      <td>0.144578</td>\n",
       "      <td>0.000000</td>\n",
       "    </tr>\n",
       "    <tr>\n",
       "      <th>...</th>\n",
       "      <td>...</td>\n",
       "      <td>...</td>\n",
       "      <td>...</td>\n",
       "      <td>...</td>\n",
       "      <td>...</td>\n",
       "      <td>...</td>\n",
       "      <td>...</td>\n",
       "      <td>...</td>\n",
       "      <td>...</td>\n",
       "      <td>...</td>\n",
       "      <td>...</td>\n",
       "      <td>...</td>\n",
       "      <td>...</td>\n",
       "      <td>...</td>\n",
       "      <td>...</td>\n",
       "      <td>...</td>\n",
       "      <td>...</td>\n",
       "      <td>...</td>\n",
       "      <td>...</td>\n",
       "      <td>...</td>\n",
       "      <td>...</td>\n",
       "    </tr>\n",
       "    <tr>\n",
       "      <th>595</th>\n",
       "      <td>1167090</td>\n",
       "      <td>2</td>\n",
       "      <td>3</td>\n",
       "      <td>10</td>\n",
       "      <td>2</td>\n",
       "      <td>4</td>\n",
       "      <td>5</td>\n",
       "      <td>5</td>\n",
       "      <td>4</td>\n",
       "      <td>1</td>\n",
       "      <td>...</td>\n",
       "      <td>0.000000</td>\n",
       "      <td>0.000000</td>\n",
       "      <td>0.000000</td>\n",
       "      <td>0.000000</td>\n",
       "      <td>0.024931</td>\n",
       "      <td>0.897507</td>\n",
       "      <td>0.000000</td>\n",
       "      <td>0.000000</td>\n",
       "      <td>0.000000</td>\n",
       "      <td>0.000000</td>\n",
       "    </tr>\n",
       "    <tr>\n",
       "      <th>596</th>\n",
       "      <td>1167230</td>\n",
       "      <td>3</td>\n",
       "      <td>3</td>\n",
       "      <td>10</td>\n",
       "      <td>2</td>\n",
       "      <td>3</td>\n",
       "      <td>5</td>\n",
       "      <td>4</td>\n",
       "      <td>4</td>\n",
       "      <td>1</td>\n",
       "      <td>...</td>\n",
       "      <td>0.430693</td>\n",
       "      <td>0.074257</td>\n",
       "      <td>0.148515</td>\n",
       "      <td>0.000000</td>\n",
       "      <td>0.039604</td>\n",
       "      <td>0.000000</td>\n",
       "      <td>0.000000</td>\n",
       "      <td>0.089109</td>\n",
       "      <td>0.000000</td>\n",
       "      <td>0.049505</td>\n",
       "    </tr>\n",
       "    <tr>\n",
       "      <th>597</th>\n",
       "      <td>1167340</td>\n",
       "      <td>3</td>\n",
       "      <td>3</td>\n",
       "      <td>17</td>\n",
       "      <td>2</td>\n",
       "      <td>4</td>\n",
       "      <td>4</td>\n",
       "      <td>9</td>\n",
       "      <td>4</td>\n",
       "      <td>1</td>\n",
       "      <td>...</td>\n",
       "      <td>0.127148</td>\n",
       "      <td>0.000000</td>\n",
       "      <td>0.030928</td>\n",
       "      <td>0.000000</td>\n",
       "      <td>0.038660</td>\n",
       "      <td>0.000000</td>\n",
       "      <td>0.000000</td>\n",
       "      <td>0.000000</td>\n",
       "      <td>0.180412</td>\n",
       "      <td>0.000000</td>\n",
       "    </tr>\n",
       "    <tr>\n",
       "      <th>598</th>\n",
       "      <td>1167350</td>\n",
       "      <td>2</td>\n",
       "      <td>1</td>\n",
       "      <td>4</td>\n",
       "      <td>2</td>\n",
       "      <td>4</td>\n",
       "      <td>5</td>\n",
       "      <td>2</td>\n",
       "      <td>4</td>\n",
       "      <td>2</td>\n",
       "      <td>...</td>\n",
       "      <td>0.145455</td>\n",
       "      <td>0.000000</td>\n",
       "      <td>0.000000</td>\n",
       "      <td>0.000000</td>\n",
       "      <td>0.000000</td>\n",
       "      <td>0.000000</td>\n",
       "      <td>0.000000</td>\n",
       "      <td>0.027273</td>\n",
       "      <td>0.136364</td>\n",
       "      <td>0.000000</td>\n",
       "    </tr>\n",
       "    <tr>\n",
       "      <th>599</th>\n",
       "      <td>1167670</td>\n",
       "      <td>3</td>\n",
       "      <td>3</td>\n",
       "      <td>10</td>\n",
       "      <td>2</td>\n",
       "      <td>4</td>\n",
       "      <td>4</td>\n",
       "      <td>6</td>\n",
       "      <td>4</td>\n",
       "      <td>1</td>\n",
       "      <td>...</td>\n",
       "      <td>0.000000</td>\n",
       "      <td>0.000000</td>\n",
       "      <td>0.000000</td>\n",
       "      <td>0.000000</td>\n",
       "      <td>0.000000</td>\n",
       "      <td>0.000000</td>\n",
       "      <td>0.000000</td>\n",
       "      <td>0.000000</td>\n",
       "      <td>0.000000</td>\n",
       "      <td>0.000000</td>\n",
       "    </tr>\n",
       "  </tbody>\n",
       "</table>\n",
       "<p>600 rows × 46 columns</p>\n",
       "</div>"
      ],
      "text/plain": [
       "     Member id  SEC  FEH  MT  SEX  AGE  EDU  HS  CHILD  CS  ...  PropCat 6  \\\n",
       "0      1010010    4    3  10    1    4    4   2      4   1  ...   0.000000   \n",
       "1      1010020    3    2  10    2    2    4   4      2   1  ...   0.347048   \n",
       "2      1014020    2    3  10    2    4    5   6      4   1  ...   0.121212   \n",
       "3      1014030    4    0   0    0    4    0   0      5   0  ...   0.000000   \n",
       "4      1014190    4    1  10    2    3    4   4      3   1  ...   0.000000   \n",
       "..         ...  ...  ...  ..  ...  ...  ...  ..    ...  ..  ...        ...   \n",
       "595    1167090    2    3  10    2    4    5   5      4   1  ...   0.000000   \n",
       "596    1167230    3    3  10    2    3    5   4      4   1  ...   0.430693   \n",
       "597    1167340    3    3  17    2    4    4   9      4   1  ...   0.127148   \n",
       "598    1167350    2    1   4    2    4    5   2      4   2  ...   0.145455   \n",
       "599    1167670    3    3  10    2    4    4   6      4   1  ...   0.000000   \n",
       "\n",
       "     PropCat 7  PropCat 8  PropCat 9  PropCat 10  PropCat 11  PropCat 12  \\\n",
       "0     0.000000   0.000000   0.000000    0.000000    0.000000    0.028037   \n",
       "1     0.026834   0.016100   0.014311    0.000000    0.059034    0.000000   \n",
       "2     0.033550   0.010823   0.008658    0.000000    0.000000    0.016234   \n",
       "3     0.000000   0.000000   0.000000    0.000000    0.000000    0.000000   \n",
       "4     0.000000   0.048193   0.000000    0.000000    0.000000    0.000000   \n",
       "..         ...        ...        ...         ...         ...         ...   \n",
       "595   0.000000   0.000000   0.000000    0.024931    0.897507    0.000000   \n",
       "596   0.074257   0.148515   0.000000    0.039604    0.000000    0.000000   \n",
       "597   0.000000   0.030928   0.000000    0.038660    0.000000    0.000000   \n",
       "598   0.000000   0.000000   0.000000    0.000000    0.000000    0.000000   \n",
       "599   0.000000   0.000000   0.000000    0.000000    0.000000    0.000000   \n",
       "\n",
       "     PropCat 13  PropCat 14  PropCat 15  \n",
       "0      0.000000    0.130841    0.339564  \n",
       "1      0.000000    0.080501    0.000000  \n",
       "2      0.000000    0.561688    0.003247  \n",
       "3      0.000000    0.600000    0.000000  \n",
       "4      0.000000    0.144578    0.000000  \n",
       "..          ...         ...         ...  \n",
       "595    0.000000    0.000000    0.000000  \n",
       "596    0.089109    0.000000    0.049505  \n",
       "597    0.000000    0.180412    0.000000  \n",
       "598    0.027273    0.136364    0.000000  \n",
       "599    0.000000    0.000000    0.000000  \n",
       "\n",
       "[600 rows x 46 columns]"
      ]
     },
     "execution_count": 256,
     "metadata": {},
     "output_type": "execute_result"
    }
   ],
   "source": [
    "bath"
   ]
  },
  {
   "cell_type": "code",
   "execution_count": 199,
   "metadata": {},
   "outputs": [
    {
     "data": {
      "text/plain": [
       "Index(['Member id', 'SEC', 'FEH', 'MT', 'SEX', 'AGE', 'EDU', 'HS', 'CHILD',\n",
       "       'CS', 'Affluence Index', 'Pr Cat 1', 'Pr Cat 2', 'Pr Cat 3', 'Pr Cat 4',\n",
       "       'PropCat 5', 'PropCat 6', 'PropCat 7', 'PropCat 8', 'PropCat 9',\n",
       "       'PropCat 10', 'PropCat 11', 'PropCat 12', 'PropCat 13', 'PropCat 14',\n",
       "       'PropCat 15'],\n",
       "      dtype='object')"
      ]
     },
     "execution_count": 199,
     "metadata": {},
     "output_type": "execute_result"
    }
   ],
   "source": [
    "bath_basis.columns"
   ]
  },
  {
   "cell_type": "code",
   "execution_count": 179,
   "metadata": {},
   "outputs": [
    {
     "data": {
      "text/plain": [
       "(600, 26)"
      ]
     },
     "execution_count": 179,
     "metadata": {},
     "output_type": "execute_result"
    }
   ],
   "source": [
    "bath_basis.shape"
   ]
  },
  {
   "cell_type": "code",
   "execution_count": 200,
   "metadata": {},
   "outputs": [],
   "source": [
    "# create kmeans objects\n",
    "kmeans_bath_basis = KMeans(n_clusters = 5)"
   ]
  },
  {
   "cell_type": "code",
   "execution_count": 207,
   "metadata": {},
   "outputs": [
    {
     "data": {
      "text/plain": [
       "KMeans(n_clusters=5)"
      ]
     },
     "execution_count": 207,
     "metadata": {},
     "output_type": "execute_result"
    }
   ],
   "source": [
    "# fit the kmeans object to the dataset\n",
    "kmeans_bath_basis.fit(bath_basis)"
   ]
  },
  {
   "cell_type": "code",
   "execution_count": 208,
   "metadata": {},
   "outputs": [
    {
     "data": {
      "text/plain": [
       "array([[1.11075873e+06, 2.42857143e+00, 2.21428571e+00, 8.90476190e+00,\n",
       "        1.83333333e+00, 3.17460317e+00, 4.46825397e+00, 4.34126984e+00,\n",
       "        3.21428571e+00, 1.00793651e+00, 1.85317460e+01, 2.78929622e-01,\n",
       "        5.59982119e-01, 6.53206759e-02, 9.57675829e-02, 4.85995574e-01,\n",
       "        1.21879181e-01, 1.12727090e-01, 8.51615429e-02, 3.23068660e-02,\n",
       "        1.83206958e-02, 3.17203142e-02, 4.95371789e-03, 1.80465512e-02,\n",
       "        6.12378257e-02, 2.76506415e-02],\n",
       "       [1.05758230e+06, 3.35632184e+00, 2.48275862e+00, 9.13793103e+00,\n",
       "        1.82758621e+00, 3.00000000e+00, 3.47126437e+00, 4.68965517e+00,\n",
       "        2.97701149e+00, 9.88505747e-01, 1.29885057e+01, 2.18604299e-01,\n",
       "        4.22594498e-01, 2.41554458e-01, 1.17246745e-01, 4.01645259e-01,\n",
       "        1.28790713e-01, 7.25480560e-02, 3.71482117e-02, 4.04366053e-02,\n",
       "        1.24158187e-02, 1.86634559e-02, 2.17258983e-03, 3.54052419e-02,\n",
       "        2.38122434e-01, 1.26516153e-02],\n",
       "       [1.15371502e+06, 1.65022422e+00, 1.64573991e+00, 6.99551570e+00,\n",
       "        1.65022422e+00, 3.20627803e+00, 4.72197309e+00, 3.65470852e+00,\n",
       "        3.34080717e+00, 8.74439462e-01, 2.08385650e+01, 3.88385319e-01,\n",
       "        5.34576916e-01, 3.40938433e-02, 4.29439213e-02, 4.80361202e-01,\n",
       "        7.52448789e-02, 1.11064860e-01, 1.25657194e-01, 2.88581507e-02,\n",
       "        2.88009085e-02, 3.78968514e-02, 8.87088233e-03, 3.72465602e-02,\n",
       "        3.35058536e-02, 3.24926581e-02],\n",
       "       [1.02924292e+06, 3.55555556e+00, 2.12500000e+00, 8.65277778e+00,\n",
       "        1.63888889e+00, 3.13888889e+00, 2.58333333e+00, 4.50000000e+00,\n",
       "        3.36111111e+00, 8.47222222e-01, 1.01527778e+01, 1.13633934e-01,\n",
       "        3.38922111e-01, 3.73045051e-01, 1.74398904e-01, 3.84228565e-01,\n",
       "        4.78513447e-02, 6.72553254e-02, 3.79423128e-02, 1.44389643e-02,\n",
       "        7.26519107e-03, 2.25563687e-02, 8.78729772e-03, 2.56526974e-03,\n",
       "        3.69210104e-01, 3.78992559e-02],\n",
       "       [1.07786272e+06, 3.02173913e+00, 2.32608696e+00, 8.77173913e+00,\n",
       "        1.81521739e+00, 3.54347826e+00, 3.50000000e+00, 4.57608696e+00,\n",
       "        3.14130435e+00, 9.78260870e-01, 1.48804348e+01, 2.00725265e-01,\n",
       "        4.88570333e-01, 2.15376874e-01, 9.53275277e-02, 4.71029941e-01,\n",
       "        9.35616762e-02, 8.71780331e-02, 3.66669897e-02, 3.71715457e-02,\n",
       "        1.97262312e-02, 2.09220387e-02, 3.32832184e-03, 1.21495157e-02,\n",
       "        2.10878865e-01, 7.38684223e-03]])"
      ]
     },
     "execution_count": 208,
     "metadata": {},
     "output_type": "execute_result"
    }
   ],
   "source": [
    "clusters_bath_basis = kmeans_bath_basis.cluster_centers_\n",
    "clusters_bath_basis"
   ]
  },
  {
   "cell_type": "code",
   "execution_count": 212,
   "metadata": {},
   "outputs": [
    {
     "name": "stdout",
     "output_type": "stream",
     "text": [
      "36040252328.89965\n"
     ]
    }
   ],
   "source": [
    "print(kmeans_bath_basis.inertia_)"
   ]
  },
  {
   "cell_type": "code",
   "execution_count": 213,
   "metadata": {},
   "outputs": [
    {
     "name": "stdout",
     "output_type": "stream",
     "text": [
      "[3 3 3 3 3 3 3 3 3 3 3 3 3 3 3 3 3 3 3 3 3 3 3 3 3 3 3 3 3 3 3 3 3 3 3 3 3\n",
      " 3 3 3 3 3 3 3 3 3 3 3 3 3 3 3 3 3 3 3 3 3 3 3 3 3 3 3 3 3 3 3 3 3 3 3 1 1\n",
      " 1 1 1 1 1 1 1 1 1 1 1 1 1 1 1 1 1 1 1 1 1 1 1 1 1 1 1 1 1 1 1 1 1 1 1 1 1\n",
      " 1 1 1 1 1 1 1 1 1 1 1 1 1 1 1 1 1 1 1 1 1 1 1 1 1 1 1 1 1 1 1 1 1 1 1 1 1\n",
      " 1 1 1 1 1 1 1 1 1 1 1 4 4 4 4 4 4 4 4 4 4 4 4 4 4 4 4 4 4 4 4 4 4 4 4 4 4\n",
      " 4 4 4 4 4 4 4 4 4 4 4 4 4 4 4 4 4 4 4 4 4 4 4 4 4 4 4 4 4 4 4 4 4 4 4 4 4\n",
      " 4 4 4 4 4 4 4 4 4 4 4 4 4 4 4 4 4 4 4 4 4 4 4 4 4 4 4 4 4 0 0 0 0 0 0 0 0\n",
      " 0 0 0 0 0 0 0 0 0 0 0 0 0 0 0 0 0 0 0 0 0 0 0 0 0 0 0 0 0 0 0 0 0 0 0 0 0\n",
      " 0 0 0 0 0 0 0 0 0 0 0 0 0 0 0 0 0 0 0 0 0 0 0 0 0 0 0 0 0 0 0 0 0 0 0 0 0\n",
      " 0 0 0 0 0 0 0 0 0 0 0 0 0 0 0 0 0 0 0 0 0 0 0 0 0 0 0 0 0 0 0 0 0 0 0 0 0\n",
      " 0 0 0 0 0 0 0 2 2 2 2 2 2 2 2 2 2 2 2 2 2 2 2 2 2 2 2 2 2 2 2 2 2 2 2 2 2\n",
      " 2 2 2 2 2 2 2 2 2 2 2 2 2 2 2 2 2 2 2 2 2 2 2 2 2 2 2 2 2 2 2 2 2 2 2 2 2\n",
      " 2 2 2 2 2 2 2 2 2 2 2 2 2 2 2 2 2 2 2 2 2 2 2 2 2 2 2 2 2 2 2 2 2 2 2 2 2\n",
      " 2 2 2 2 2 2 2 2 2 2 2 2 2 2 2 2 2 2 2 2 2 2 2 2 2 2 2 2 2 2 2 2 2 2 2 2 2\n",
      " 2 2 2 2 2 2 2 2 2 2 2 2 2 2 2 2 2 2 2 2 2 2 2 2 2 2 2 2 2 2 2 2 2 2 2 2 2\n",
      " 2 2 2 2 2 2 2 2 2 2 2 2 2 2 2 2 2 2 2 2 2 2 2 2 2 2 2 2 2 2 2 2 2 2 2 2 2\n",
      " 2 2 2 2 2 2 2 2]\n"
     ]
    }
   ],
   "source": [
    "print(kmeans_bath_basis.labels_)"
   ]
  },
  {
   "cell_type": "code",
   "execution_count": 214,
   "metadata": {},
   "outputs": [
    {
     "data": {
      "text/plain": [
       "(600,)"
      ]
     },
     "execution_count": 214,
     "metadata": {},
     "output_type": "execute_result"
    }
   ],
   "source": [
    "kmeans_bath_basis.labels_.shape"
   ]
  },
  {
   "cell_type": "code",
   "execution_count": 223,
   "metadata": {},
   "outputs": [
    {
     "name": "stdout",
     "output_type": "stream",
     "text": [
      "inertia of:  2 cluster:  276753412708.335\n",
      "inertia of:  3 cluster:  119972152366.60182\n",
      "inertia of:  4 cluster:  48913723591.95037\n",
      "inertia of:  5 cluster:  36040252328.89965\n",
      "inertia of:  6 cluster:  24998890541.80056\n",
      "inertia of:  7 cluster:  17433228362.426964\n",
      "inertia of:  8 cluster:  12371526417.984726\n",
      "inertia of:  9 cluster:  10482798776.606113\n",
      "inertia of:  10 cluster:  8961033057.840942\n",
      "inertia of:  11 cluster:  7382245597.611109\n",
      "inertia of:  12 cluster:  6025634586.237051\n",
      "inertia of:  13 cluster:  4884986455.27288\n",
      "inertia of:  14 cluster:  3777859057.9041095\n",
      "inertia of:  15 cluster:  3174925007.759913\n",
      "inertia of:  16 cluster:  2731602756.5869365\n",
      "inertia of:  17 cluster:  2392692471.2514315\n",
      "inertia of:  18 cluster:  2088267421.8515108\n",
      "inertia of:  19 cluster:  1852137411.0549767\n"
     ]
    }
   ],
   "source": [
    "cluster_no_basis = range(2,20)\n",
    "inertia_basis = []\n",
    "for i in cluster_no_basis:\n",
    "    kmeans_basis = KMeans(n_clusters = i, random_state=2)\n",
    "    kmeans_basis = kmeans_basis.fit(bath_basis)\n",
    "    m = kmeans_basis.inertia_\n",
    "    inertia_basis.append(m)\n",
    "    print('inertia of: ', i, 'cluster: ', m)"
   ]
  },
  {
   "cell_type": "code",
   "execution_count": 224,
   "metadata": {},
   "outputs": [
    {
     "data": {
      "text/plain": [
       "Text(0.5, 1.0, 'inertia plot per k')"
      ]
     },
     "execution_count": 224,
     "metadata": {},
     "output_type": "execute_result"
    },
    {
     "data": {
      "image/png": "[encoded data removed]",
      "text/plain": [
       "<Figure size 1152x432 with 1 Axes>"
      ]
     },
     "metadata": {
      "needs_background": "light"
     },
     "output_type": "display_data"
    }
   ],
   "source": [
    "# creating a plot to choose which inertia of cluster should we choose\n",
    "fig, (ax1) = plt.subplots(1,figsize = (16,6))\n",
    "xx = np.arange(len(cluster_no_basis))\n",
    "ax1.plot(xx,inertia_basis)\n",
    "ax1.set_xticks(xx)\n",
    "ax1.set_xticklabels(cluster_no_basis, rotation='vertical')\n",
    "plt.xlabel('number of clusters')\n",
    "plt.ylabel('inertia score')\n",
    "plt.title('inertia plot per k')"
   ]
  },
  {
   "cell_type": "code",
   "execution_count": 225,
   "metadata": {},
   "outputs": [
    {
     "data": {
      "text/html": [
       "<div>\n",
       "<style scoped>\n",
       "    .dataframe tbody tr th:only-of-type {\n",
       "        vertical-align: middle;\n",
       "    }\n",
       "\n",
       "    .dataframe tbody tr th {\n",
       "        vertical-align: top;\n",
       "    }\n",
       "\n",
       "    .dataframe thead th {\n",
       "        text-align: right;\n",
       "    }\n",
       "</style>\n",
       "<table border=\"1\" class=\"dataframe\">\n",
       "  <thead>\n",
       "    <tr style=\"text-align: right;\">\n",
       "      <th></th>\n",
       "      <th>cluster0</th>\n",
       "      <th>cluster1</th>\n",
       "      <th>cluster2</th>\n",
       "      <th>cluster3</th>\n",
       "    </tr>\n",
       "  </thead>\n",
       "  <tbody>\n",
       "    <tr>\n",
       "      <th>0</th>\n",
       "      <td>128</td>\n",
       "      <td>91</td>\n",
       "      <td>223</td>\n",
       "      <td>158</td>\n",
       "    </tr>\n",
       "  </tbody>\n",
       "</table>\n",
       "</div>"
      ],
      "text/plain": [
       "   cluster0  cluster1  cluster2  cluster3\n",
       "0       128        91       223       158"
      ]
     },
     "execution_count": 225,
     "metadata": {},
     "output_type": "execute_result"
    }
   ],
   "source": [
    "# running kmeans using 5 clusters\n",
    "kmeans_basis = KMeans(n_clusters = 4, random_state = 2)\n",
    "kmeans_basis = kmeans_basis.fit(bath_basis)\n",
    "kmeans_basis.labels_\n",
    "#prediction\n",
    "predictions_basis  =kmeans_basis.predict(bath_basis)\n",
    "\n",
    "# calculating the count of cluster\n",
    "unique_basis, counts_basis = np.unique(predictions_basis, return_counts = True)\n",
    "counts_basis =counts_basis.reshape(1,4)\n",
    "\n",
    "#creating a datagram\n",
    "countscldf_basis = pd.DataFrame(counts_basis,columns = ['cluster0','cluster1','cluster2','cluster3'])\n",
    "countscldf_basis"
   ]
  },
  {
   "cell_type": "code",
   "execution_count": 310,
   "metadata": {},
   "outputs": [
    {
     "data": {
      "text/plain": [
       "array([1, 1, 1, 1, 1, 1, 1, 1, 1, 1, 1, 1, 1, 1, 1, 1, 1, 1, 1, 1, 1, 1,\n",
       "       1, 1, 1, 1, 1, 1, 1, 1, 1, 1, 1, 1, 1, 1, 1, 1, 1, 1, 1, 1, 1, 1,\n",
       "       1, 1, 1, 1, 1, 1, 1, 1, 1, 1, 1, 1, 1, 1, 1, 1, 1, 1, 1, 1, 1, 1,\n",
       "       1, 1, 1, 1, 1, 1, 1, 1, 1, 1, 1, 1, 1, 1, 1, 1, 1, 1, 1, 1, 1, 1,\n",
       "       1, 1, 1, 3, 3, 3, 3, 3, 3, 3, 3, 3, 3, 3, 3, 3, 3, 3, 3, 3, 3, 3,\n",
       "       3, 3, 3, 3, 3, 3, 3, 3, 3, 3, 3, 3, 3, 3, 3, 3, 3, 3, 3, 3, 3, 3,\n",
       "       3, 3, 3, 3, 3, 3, 3, 3, 3, 3, 3, 3, 3, 3, 3, 3, 3, 3, 3, 3, 3, 3,\n",
       "       3, 3, 3, 3, 3, 3, 3, 3, 3, 3, 3, 3, 3, 3, 3, 3, 3, 3, 3, 3, 3, 3,\n",
       "       3, 3, 3, 3, 3, 3, 3, 3, 3, 3, 3, 3, 3, 3, 3, 3, 3, 3, 3, 3, 3, 3,\n",
       "       3, 3, 3, 3, 3, 3, 3, 3, 3, 3, 3, 3, 3, 3, 3, 3, 3, 3, 3, 3, 3, 3,\n",
       "       3, 3, 3, 3, 3, 3, 3, 3, 3, 3, 3, 3, 3, 3, 3, 3, 3, 3, 3, 3, 3, 3,\n",
       "       3, 3, 3, 3, 3, 3, 3, 0, 0, 0, 0, 0, 0, 0, 0, 0, 0, 0, 0, 0, 0, 0,\n",
       "       0, 0, 0, 0, 0, 0, 0, 0, 0, 0, 0, 0, 0, 0, 0, 0, 0, 0, 0, 0, 0, 0,\n",
       "       0, 0, 0, 0, 0, 0, 0, 0, 0, 0, 0, 0, 0, 0, 0, 0, 0, 0, 0, 0, 0, 0,\n",
       "       0, 0, 0, 0, 0, 0, 0, 0, 0, 0, 0, 0, 0, 0, 0, 0, 0, 0, 0, 0, 0, 0,\n",
       "       0, 0, 0, 0, 0, 0, 0, 0, 0, 0, 0, 0, 0, 0, 0, 0, 0, 0, 0, 0, 0, 0,\n",
       "       0, 0, 0, 0, 0, 0, 0, 0, 0, 0, 0, 0, 0, 0, 0, 0, 0, 0, 0, 0, 0, 0,\n",
       "       0, 0, 0, 2, 2, 2, 2, 2, 2, 2, 2, 2, 2, 2, 2, 2, 2, 2, 2, 2, 2, 2,\n",
       "       2, 2, 2, 2, 2, 2, 2, 2, 2, 2, 2, 2, 2, 2, 2, 2, 2, 2, 2, 2, 2, 2,\n",
       "       2, 2, 2, 2, 2, 2, 2, 2, 2, 2, 2, 2, 2, 2, 2, 2, 2, 2, 2, 2, 2, 2,\n",
       "       2, 2, 2, 2, 2, 2, 2, 2, 2, 2, 2, 2, 2, 2, 2, 2, 2, 2, 2, 2, 2, 2,\n",
       "       2, 2, 2, 2, 2, 2, 2, 2, 2, 2, 2, 2, 2, 2, 2, 2, 2, 2, 2, 2, 2, 2,\n",
       "       2, 2, 2, 2, 2, 2, 2, 2, 2, 2, 2, 2, 2, 2, 2, 2, 2, 2, 2, 2, 2, 2,\n",
       "       2, 2, 2, 2, 2, 2, 2, 2, 2, 2, 2, 2, 2, 2, 2, 2, 2, 2, 2, 2, 2, 2,\n",
       "       2, 2, 2, 2, 2, 2, 2, 2, 2, 2, 2, 2, 2, 2, 2, 2, 2, 2, 2, 2, 2, 2,\n",
       "       2, 2, 2, 2, 2, 2, 2, 2, 2, 2, 2, 2, 2, 2, 2, 2, 2, 2, 2, 2, 2, 2,\n",
       "       2, 2, 2, 2, 2, 2, 2, 2, 2, 2, 2, 2, 2, 2, 2, 2, 2, 2, 2, 2, 2, 2,\n",
       "       2, 2, 2, 2, 2, 2])"
      ]
     },
     "execution_count": 310,
     "metadata": {},
     "output_type": "execute_result"
    }
   ],
   "source": [
    "kmeans_basis.labels_"
   ]
  },
  {
   "cell_type": "code",
   "execution_count": 311,
   "metadata": {},
   "outputs": [
    {
     "data": {
      "text/plain": [
       "array([1, 1, 1, 1, 1, 1, 1, 1, 1, 1, 1, 1, 1, 1, 1, 1, 1, 1, 1, 1, 1, 1,\n",
       "       1, 1, 1, 1, 1, 1, 1, 1, 1, 1, 1, 1, 1, 1, 1, 1, 1, 1, 1, 1, 1, 1,\n",
       "       1, 1, 1, 1, 1, 1, 1, 1, 1, 1, 1, 1, 1, 1, 1, 1, 1, 1, 1, 1, 1, 1,\n",
       "       1, 1, 1, 1, 1, 1, 1, 1, 1, 1, 1, 1, 1, 1, 1, 1, 1, 1, 1, 1, 1, 1,\n",
       "       1, 1, 1, 3, 3, 3, 3, 3, 3, 3, 3, 3, 3, 3, 3, 3, 3, 3, 3, 3, 3, 3,\n",
       "       3, 3, 3, 3, 3, 3, 3, 3, 3, 3, 3, 3, 3, 3, 3, 3, 3, 3, 3, 3, 3, 3,\n",
       "       3, 3, 3, 3, 3, 3, 3, 3, 3, 3, 3, 3, 3, 3, 3, 3, 3, 3, 3, 3, 3, 3,\n",
       "       3, 3, 3, 3, 3, 3, 3, 3, 3, 3, 3, 3, 3, 3, 3, 3, 3, 3, 3, 3, 3, 3,\n",
       "       3, 3, 3, 3, 3, 3, 3, 3, 3, 3, 3, 3, 3, 3, 3, 3, 3, 3, 3, 3, 3, 3,\n",
       "       3, 3, 3, 3, 3, 3, 3, 3, 3, 3, 3, 3, 3, 3, 3, 3, 3, 3, 3, 3, 3, 3,\n",
       "       3, 3, 3, 3, 3, 3, 3, 3, 3, 3, 3, 3, 3, 3, 3, 3, 3, 3, 3, 3, 3, 3,\n",
       "       3, 3, 3, 3, 3, 3, 3, 0, 0, 0, 0, 0, 0, 0, 0, 0, 0, 0, 0, 0, 0, 0,\n",
       "       0, 0, 0, 0, 0, 0, 0, 0, 0, 0, 0, 0, 0, 0, 0, 0, 0, 0, 0, 0, 0, 0,\n",
       "       0, 0, 0, 0, 0, 0, 0, 0, 0, 0, 0, 0, 0, 0, 0, 0, 0, 0, 0, 0, 0, 0,\n",
       "       0, 0, 0, 0, 0, 0, 0, 0, 0, 0, 0, 0, 0, 0, 0, 0, 0, 0, 0, 0, 0, 0,\n",
       "       0, 0, 0, 0, 0, 0, 0, 0, 0, 0, 0, 0, 0, 0, 0, 0, 0, 0, 0, 0, 0, 0,\n",
       "       0, 0, 0, 0, 0, 0, 0, 0, 0, 0, 0, 0, 0, 0, 0, 0, 0, 0, 0, 0, 0, 0,\n",
       "       0, 0, 0, 2, 2, 2, 2, 2, 2, 2, 2, 2, 2, 2, 2, 2, 2, 2, 2, 2, 2, 2,\n",
       "       2, 2, 2, 2, 2, 2, 2, 2, 2, 2, 2, 2, 2, 2, 2, 2, 2, 2, 2, 2, 2, 2,\n",
       "       2, 2, 2, 2, 2, 2, 2, 2, 2, 2, 2, 2, 2, 2, 2, 2, 2, 2, 2, 2, 2, 2,\n",
       "       2, 2, 2, 2, 2, 2, 2, 2, 2, 2, 2, 2, 2, 2, 2, 2, 2, 2, 2, 2, 2, 2,\n",
       "       2, 2, 2, 2, 2, 2, 2, 2, 2, 2, 2, 2, 2, 2, 2, 2, 2, 2, 2, 2, 2, 2,\n",
       "       2, 2, 2, 2, 2, 2, 2, 2, 2, 2, 2, 2, 2, 2, 2, 2, 2, 2, 2, 2, 2, 2,\n",
       "       2, 2, 2, 2, 2, 2, 2, 2, 2, 2, 2, 2, 2, 2, 2, 2, 2, 2, 2, 2, 2, 2,\n",
       "       2, 2, 2, 2, 2, 2, 2, 2, 2, 2, 2, 2, 2, 2, 2, 2, 2, 2, 2, 2, 2, 2,\n",
       "       2, 2, 2, 2, 2, 2, 2, 2, 2, 2, 2, 2, 2, 2, 2, 2, 2, 2, 2, 2, 2, 2,\n",
       "       2, 2, 2, 2, 2, 2, 2, 2, 2, 2, 2, 2, 2, 2, 2, 2, 2, 2, 2, 2, 2, 2,\n",
       "       2, 2, 2, 2, 2, 2])"
      ]
     },
     "execution_count": 311,
     "metadata": {},
     "output_type": "execute_result"
    }
   ],
   "source": [
    "predictions_basis"
   ]
  },
  {
   "cell_type": "code",
   "execution_count": 353,
   "metadata": {},
   "outputs": [],
   "source": [
    "# setting x variable and y variable and target\n",
    "x_basis = bath\n",
    "y_basis = predictions_basis\n",
    "\n",
    "# setting the pca\n",
    "pca = PCA(n_components = 2, random_state = 2)\n",
    "pca_fit_basis = pca.fit(x_basis).transform(x_basis)\n"
   ]
  },
  {
   "cell_type": "code",
   "execution_count": 354,
   "metadata": {},
   "outputs": [],
   "source": [
    "#filter rows of original data\n",
    "filtered_label0_basis = pca_fit_basis[y_basis == 0]"
   ]
  },
  {
   "cell_type": "code",
   "execution_count": 355,
   "metadata": {},
   "outputs": [
    {
     "data": {
      "image/png": "[encoded data removed]",
      "text/plain": [
       "<Figure size 432x288 with 1 Axes>"
      ]
     },
     "metadata": {
      "needs_background": "light"
     },
     "output_type": "display_data"
    }
   ],
   "source": [
    "#plotting the results\n",
    "plt.scatter(pca_fit_basis[:,0] , pca_fit_basis[:,1])\n",
    "plt.show()"
   ]
  },
  {
   "cell_type": "code",
   "execution_count": 356,
   "metadata": {},
   "outputs": [],
   "source": [
    "#Getting unique labels\n",
    "u_labels_basis = np.unique(y_basis)"
   ]
  },
  {
   "cell_type": "code",
   "execution_count": 357,
   "metadata": {},
   "outputs": [
    {
     "data": {
      "image/png": "[encoded data removed]",
      "text/plain": [
       "<Figure size 432x288 with 1 Axes>"
      ]
     },
     "metadata": {
      "needs_background": "light"
     },
     "output_type": "display_data"
    }
   ],
   "source": [
    "#plotting the results:\n",
    " \n",
    "for i in u_labels_basis:\n",
    "    plt.scatter(pca_fit_basis[y_basis == i , 0], pca_fit_basis[y_basis == i , 1] , label = target_name)\n",
    "plt.legend()\n",
    "plt.show()"
   ]
  },
  {
   "cell_type": "code",
   "execution_count": null,
   "metadata": {},
   "outputs": [],
   "source": [
    "# I would select the segment where the purchase behavoir and the basis of purchase are together because it gives us a deeper\n",
    "# look insight and better picture of what is the potential customer. \n",
    "# i choose for it to be no more than 4 clusters because it doesn't make a big change if we choose more than 4 four cluster \n",
    "# as it shows on the curve, the line get flatter if we pass cluster 4\n",
    "# note: I had some trouble making the plot for the clusters and this is what I managed to get out of"
   ]
  }
 ],
 "metadata": {
  "kernelspec": {
   "display_name": "Python 3",
   "language": "python",
   "name": "python3"
  },
  "language_info": {
   "codemirror_mode": {
    "name": "ipython",
    "version": 3
   },
   "file_extension": ".py",
   "mimetype": "text/x-python",
   "name": "python",
   "nbconvert_exporter": "python",
   "pygments_lexer": "ipython3",
   "version": "3.7.1"
  }
 },
 "nbformat": 4,
 "nbformat_minor": 4
}
