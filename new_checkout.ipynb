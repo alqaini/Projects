{
 "cells": [
  {
   "cell_type": "code",
   "execution_count": 1,
   "metadata": {},
   "outputs": [],
   "source": [
    "import pandas as pd\n",
    "import sqlite3"
   ]
  },
  {
   "cell_type": "code",
   "execution_count": 17,
   "metadata": {},
   "outputs": [],
   "source": [
    "connection = sqlite3.connect('C:/Users/alqai/Downloads/Code _ Data/checkouts.db')"
   ]
  },
  {
   "cell_type": "code",
   "execution_count": 18,
   "metadata": {},
   "outputs": [],
   "source": [
    "cursor = connection.cursor()"
   ]
  },
  {
   "cell_type": "code",
   "execution_count": 41,
   "metadata": {
    "scrolled": true
   },
   "outputs": [
    {
     "data": {
      "text/html": [
       "<div>\n",
       "<style scoped>\n",
       "    .dataframe tbody tr th:only-of-type {\n",
       "        vertical-align: middle;\n",
       "    }\n",
       "\n",
       "    .dataframe tbody tr th {\n",
       "        vertical-align: top;\n",
       "    }\n",
       "\n",
       "    .dataframe thead th {\n",
       "        text-align: right;\n",
       "    }\n",
       "</style>\n",
       "<table border=\"1\" class=\"dataframe\">\n",
       "  <thead>\n",
       "    <tr style=\"text-align: right;\">\n",
       "      <th></th>\n",
       "      <th>type</th>\n",
       "      <th>name</th>\n",
       "      <th>tbl_name</th>\n",
       "      <th>rootpage</th>\n",
       "      <th>sql</th>\n",
       "    </tr>\n",
       "  </thead>\n",
       "  <tbody>\n",
       "    <tr>\n",
       "      <th>0</th>\n",
       "      <td>table</td>\n",
       "      <td>kz</td>\n",
       "      <td>kz</td>\n",
       "      <td>64992</td>\n",
       "      <td>CREATE TABLE \"kz\" (\\n\\t\"event_time\"\\tTEXT,\\n\\t...</td>\n",
       "    </tr>\n",
       "    <tr>\n",
       "      <th>1</th>\n",
       "      <td>table</td>\n",
       "      <td>checkout</td>\n",
       "      <td>checkout</td>\n",
       "      <td>183424</td>\n",
       "      <td>CREATE TABLE \"checkout\" (\\n\\t\"event_time\"\\tTEX...</td>\n",
       "    </tr>\n",
       "  </tbody>\n",
       "</table>\n",
       "</div>"
      ],
      "text/plain": [
       "    type      name  tbl_name  rootpage  \\\n",
       "0  table        kz        kz     64992   \n",
       "1  table  checkout  checkout    183424   \n",
       "\n",
       "                                                 sql  \n",
       "0  CREATE TABLE \"kz\" (\\n\\t\"event_time\"\\tTEXT,\\n\\t...  \n",
       "1  CREATE TABLE \"checkout\" (\\n\\t\"event_time\"\\tTEX...  "
      ]
     },
     "execution_count": 41,
     "metadata": {},
     "output_type": "execute_result"
    }
   ],
   "source": [
    "pd.read_sql_query('SELECT * FROM sqlite_master WHERE type = \"table\"', connection)"
   ]
  },
  {
   "cell_type": "code",
   "execution_count": null,
   "metadata": {},
   "outputs": [],
   "source": [
    "# cursor.execute('SELECT * FROM sqlite_master WHERE type = \"table\"').fetchmany(10)"
   ]
  },
  {
   "cell_type": "code",
   "execution_count": 215,
   "metadata": {
    "scrolled": false
   },
   "outputs": [
    {
     "data": {
      "text/html": [
       "<div>\n",
       "<style scoped>\n",
       "    .dataframe tbody tr th:only-of-type {\n",
       "        vertical-align: middle;\n",
       "    }\n",
       "\n",
       "    .dataframe tbody tr th {\n",
       "        vertical-align: top;\n",
       "    }\n",
       "\n",
       "    .dataframe thead th {\n",
       "        text-align: right;\n",
       "    }\n",
       "</style>\n",
       "<table border=\"1\" class=\"dataframe\">\n",
       "  <thead>\n",
       "    <tr style=\"text-align: right;\">\n",
       "      <th></th>\n",
       "      <th>cid</th>\n",
       "      <th>name</th>\n",
       "      <th>type</th>\n",
       "      <th>notnull</th>\n",
       "      <th>dflt_value</th>\n",
       "      <th>pk</th>\n",
       "      <th>type</th>\n",
       "    </tr>\n",
       "  </thead>\n",
       "  <tbody>\n",
       "    <tr>\n",
       "      <th>0</th>\n",
       "      <td>0</td>\n",
       "      <td>event_time</td>\n",
       "      <td>TEXT</td>\n",
       "      <td>0</td>\n",
       "      <td>None</td>\n",
       "      <td>0</td>\n",
       "      <td>TEXT</td>\n",
       "    </tr>\n",
       "    <tr>\n",
       "      <th>1</th>\n",
       "      <td>1</td>\n",
       "      <td>order_id</td>\n",
       "      <td>INTEGER</td>\n",
       "      <td>1</td>\n",
       "      <td>None</td>\n",
       "      <td>0</td>\n",
       "      <td>INTEGER</td>\n",
       "    </tr>\n",
       "    <tr>\n",
       "      <th>2</th>\n",
       "      <td>2</td>\n",
       "      <td>product_id</td>\n",
       "      <td>TEXT</td>\n",
       "      <td>0</td>\n",
       "      <td>None</td>\n",
       "      <td>0</td>\n",
       "      <td>TEXT</td>\n",
       "    </tr>\n",
       "    <tr>\n",
       "      <th>3</th>\n",
       "      <td>3</td>\n",
       "      <td>category_id</td>\n",
       "      <td>TEXT</td>\n",
       "      <td>0</td>\n",
       "      <td>None</td>\n",
       "      <td>0</td>\n",
       "      <td>TEXT</td>\n",
       "    </tr>\n",
       "    <tr>\n",
       "      <th>4</th>\n",
       "      <td>4</td>\n",
       "      <td>category_code</td>\n",
       "      <td>text</td>\n",
       "      <td>0</td>\n",
       "      <td>None</td>\n",
       "      <td>0</td>\n",
       "      <td>text</td>\n",
       "    </tr>\n",
       "    <tr>\n",
       "      <th>5</th>\n",
       "      <td>5</td>\n",
       "      <td>brand</td>\n",
       "      <td>text</td>\n",
       "      <td>0</td>\n",
       "      <td>None</td>\n",
       "      <td>0</td>\n",
       "      <td>text</td>\n",
       "    </tr>\n",
       "    <tr>\n",
       "      <th>6</th>\n",
       "      <td>6</td>\n",
       "      <td>price</td>\n",
       "      <td>INTEGER</td>\n",
       "      <td>0</td>\n",
       "      <td>None</td>\n",
       "      <td>0</td>\n",
       "      <td>INTEGER</td>\n",
       "    </tr>\n",
       "    <tr>\n",
       "      <th>7</th>\n",
       "      <td>7</td>\n",
       "      <td>user_id</td>\n",
       "      <td>INTEGER</td>\n",
       "      <td>0</td>\n",
       "      <td>None</td>\n",
       "      <td>0</td>\n",
       "      <td>INTEGER</td>\n",
       "    </tr>\n",
       "  </tbody>\n",
       "</table>\n",
       "</div>"
      ],
      "text/plain": [
       "   cid           name     type  notnull dflt_value  pk     type\n",
       "0    0     event_time     TEXT        0       None   0     TEXT\n",
       "1    1       order_id  INTEGER        1       None   0  INTEGER\n",
       "2    2     product_id     TEXT        0       None   0     TEXT\n",
       "3    3    category_id     TEXT        0       None   0     TEXT\n",
       "4    4  category_code     text        0       None   0     text\n",
       "5    5          brand     text        0       None   0     text\n",
       "6    6          price  INTEGER        0       None   0  INTEGER\n",
       "7    7        user_id  INTEGER        0       None   0  INTEGER"
      ]
     },
     "execution_count": 215,
     "metadata": {},
     "output_type": "execute_result"
    }
   ],
   "source": [
    "# check the table columns, data types\n",
    "table_info = ('SELECT *, type FROM pragma_table_info(\"checkout\")')\n",
    "\n",
    "pd.read_sql_query(table_info, connection)"
   ]
  },
  {
   "cell_type": "code",
   "execution_count": 219,
   "metadata": {
    "scrolled": false
   },
   "outputs": [
    {
     "data": {
      "text/html": [
       "<div>\n",
       "<style scoped>\n",
       "    .dataframe tbody tr th:only-of-type {\n",
       "        vertical-align: middle;\n",
       "    }\n",
       "\n",
       "    .dataframe tbody tr th {\n",
       "        vertical-align: top;\n",
       "    }\n",
       "\n",
       "    .dataframe thead th {\n",
       "        text-align: right;\n",
       "    }\n",
       "</style>\n",
       "<table border=\"1\" class=\"dataframe\">\n",
       "  <thead>\n",
       "    <tr style=\"text-align: right;\">\n",
       "      <th></th>\n",
       "      <th>event_time</th>\n",
       "      <th>order_id</th>\n",
       "      <th>product_id</th>\n",
       "      <th>category_id</th>\n",
       "      <th>category_code</th>\n",
       "      <th>brand</th>\n",
       "      <th>price</th>\n",
       "      <th>user_id</th>\n",
       "    </tr>\n",
       "  </thead>\n",
       "  <tbody>\n",
       "    <tr>\n",
       "      <th>0</th>\n",
       "      <td>2020-04-24 11:50:39 UTC</td>\n",
       "      <td>2294359932054536960</td>\n",
       "      <td>1515966223509089906</td>\n",
       "      <td>2.26810542664817e+18</td>\n",
       "      <td>electronics.tablet</td>\n",
       "      <td>samsung</td>\n",
       "      <td>162.01</td>\n",
       "      <td>1.515916e+18</td>\n",
       "    </tr>\n",
       "    <tr>\n",
       "      <th>1</th>\n",
       "      <td>2020-04-24 11:50:39 UTC</td>\n",
       "      <td>2294359932054536960</td>\n",
       "      <td>1515966223509089906</td>\n",
       "      <td>2.26810542664817e+18</td>\n",
       "      <td>electronics.tablet</td>\n",
       "      <td>samsung</td>\n",
       "      <td>162.01</td>\n",
       "      <td>1.515916e+18</td>\n",
       "    </tr>\n",
       "    <tr>\n",
       "      <th>2</th>\n",
       "      <td>2020-04-24 14:37:43 UTC</td>\n",
       "      <td>2294444024058086144</td>\n",
       "      <td>2273948319057183658</td>\n",
       "      <td>2.268105430163e+18</td>\n",
       "      <td>electronics.audio.headphone</td>\n",
       "      <td>huawei</td>\n",
       "      <td>77.52</td>\n",
       "      <td>1.515916e+18</td>\n",
       "    </tr>\n",
       "    <tr>\n",
       "      <th>3</th>\n",
       "      <td>2020-04-24 14:37:43 UTC</td>\n",
       "      <td>2294444024058086144</td>\n",
       "      <td>2273948319057183658</td>\n",
       "      <td>2.268105430163e+18</td>\n",
       "      <td>electronics.audio.headphone</td>\n",
       "      <td>huawei</td>\n",
       "      <td>77.52</td>\n",
       "      <td>1.515916e+18</td>\n",
       "    </tr>\n",
       "    <tr>\n",
       "      <th>4</th>\n",
       "      <td>2020-04-24 19:16:21 UTC</td>\n",
       "      <td>2294584263154074112</td>\n",
       "      <td>2273948316817424439</td>\n",
       "      <td>2.26810547136784e+18</td>\n",
       "      <td>None</td>\n",
       "      <td>karcher</td>\n",
       "      <td>217.57</td>\n",
       "      <td>1.515916e+18</td>\n",
       "    </tr>\n",
       "  </tbody>\n",
       "</table>\n",
       "</div>"
      ],
      "text/plain": [
       "                event_time             order_id           product_id  \\\n",
       "0  2020-04-24 11:50:39 UTC  2294359932054536960  1515966223509089906   \n",
       "1  2020-04-24 11:50:39 UTC  2294359932054536960  1515966223509089906   \n",
       "2  2020-04-24 14:37:43 UTC  2294444024058086144  2273948319057183658   \n",
       "3  2020-04-24 14:37:43 UTC  2294444024058086144  2273948319057183658   \n",
       "4  2020-04-24 19:16:21 UTC  2294584263154074112  2273948316817424439   \n",
       "\n",
       "            category_id                category_code    brand   price  \\\n",
       "0  2.26810542664817e+18           electronics.tablet  samsung  162.01   \n",
       "1  2.26810542664817e+18           electronics.tablet  samsung  162.01   \n",
       "2    2.268105430163e+18  electronics.audio.headphone   huawei   77.52   \n",
       "3    2.268105430163e+18  electronics.audio.headphone   huawei   77.52   \n",
       "4  2.26810547136784e+18                         None  karcher  217.57   \n",
       "\n",
       "        user_id  \n",
       "0  1.515916e+18  \n",
       "1  1.515916e+18  \n",
       "2  1.515916e+18  \n",
       "3  1.515916e+18  \n",
       "4  1.515916e+18  "
      ]
     },
     "execution_count": 219,
     "metadata": {},
     "output_type": "execute_result"
    }
   ],
   "source": [
    "#inserting the table into a FataFrame \n",
    "\n",
    "df = pd.read_sql_query(\"SELECT * FROM checkout LIMIT 5000\", connection)\n",
    "df.head(5)"
   ]
  },
  {
   "cell_type": "code",
   "execution_count": 37,
   "metadata": {},
   "outputs": [
    {
     "name": "stdout",
     "output_type": "stream",
     "text": [
      "<class 'pandas.core.frame.DataFrame'>\n",
      "RangeIndex: 5000 entries, 0 to 4999\n",
      "Data columns (total 8 columns):\n",
      " #   Column         Non-Null Count  Dtype  \n",
      "---  ------         --------------  -----  \n",
      " 0   event_time     5000 non-null   object \n",
      " 1   order_id       5000 non-null   int64  \n",
      " 2   product_id     5000 non-null   object \n",
      " 3   category_id    4997 non-null   object \n",
      " 4   category_code  3946 non-null   object \n",
      " 5   brand          4800 non-null   object \n",
      " 6   price          4997 non-null   float64\n",
      " 7   user_id        4997 non-null   float64\n",
      "dtypes: float64(2), int64(1), object(5)\n",
      "memory usage: 312.6+ KB\n"
     ]
    }
   ],
   "source": [
    "# check the table columns, data types using pandas\n",
    "df.info()"
   ]
  },
  {
   "cell_type": "code",
   "execution_count": 148,
   "metadata": {},
   "outputs": [
    {
     "data": {
      "text/plain": [
       "[(2201446, 0.02, 50925.9, 339246428.0, 154.1016348843336)]"
      ]
     },
     "execution_count": 148,
     "metadata": {},
     "output_type": "execute_result"
    }
   ],
   "source": [
    "#getting the count of orders, min price, max price, sum and average of sales \n",
    "cursor.execute('''SELECT COUNT(order_id),MIN(price),\n",
    "               MAX(price), ROUND(SUM(price)),AVG(price) FROM checkout WHERE price > 0''').fetchall()"
   ]
  },
  {
   "cell_type": "code",
   "execution_count": 224,
   "metadata": {},
   "outputs": [
    {
     "data": {
      "text/html": [
       "<div>\n",
       "<style scoped>\n",
       "    .dataframe tbody tr th:only-of-type {\n",
       "        vertical-align: middle;\n",
       "    }\n",
       "\n",
       "    .dataframe tbody tr th {\n",
       "        vertical-align: top;\n",
       "    }\n",
       "\n",
       "    .dataframe thead th {\n",
       "        text-align: right;\n",
       "    }\n",
       "</style>\n",
       "<table border=\"1\" class=\"dataframe\">\n",
       "  <thead>\n",
       "    <tr style=\"text-align: right;\">\n",
       "      <th></th>\n",
       "      <th>number_of_orders</th>\n",
       "      <th>minmum_price</th>\n",
       "      <th>max_price</th>\n",
       "      <th>total_sales</th>\n",
       "      <th>average_price</th>\n",
       "    </tr>\n",
       "  </thead>\n",
       "  <tbody>\n",
       "    <tr>\n",
       "      <th>0</th>\n",
       "      <td>2201446</td>\n",
       "      <td>0.02</td>\n",
       "      <td>50925.9</td>\n",
       "      <td>339246428.0</td>\n",
       "      <td>154.101635</td>\n",
       "    </tr>\n",
       "  </tbody>\n",
       "</table>\n",
       "</div>"
      ],
      "text/plain": [
       "   number_of_orders  minmum_price  max_price  total_sales  average_price\n",
       "0           2201446          0.02    50925.9  339246428.0     154.101635"
      ]
     },
     "execution_count": 224,
     "metadata": {},
     "output_type": "execute_result"
    }
   ],
   "source": [
    "#getting the count of orders, min price, max price, sum and average of sales in pandas \n",
    "\n",
    "g =('''SELECT COUNT(order_id) as number_of_orders,MIN(price) as minmum_price,\n",
    "               MAX(price) as max_price, ROUND(SUM(price)) as total_sales,\n",
    "               AVG(price) as average_price FROM checkout WHERE price > 0''')\n",
    "pd.read_sql_query(g, connection)"
   ]
  },
  {
   "cell_type": "code",
   "execution_count": 223,
   "metadata": {},
   "outputs": [
    {
     "data": {
      "text/html": [
       "<div>\n",
       "<style scoped>\n",
       "    .dataframe tbody tr th:only-of-type {\n",
       "        vertical-align: middle;\n",
       "    }\n",
       "\n",
       "    .dataframe tbody tr th {\n",
       "        vertical-align: top;\n",
       "    }\n",
       "\n",
       "    .dataframe thead th {\n",
       "        text-align: right;\n",
       "    }\n",
       "</style>\n",
       "<table border=\"1\" class=\"dataframe\">\n",
       "  <thead>\n",
       "    <tr style=\"text-align: right;\">\n",
       "      <th></th>\n",
       "      <th>median_price</th>\n",
       "    </tr>\n",
       "  </thead>\n",
       "  <tbody>\n",
       "    <tr>\n",
       "      <th>0</th>\n",
       "      <td>34.7</td>\n",
       "    </tr>\n",
       "  </tbody>\n",
       "</table>\n",
       "</div>"
      ],
      "text/plain": [
       "   median_price\n",
       "0          34.7"
      ]
     },
     "execution_count": 223,
     "metadata": {},
     "output_type": "execute_result"
    }
   ],
   "source": [
    "#Calculating the median price\n",
    "\n",
    "median = ('''SELECT price as median_price FROM checkout ORDER BY price\n",
    "LIMIT 1 OFFSET(SELECT COUNT(*) FROM checkout) / 2 ''')\n",
    "\n",
    "pd.read_sql_query(median, connection)"
   ]
  },
  {
   "cell_type": "code",
   "execution_count": 211,
   "metadata": {},
   "outputs": [
    {
     "data": {
      "text/html": [
       "<div>\n",
       "<style scoped>\n",
       "    .dataframe tbody tr th:only-of-type {\n",
       "        vertical-align: middle;\n",
       "    }\n",
       "\n",
       "    .dataframe tbody tr th {\n",
       "        vertical-align: top;\n",
       "    }\n",
       "\n",
       "    .dataframe thead th {\n",
       "        text-align: right;\n",
       "    }\n",
       "</style>\n",
       "<table border=\"1\" class=\"dataframe\">\n",
       "  <thead>\n",
       "    <tr style=\"text-align: right;\">\n",
       "      <th></th>\n",
       "      <th>event_time</th>\n",
       "      <th>order_id</th>\n",
       "      <th>product_id</th>\n",
       "      <th>category_id</th>\n",
       "      <th>category_code</th>\n",
       "      <th>brand</th>\n",
       "      <th>price</th>\n",
       "      <th>user_id</th>\n",
       "    </tr>\n",
       "  </thead>\n",
       "  <tbody>\n",
       "    <tr>\n",
       "      <th>0</th>\n",
       "      <td>2020-05-26 08:12:38 UTC</td>\n",
       "      <td>2353234364520727552</td>\n",
       "      <td>1515966223509105016</td>\n",
       "      <td>2.37449891400059e+18</td>\n",
       "      <td>electronics.video.tv</td>\n",
       "      <td>samsung</td>\n",
       "      <td>50925.9</td>\n",
       "      <td>None</td>\n",
       "    </tr>\n",
       "  </tbody>\n",
       "</table>\n",
       "</div>"
      ],
      "text/plain": [
       "                event_time             order_id           product_id  \\\n",
       "0  2020-05-26 08:12:38 UTC  2353234364520727552  1515966223509105016   \n",
       "\n",
       "            category_id         category_code    brand    price user_id  \n",
       "0  2.37449891400059e+18  electronics.video.tv  samsung  50925.9    None  "
      ]
     },
     "execution_count": 211,
     "metadata": {},
     "output_type": "execute_result"
    }
   ],
   "source": [
    "#the item with the highst price \n",
    "highst_item = ('''SELECT * \n",
    "FROM checkout\n",
    "WHERE price = (SELECT max(price) FROM checkout)''')\n",
    "\n",
    "highst_item_df = pd.read_sql_query(highst_item, connection)\n",
    "highst_item_df.head()"
   ]
  },
  {
   "cell_type": "code",
   "execution_count": 213,
   "metadata": {},
   "outputs": [
    {
     "data": {
      "text/html": [
       "<div>\n",
       "<style scoped>\n",
       "    .dataframe tbody tr th:only-of-type {\n",
       "        vertical-align: middle;\n",
       "    }\n",
       "\n",
       "    .dataframe tbody tr th {\n",
       "        vertical-align: top;\n",
       "    }\n",
       "\n",
       "    .dataframe thead th {\n",
       "        text-align: right;\n",
       "    }\n",
       "</style>\n",
       "<table border=\"1\" class=\"dataframe\">\n",
       "  <thead>\n",
       "    <tr style=\"text-align: right;\">\n",
       "      <th></th>\n",
       "      <th>event_time</th>\n",
       "      <th>order_id</th>\n",
       "      <th>product_id</th>\n",
       "      <th>category_id</th>\n",
       "      <th>category_code</th>\n",
       "      <th>brand</th>\n",
       "      <th>price</th>\n",
       "      <th>user_id</th>\n",
       "    </tr>\n",
       "  </thead>\n",
       "  <tbody>\n",
       "    <tr>\n",
       "      <th>0</th>\n",
       "      <td>2020-04-29 03:25:12 UTC</td>\n",
       "      <td>2297729407910937600</td>\n",
       "      <td>1515966223509105105</td>\n",
       "      <td>2.26810542752897e+18</td>\n",
       "      <td>None</td>\n",
       "      <td>sbs</td>\n",
       "      <td>0.02</td>\n",
       "      <td>1.515916e+18</td>\n",
       "    </tr>\n",
       "    <tr>\n",
       "      <th>1</th>\n",
       "      <td>2020-04-29 03:25:12 UTC</td>\n",
       "      <td>2297729407910937600</td>\n",
       "      <td>1515966223509105105</td>\n",
       "      <td>2.26810542752897e+18</td>\n",
       "      <td>None</td>\n",
       "      <td>sbs</td>\n",
       "      <td>0.02</td>\n",
       "      <td>1.515916e+18</td>\n",
       "    </tr>\n",
       "    <tr>\n",
       "      <th>2</th>\n",
       "      <td>2020-05-01 05:03:49 UTC</td>\n",
       "      <td>2299228597979709440</td>\n",
       "      <td>1515966223509262429</td>\n",
       "      <td>2.26810542726054e+18</td>\n",
       "      <td>None</td>\n",
       "      <td>ava</td>\n",
       "      <td>0.02</td>\n",
       "      <td>1.515916e+18</td>\n",
       "    </tr>\n",
       "    <tr>\n",
       "      <th>3</th>\n",
       "      <td>2020-05-01 08:08:36 UTC</td>\n",
       "      <td>2299321605823660800</td>\n",
       "      <td>1515966223509262429</td>\n",
       "      <td>2.26810542726054e+18</td>\n",
       "      <td>None</td>\n",
       "      <td>ava</td>\n",
       "      <td>0.02</td>\n",
       "      <td>1.515916e+18</td>\n",
       "    </tr>\n",
       "    <tr>\n",
       "      <th>4</th>\n",
       "      <td>2020-05-01 11:45:13 UTC</td>\n",
       "      <td>2299430630892503552</td>\n",
       "      <td>1515966223509616615</td>\n",
       "      <td>2.26810542726054e+18</td>\n",
       "      <td>None</td>\n",
       "      <td>ava</td>\n",
       "      <td>0.02</td>\n",
       "      <td>1.515916e+18</td>\n",
       "    </tr>\n",
       "  </tbody>\n",
       "</table>\n",
       "</div>"
      ],
      "text/plain": [
       "                event_time             order_id           product_id  \\\n",
       "0  2020-04-29 03:25:12 UTC  2297729407910937600  1515966223509105105   \n",
       "1  2020-04-29 03:25:12 UTC  2297729407910937600  1515966223509105105   \n",
       "2  2020-05-01 05:03:49 UTC  2299228597979709440  1515966223509262429   \n",
       "3  2020-05-01 08:08:36 UTC  2299321605823660800  1515966223509262429   \n",
       "4  2020-05-01 11:45:13 UTC  2299430630892503552  1515966223509616615   \n",
       "\n",
       "            category_id category_code brand  price       user_id  \n",
       "0  2.26810542752897e+18          None   sbs   0.02  1.515916e+18  \n",
       "1  2.26810542752897e+18          None   sbs   0.02  1.515916e+18  \n",
       "2  2.26810542726054e+18          None   ava   0.02  1.515916e+18  \n",
       "3  2.26810542726054e+18          None   ava   0.02  1.515916e+18  \n",
       "4  2.26810542726054e+18          None   ava   0.02  1.515916e+18  "
      ]
     },
     "execution_count": 213,
     "metadata": {},
     "output_type": "execute_result"
    }
   ],
   "source": [
    "#the item with the min price\n",
    "lowest_item = ('''SELECT * \n",
    "FROM checkout\n",
    "WHERE price = (SELECT min(price) FROM checkout WHERE price >0)''')\n",
    "\n",
    "lowest_item_df = pd.read_sql_query(lowest_item, connection)\n",
    "lowest_item_df.head()"
   ]
  },
  {
   "cell_type": "code",
   "execution_count": 159,
   "metadata": {},
   "outputs": [
    {
     "data": {
      "text/plain": [
       "[(98262,)]"
      ]
     },
     "execution_count": 159,
     "metadata": {},
     "output_type": "execute_result"
    }
   ],
   "source": [
    "# how many distinct users\n",
    "cursor.execute('''SELECT COUNT(DISTINCT user_id) FROM checkout where user_id != \"None\"''').fetchall()"
   ]
  },
  {
   "cell_type": "code",
   "execution_count": null,
   "metadata": {},
   "outputs": [],
   "source": [
    "# number of repeated customers\n",
    "cursor.execute('''SELECT COUNT()''')"
   ]
  },
  {
   "cell_type": "code",
   "execution_count": 206,
   "metadata": {},
   "outputs": [
    {
     "data": {
      "text/html": [
       "<div>\n",
       "<style scoped>\n",
       "    .dataframe tbody tr th:only-of-type {\n",
       "        vertical-align: middle;\n",
       "    }\n",
       "\n",
       "    .dataframe tbody tr th {\n",
       "        vertical-align: top;\n",
       "    }\n",
       "\n",
       "    .dataframe thead th {\n",
       "        text-align: right;\n",
       "    }\n",
       "</style>\n",
       "<table border=\"1\" class=\"dataframe\">\n",
       "  <thead>\n",
       "    <tr style=\"text-align: right;\">\n",
       "      <th></th>\n",
       "      <th>category_code</th>\n",
       "      <th>COUNT(category_id)</th>\n",
       "    </tr>\n",
       "  </thead>\n",
       "  <tbody>\n",
       "    <tr>\n",
       "      <th>0</th>\n",
       "      <td>None</td>\n",
       "      <td>612202</td>\n",
       "    </tr>\n",
       "    <tr>\n",
       "      <th>1</th>\n",
       "      <td>electronics.smartphone</td>\n",
       "      <td>357682</td>\n",
       "    </tr>\n",
       "    <tr>\n",
       "      <th>2</th>\n",
       "      <td>appliances.kitchen.refrigerators</td>\n",
       "      <td>77386</td>\n",
       "    </tr>\n",
       "    <tr>\n",
       "      <th>3</th>\n",
       "      <td>electronics.video.tv</td>\n",
       "      <td>71711</td>\n",
       "    </tr>\n",
       "    <tr>\n",
       "      <th>4</th>\n",
       "      <td>computers.notebook</td>\n",
       "      <td>71436</td>\n",
       "    </tr>\n",
       "  </tbody>\n",
       "</table>\n",
       "</div>"
      ],
      "text/plain": [
       "                      category_code  COUNT(category_id)\n",
       "0                              None              612202\n",
       "1            electronics.smartphone              357682\n",
       "2  appliances.kitchen.refrigerators               77386\n",
       "3              electronics.video.tv               71711\n",
       "4                computers.notebook               71436"
      ]
     },
     "execution_count": 206,
     "metadata": {},
     "output_type": "execute_result"
    }
   ],
   "source": [
    "#finding the count of orders per category\n",
    "order_per_category = ('''SELECT category_code, COUNT(category_id)\n",
    "FROM checkout GROUP BY category_code\n",
    "ORDER BY COUNT(category_id) DESC''')\n",
    "\n",
    "order_per_category_df = pd.read_sql_query(order_per_category, connection)\n",
    "order_per_category_df.head()"
   ]
  },
  {
   "cell_type": "code",
   "execution_count": 208,
   "metadata": {},
   "outputs": [
    {
     "data": {
      "text/html": [
       "<div>\n",
       "<style scoped>\n",
       "    .dataframe tbody tr th:only-of-type {\n",
       "        vertical-align: middle;\n",
       "    }\n",
       "\n",
       "    .dataframe tbody tr th {\n",
       "        vertical-align: top;\n",
       "    }\n",
       "\n",
       "    .dataframe thead th {\n",
       "        text-align: right;\n",
       "    }\n",
       "</style>\n",
       "<table border=\"1\" class=\"dataframe\">\n",
       "  <thead>\n",
       "    <tr style=\"text-align: right;\">\n",
       "      <th></th>\n",
       "      <th>brand</th>\n",
       "      <th>COUNT(brand)</th>\n",
       "      <th>total_price</th>\n",
       "    </tr>\n",
       "  </thead>\n",
       "  <tbody>\n",
       "    <tr>\n",
       "      <th>0</th>\n",
       "      <td>samsung</td>\n",
       "      <td>358925</td>\n",
       "      <td>90052822.0</td>\n",
       "    </tr>\n",
       "    <tr>\n",
       "      <th>1</th>\n",
       "      <td>ava</td>\n",
       "      <td>118161</td>\n",
       "      <td>8542529.0</td>\n",
       "    </tr>\n",
       "    <tr>\n",
       "      <th>2</th>\n",
       "      <td>tefal</td>\n",
       "      <td>78653</td>\n",
       "      <td>6454978.0</td>\n",
       "    </tr>\n",
       "    <tr>\n",
       "      <th>3</th>\n",
       "      <td>apple</td>\n",
       "      <td>74709</td>\n",
       "      <td>47914786.0</td>\n",
       "    </tr>\n",
       "    <tr>\n",
       "      <th>4</th>\n",
       "      <td>huawei</td>\n",
       "      <td>57437</td>\n",
       "      <td>10773965.0</td>\n",
       "    </tr>\n",
       "  </tbody>\n",
       "</table>\n",
       "</div>"
      ],
      "text/plain": [
       "     brand  COUNT(brand)  total_price\n",
       "0  samsung        358925   90052822.0\n",
       "1      ava        118161    8542529.0\n",
       "2    tefal         78653    6454978.0\n",
       "3    apple         74709   47914786.0\n",
       "4   huawei         57437   10773965.0"
      ]
     },
     "execution_count": 208,
     "metadata": {},
     "output_type": "execute_result"
    }
   ],
   "source": [
    "#finding where the top sales comes from which brand \n",
    "brand_sales = ('''SELECT brand, COUNT(brand), ROUND(SUM(price)) as total_price\n",
    "FROM checkout \n",
    "WHERE brand NOT LIKE '%[0-9]%' AND price > 0\n",
    "GROUP BY brand \n",
    "ORDER BY COUNT(brand) DESC''')\n",
    "\n",
    "brand_sales_df = pd.read_sql_query(brand_sales, connection)\n",
    "brand_sales_df.head()"
   ]
  },
  {
   "cell_type": "code",
   "execution_count": 165,
   "metadata": {},
   "outputs": [
    {
     "data": {
      "text/html": [
       "<div>\n",
       "<style scoped>\n",
       "    .dataframe tbody tr th:only-of-type {\n",
       "        vertical-align: middle;\n",
       "    }\n",
       "\n",
       "    .dataframe tbody tr th {\n",
       "        vertical-align: top;\n",
       "    }\n",
       "\n",
       "    .dataframe thead th {\n",
       "        text-align: right;\n",
       "    }\n",
       "</style>\n",
       "<table border=\"1\" class=\"dataframe\">\n",
       "  <thead>\n",
       "    <tr style=\"text-align: right;\">\n",
       "      <th></th>\n",
       "      <th>brand</th>\n",
       "      <th>items_per_brand</th>\n",
       "      <th>brand_sales</th>\n",
       "    </tr>\n",
       "  </thead>\n",
       "  <tbody>\n",
       "    <tr>\n",
       "      <th>0</th>\n",
       "      <td>samsung</td>\n",
       "      <td>358925</td>\n",
       "      <td>90052822.0</td>\n",
       "    </tr>\n",
       "    <tr>\n",
       "      <th>1</th>\n",
       "      <td>ava</td>\n",
       "      <td>118161</td>\n",
       "      <td>8542529.0</td>\n",
       "    </tr>\n",
       "    <tr>\n",
       "      <th>2</th>\n",
       "      <td>tefal</td>\n",
       "      <td>78653</td>\n",
       "      <td>6454978.0</td>\n",
       "    </tr>\n",
       "    <tr>\n",
       "      <th>3</th>\n",
       "      <td>apple</td>\n",
       "      <td>74709</td>\n",
       "      <td>47914786.0</td>\n",
       "    </tr>\n",
       "    <tr>\n",
       "      <th>4</th>\n",
       "      <td>huawei</td>\n",
       "      <td>57437</td>\n",
       "      <td>10773965.0</td>\n",
       "    </tr>\n",
       "  </tbody>\n",
       "</table>\n",
       "</div>"
      ],
      "text/plain": [
       "     brand  items_per_brand  brand_sales\n",
       "0  samsung           358925   90052822.0\n",
       "1      ava           118161    8542529.0\n",
       "2    tefal            78653    6454978.0\n",
       "3    apple            74709   47914786.0\n",
       "4   huawei            57437   10773965.0"
      ]
     },
     "execution_count": 165,
     "metadata": {},
     "output_type": "execute_result"
    }
   ],
   "source": [
    "#Insert the table into pandas dataframe and plot the result\n",
    "\n",
    "by_brand = ('''SELECT brand, COUNT(brand) as items_per_brand, ROUND(SUM(price)) as brand_sales\n",
    "FROM checkout \n",
    "WHERE brand NOT LIKE '%[0-9]%' AND price > 0\n",
    "GROUP BY brand \n",
    "ORDER BY COUNT(brand) DESC''')\n",
    "\n",
    "df = pd.read_sql(by_brand, connection)\n",
    "df.head()"
   ]
  },
  {
   "cell_type": "code",
   "execution_count": 178,
   "metadata": {},
   "outputs": [
    {
     "data": {
      "text/plain": [
       "<matplotlib.axes._subplots.AxesSubplot at 0x275e1a110b8>"
      ]
     },
     "execution_count": 178,
     "metadata": {},
     "output_type": "execute_result"
    },
    {
     "data": {
      "image/png": "[encoded data removed]",
      "text/plain": [
       "<Figure size 432x288 with 1 Axes>"
      ]
     },
     "metadata": {
      "needs_background": "light"
     },
     "output_type": "display_data"
    }
   ],
   "source": [
    "import seaborn as sns\n",
    "import matplotlib.pyplot as plt\n",
    "%matplotlib inline\n",
    "\n",
    "#plot items_sold per brand to see the distribution\n",
    "\n",
    "sns.distplot(df['items_per_brand'], bins = 15, rug = True )\n",
    "\n",
    "# the number of items sold per brand is skewed to the right since mos of brands are concentrated\n",
    "#around 0"
   ]
  },
  {
   "cell_type": "code",
   "execution_count": 183,
   "metadata": {},
   "outputs": [
    {
     "name": "stderr",
     "output_type": "stream",
     "text": [
      "C:\\Users\\alqai\\Anaconda3\\envs\\tensorflow\\lib\\site-packages\\ipykernel_launcher.py:7: UserWarning: Matplotlib is currently using module://ipykernel.pylab.backend_inline, which is a non-GUI backend, so cannot show the figure.\n",
      "  import sys\n"
     ]
    },
    {
     "data": {
      "image/png": "[encoded data removed]",
      "text/plain": [
       "<Figure size 1152x576 with 2 Axes>"
      ]
     },
     "metadata": {
      "needs_background": "light"
     },
     "output_type": "display_data"
    }
   ],
   "source": [
    "#plot items_sold per brand to see the distribution\n",
    "\n",
    "\n",
    "fig, ax =plt.subplots(1,2, figsize=(16,8))\n",
    "sns.countplot(df['brand_sales'], ax=ax[0])\n",
    "sns.countplot(df['items_per_brand'], ax=ax[1])\n",
    "fig.show()"
   ]
  },
  {
   "cell_type": "code",
   "execution_count": 201,
   "metadata": {},
   "outputs": [
    {
     "data": {
      "text/html": [
       "<div>\n",
       "<style scoped>\n",
       "    .dataframe tbody tr th:only-of-type {\n",
       "        vertical-align: middle;\n",
       "    }\n",
       "\n",
       "    .dataframe tbody tr th {\n",
       "        vertical-align: top;\n",
       "    }\n",
       "\n",
       "    .dataframe thead th {\n",
       "        text-align: right;\n",
       "    }\n",
       "</style>\n",
       "<table border=\"1\" class=\"dataframe\">\n",
       "  <thead>\n",
       "    <tr style=\"text-align: right;\">\n",
       "      <th></th>\n",
       "      <th>min(mincount)</th>\n",
       "      <th>category_code</th>\n",
       "    </tr>\n",
       "  </thead>\n",
       "  <tbody>\n",
       "    <tr>\n",
       "      <th>0</th>\n",
       "      <td>2</td>\n",
       "      <td>apparel.shoes</td>\n",
       "    </tr>\n",
       "  </tbody>\n",
       "</table>\n",
       "</div>"
      ],
      "text/plain": [
       "   min(mincount)  category_code\n",
       "0              2  apparel.shoes"
      ]
     },
     "execution_count": 201,
     "metadata": {},
     "output_type": "execute_result"
    }
   ],
   "source": [
    "# min category ordered from category_code # tried where  category_code != 'int' and it gave me None\n",
    "min_category = ('''SELECT min(mincount), category_code\n",
    "FROM (SELECT category_code, COUNT(category_code) AS mincount FROM checkout GROUP BY category_code) \n",
    "where  category_code = 'apparel.shoes'\n",
    "''')\n",
    "\n",
    "min_category_df = pd.read_sql_query(min_category, connection)\n",
    "min_category_df.head()"
   ]
  },
  {
   "cell_type": "code",
   "execution_count": 203,
   "metadata": {},
   "outputs": [
    {
     "data": {
      "text/html": [
       "<div>\n",
       "<style scoped>\n",
       "    .dataframe tbody tr th:only-of-type {\n",
       "        vertical-align: middle;\n",
       "    }\n",
       "\n",
       "    .dataframe tbody tr th {\n",
       "        vertical-align: top;\n",
       "    }\n",
       "\n",
       "    .dataframe thead th {\n",
       "        text-align: right;\n",
       "    }\n",
       "</style>\n",
       "<table border=\"1\" class=\"dataframe\">\n",
       "  <thead>\n",
       "    <tr style=\"text-align: right;\">\n",
       "      <th></th>\n",
       "      <th>MAX(maxcount)</th>\n",
       "      <th>category_code</th>\n",
       "    </tr>\n",
       "  </thead>\n",
       "  <tbody>\n",
       "    <tr>\n",
       "      <th>0</th>\n",
       "      <td>357682</td>\n",
       "      <td>electronics.smartphone</td>\n",
       "    </tr>\n",
       "  </tbody>\n",
       "</table>\n",
       "</div>"
      ],
      "text/plain": [
       "   MAX(maxcount)           category_code\n",
       "0         357682  electronics.smartphone"
      ]
     },
     "execution_count": 203,
     "metadata": {},
     "output_type": "execute_result"
    }
   ],
   "source": [
    "# max category ordered from category_code\n",
    "max_category= ('''SELECT MAX(maxcount), category_code\n",
    "FROM (SELECT category_code, COUNT(category_code) AS maxcount FROM checkout GROUP BY category_code) \n",
    "''')\n",
    "\n",
    "max_category_df = pd.read_sql_query(max_category, connection)\n",
    "max_category_df.head()"
   ]
  },
  {
   "cell_type": "code",
   "execution_count": 110,
   "metadata": {},
   "outputs": [
    {
     "data": {
      "text/plain": [
       "[(None,)]"
      ]
     },
     "execution_count": 110,
     "metadata": {},
     "output_type": "execute_result"
    }
   ],
   "source": [
    "#check if there is any returns by see if there is any values < 0\n",
    "cursor.execute('''SELECT SUM(price) FROM checkout WHERE price <0''').fetchall()"
   ]
  },
  {
   "cell_type": "code",
   "execution_count": 198,
   "metadata": {},
   "outputs": [
    {
     "data": {
      "text/html": [
       "<div>\n",
       "<style scoped>\n",
       "    .dataframe tbody tr th:only-of-type {\n",
       "        vertical-align: middle;\n",
       "    }\n",
       "\n",
       "    .dataframe tbody tr th {\n",
       "        vertical-align: top;\n",
       "    }\n",
       "\n",
       "    .dataframe thead th {\n",
       "        text-align: right;\n",
       "    }\n",
       "</style>\n",
       "<table border=\"1\" class=\"dataframe\">\n",
       "  <thead>\n",
       "    <tr style=\"text-align: right;\">\n",
       "      <th></th>\n",
       "      <th>brand</th>\n",
       "      <th>number_of_orders</th>\n",
       "      <th>category_code</th>\n",
       "      <th>sales</th>\n",
       "    </tr>\n",
       "  </thead>\n",
       "  <tbody>\n",
       "    <tr>\n",
       "      <th>0</th>\n",
       "      <td>samsung</td>\n",
       "      <td>178903</td>\n",
       "      <td>electronics.smartphone</td>\n",
       "      <td>4.498434e+07</td>\n",
       "    </tr>\n",
       "    <tr>\n",
       "      <th>1</th>\n",
       "      <td>apple</td>\n",
       "      <td>46030</td>\n",
       "      <td>electronics.smartphone</td>\n",
       "      <td>3.535255e+07</td>\n",
       "    </tr>\n",
       "    <tr>\n",
       "      <th>2</th>\n",
       "      <td>samsung</td>\n",
       "      <td>22698</td>\n",
       "      <td>electronics.video.tv</td>\n",
       "      <td>1.267467e+07</td>\n",
       "    </tr>\n",
       "    <tr>\n",
       "      <th>3</th>\n",
       "      <td>lg</td>\n",
       "      <td>19234</td>\n",
       "      <td>electronics.video.tv</td>\n",
       "      <td>1.049990e+07</td>\n",
       "    </tr>\n",
       "    <tr>\n",
       "      <th>4</th>\n",
       "      <td>lenovo</td>\n",
       "      <td>17886</td>\n",
       "      <td>computers.notebook</td>\n",
       "      <td>1.025737e+07</td>\n",
       "    </tr>\n",
       "  </tbody>\n",
       "</table>\n",
       "</div>"
      ],
      "text/plain": [
       "     brand  number_of_orders           category_code         sales\n",
       "0  samsung            178903  electronics.smartphone  4.498434e+07\n",
       "1    apple             46030  electronics.smartphone  3.535255e+07\n",
       "2  samsung             22698    electronics.video.tv  1.267467e+07\n",
       "3       lg             19234    electronics.video.tv  1.049990e+07\n",
       "4   lenovo             17886      computers.notebook  1.025737e+07"
      ]
     },
     "execution_count": 198,
     "metadata": {},
     "output_type": "execute_result"
    }
   ],
   "source": [
    "#calculate total orders per brand \n",
    "per_brand = ('''SELECT brand,count(order_id) as number_of_orders,\n",
    "category_code, SUM(price) as sales\n",
    "FROM checkout\n",
    "group by brand, category_code\n",
    "HAVING sales >1 AND brand !='None'\n",
    "ORDER by sales DESC''')\n",
    "\n",
    "per_brand_df = pd.read_sql_query(per_brand, connection)\n",
    "per_brand_df.head()"
   ]
  },
  {
   "cell_type": "code",
   "execution_count": 218,
   "metadata": {},
   "outputs": [
    {
     "data": {
      "text/plain": [
       "<matplotlib.axes._subplots.AxesSubplot at 0x275e778a400>"
      ]
     },
     "execution_count": 218,
     "metadata": {},
     "output_type": "execute_result"
    },
    {
     "data": {
      "image/png": "[encoded data removed]",
      "text/plain": [
       "<Figure size 432x288 with 1 Axes>"
      ]
     },
     "metadata": {
      "needs_background": "light"
     },
     "output_type": "display_data"
    }
   ],
   "source": [
    "#plot order distribution per brand\n",
    "sns.distplot(per_brand_df['number_of_orders'], bins = 15, rug = True )"
   ]
  },
  {
   "cell_type": "code",
   "execution_count": null,
   "metadata": {},
   "outputs": [],
   "source": [
    "('''SELECT brand, sum(price)as price_cat\n",
    "FROM checkout\n",
    "GROUP BY brand\n",
    "HAVING price_cat < 10''')"
   ]
  }
 ],
 "metadata": {
  "kernelspec": {
   "display_name": "Python 3",
   "language": "python",
   "name": "python3"
  },
  "language_info": {
   "codemirror_mode": {
    "name": "ipython",
    "version": 3
   },
   "file_extension": ".py",
   "mimetype": "text/x-python",
   "name": "python",
   "nbconvert_exporter": "python",
   "pygments_lexer": "ipython3",
   "version": "3.7.1"
  }
 },
 "nbformat": 4,
 "nbformat_minor": 4
}
