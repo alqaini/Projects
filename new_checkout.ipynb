{
 "cells": [
  {
   "cell_type": "markdown",
   "metadata": {},
   "source": [
    "# e-commerce Checkout Dataset\n",
    "The dataset displays the transactions of an e-commerce store between Apri 24th and November 21st, 2020\n",
    "* Business metrics\n",
    "* Site metrics\n",
    "* category GMV"
   ]
  },
  {
   "cell_type": "code",
   "execution_count": 1,
   "metadata": {},
   "outputs": [],
   "source": [
    "import pandas as pd\n",
    "import sqlite3\n",
    "import matplotlib.pyplot as plt\n",
    "import seaborn as sns\n",
    "%matplotlib inline"
   ]
  },
  {
   "cell_type": "code",
   "execution_count": 2,
   "metadata": {},
   "outputs": [],
   "source": [
    "connection = sqlite3.connect('C:/Users/alqai/Downloads/Code _ Data/ecommerce_checkout.db')"
   ]
  },
  {
   "cell_type": "code",
   "execution_count": 3,
   "metadata": {},
   "outputs": [],
   "source": [
    "cursor = connection.cursor()"
   ]
  },
  {
   "cell_type": "markdown",
   "metadata": {},
   "source": [
    "### Exploring the dataset"
   ]
  },
  {
   "cell_type": "code",
   "execution_count": 4,
   "metadata": {
    "scrolled": false
   },
   "outputs": [
    {
     "data": {
      "text/html": [
       "<div>\n",
       "<style scoped>\n",
       "    .dataframe tbody tr th:only-of-type {\n",
       "        vertical-align: middle;\n",
       "    }\n",
       "\n",
       "    .dataframe tbody tr th {\n",
       "        vertical-align: top;\n",
       "    }\n",
       "\n",
       "    .dataframe thead th {\n",
       "        text-align: right;\n",
       "    }\n",
       "</style>\n",
       "<table border=\"1\" class=\"dataframe\">\n",
       "  <thead>\n",
       "    <tr style=\"text-align: right;\">\n",
       "      <th></th>\n",
       "      <th>type</th>\n",
       "      <th>name</th>\n",
       "      <th>tbl_name</th>\n",
       "      <th>rootpage</th>\n",
       "      <th>sql</th>\n",
       "    </tr>\n",
       "  </thead>\n",
       "  <tbody>\n",
       "    <tr>\n",
       "      <th>0</th>\n",
       "      <td>table</td>\n",
       "      <td>checkout</td>\n",
       "      <td>checkout</td>\n",
       "      <td>62907</td>\n",
       "      <td>CREATE TABLE \"checkout\" (\\n\"index\" INTEGER,\\n ...</td>\n",
       "    </tr>\n",
       "    <tr>\n",
       "      <th>1</th>\n",
       "      <td>table</td>\n",
       "      <td>all_data</td>\n",
       "      <td>all_data</td>\n",
       "      <td>58536</td>\n",
       "      <td>CREATE TABLE \"all_data\" (\\n\\t\"event_time\"\\tTEX...</td>\n",
       "    </tr>\n",
       "  </tbody>\n",
       "</table>\n",
       "</div>"
      ],
      "text/plain": [
       "    type      name  tbl_name  rootpage  \\\n",
       "0  table  checkout  checkout     62907   \n",
       "1  table  all_data  all_data     58536   \n",
       "\n",
       "                                                 sql  \n",
       "0  CREATE TABLE \"checkout\" (\\n\"index\" INTEGER,\\n ...  \n",
       "1  CREATE TABLE \"all_data\" (\\n\\t\"event_time\"\\tTEX...  "
      ]
     },
     "execution_count": 4,
     "metadata": {},
     "output_type": "execute_result"
    }
   ],
   "source": [
    "pd.read_sql_query('SELECT * FROM sqlite_master WHERE type = \"table\"', connection)"
   ]
  },
  {
   "cell_type": "markdown",
   "metadata": {},
   "source": [
    "*table : checkout has only one item per order. Table all_data has the full dataset. more that one item per order. I can use only all_data table to get the same outcomes, but I will be using both tables to to practice more sql queries "
   ]
  },
  {
   "cell_type": "markdown",
   "metadata": {},
   "source": [
    "### Preprocessing the checkout table  \n"
   ]
  },
  {
   "cell_type": "markdown",
   "metadata": {},
   "source": [
    "### Table data types"
   ]
  },
  {
   "cell_type": "code",
   "execution_count": 5,
   "metadata": {},
   "outputs": [],
   "source": [
    "df = pd.read_sql_query('''SELECT * FROM checkout''', connection)\n"
   ]
  },
  {
   "cell_type": "code",
   "execution_count": 6,
   "metadata": {
    "scrolled": false
   },
   "outputs": [
    {
     "name": "stdout",
     "output_type": "stream",
     "text": [
      "<class 'pandas.core.frame.DataFrame'>\n",
      "RangeIndex: 1112406 entries, 0 to 1112405\n",
      "Data columns (total 9 columns):\n",
      " #   Column         Non-Null Count    Dtype  \n",
      "---  ------         --------------    -----  \n",
      " 0   index          1112406 non-null  int64  \n",
      " 1   event_time     1112406 non-null  object \n",
      " 2   order_id       1112406 non-null  float64\n",
      " 3   product_id     1112406 non-null  float64\n",
      " 4   category_id    1011910 non-null  float64\n",
      " 5   category_code  854959 non-null   object \n",
      " 6   brand          970633 non-null   object \n",
      " 7   price          1011910 non-null  float64\n",
      " 8   user_id        230783 non-null   float64\n",
      "dtypes: float64(5), int64(1), object(3)\n",
      "memory usage: 76.4+ MB\n"
     ]
    }
   ],
   "source": [
    "df.info()"
   ]
  },
  {
   "cell_type": "code",
   "execution_count": 7,
   "metadata": {},
   "outputs": [
    {
     "data": {
      "text/html": [
       "<div>\n",
       "<style scoped>\n",
       "    .dataframe tbody tr th:only-of-type {\n",
       "        vertical-align: middle;\n",
       "    }\n",
       "\n",
       "    .dataframe tbody tr th {\n",
       "        vertical-align: top;\n",
       "    }\n",
       "\n",
       "    .dataframe thead th {\n",
       "        text-align: right;\n",
       "    }\n",
       "</style>\n",
       "<table border=\"1\" class=\"dataframe\">\n",
       "  <thead>\n",
       "    <tr style=\"text-align: right;\">\n",
       "      <th></th>\n",
       "      <th>index</th>\n",
       "      <th>event_time</th>\n",
       "      <th>order_id</th>\n",
       "      <th>product_id</th>\n",
       "      <th>category_id</th>\n",
       "      <th>category_code</th>\n",
       "      <th>brand</th>\n",
       "      <th>price</th>\n",
       "      <th>user_id</th>\n",
       "    </tr>\n",
       "  </thead>\n",
       "  <tbody>\n",
       "    <tr>\n",
       "      <th>0</th>\n",
       "      <td>0</td>\n",
       "      <td>2020-04-24 11:50:39 UTC</td>\n",
       "      <td>2.294360e+18</td>\n",
       "      <td>1.515966e+18</td>\n",
       "      <td>2.268105e+18</td>\n",
       "      <td>electronics.tablet</td>\n",
       "      <td>samsung</td>\n",
       "      <td>162.01</td>\n",
       "      <td>1.515916e+18</td>\n",
       "    </tr>\n",
       "    <tr>\n",
       "      <th>1</th>\n",
       "      <td>2</td>\n",
       "      <td>2020-04-24 14:37:43 UTC</td>\n",
       "      <td>2.294444e+18</td>\n",
       "      <td>2.273948e+18</td>\n",
       "      <td>2.268105e+18</td>\n",
       "      <td>electronics.audio.headphone</td>\n",
       "      <td>huawei</td>\n",
       "      <td>77.52</td>\n",
       "      <td>1.515916e+18</td>\n",
       "    </tr>\n",
       "  </tbody>\n",
       "</table>\n",
       "</div>"
      ],
      "text/plain": [
       "   index               event_time      order_id    product_id   category_id  \\\n",
       "0      0  2020-04-24 11:50:39 UTC  2.294360e+18  1.515966e+18  2.268105e+18   \n",
       "1      2  2020-04-24 14:37:43 UTC  2.294444e+18  2.273948e+18  2.268105e+18   \n",
       "\n",
       "                 category_code    brand   price       user_id  \n",
       "0           electronics.tablet  samsung  162.01  1.515916e+18  \n",
       "1  electronics.audio.headphone   huawei   77.52  1.515916e+18  "
      ]
     },
     "execution_count": 7,
     "metadata": {},
     "output_type": "execute_result"
    }
   ],
   "source": [
    "df.head(2)"
   ]
  },
  {
   "cell_type": "markdown",
   "metadata": {},
   "source": [
    "### Check duplicates \n"
   ]
  },
  {
   "cell_type": "code",
   "execution_count": 13,
   "metadata": {
    "scrolled": true
   },
   "outputs": [
    {
     "data": {
      "text/html": [
       "<div>\n",
       "<style scoped>\n",
       "    .dataframe tbody tr th:only-of-type {\n",
       "        vertical-align: middle;\n",
       "    }\n",
       "\n",
       "    .dataframe tbody tr th {\n",
       "        vertical-align: top;\n",
       "    }\n",
       "\n",
       "    .dataframe thead th {\n",
       "        text-align: right;\n",
       "    }\n",
       "</style>\n",
       "<table border=\"1\" class=\"dataframe\">\n",
       "  <thead>\n",
       "    <tr style=\"text-align: right;\">\n",
       "      <th></th>\n",
       "      <th>COUNT(DISTINCT order_id)</th>\n",
       "      <th>COUNT(order_id)</th>\n",
       "    </tr>\n",
       "  </thead>\n",
       "  <tbody>\n",
       "    <tr>\n",
       "      <th>0</th>\n",
       "      <td>1112406</td>\n",
       "      <td>2633521</td>\n",
       "    </tr>\n",
       "  </tbody>\n",
       "</table>\n",
       "</div>"
      ],
      "text/plain": [
       "   COUNT(DISTINCT order_id)  COUNT(order_id)\n",
       "0                   1112406          2633521"
      ]
     },
     "execution_count": 13,
     "metadata": {},
     "output_type": "execute_result"
    }
   ],
   "source": [
    "dstinct = ('''SELECT COUNT(DISTINCT order_id), COUNT(order_id) FROM all_data''')\n",
    "pd.read_sql_query(dstinct, connection)\n"
   ]
  },
  {
   "cell_type": "markdown",
   "metadata": {},
   "source": [
    "\n",
    "The reason why there are duplicated order_ids is that the order has more than one item, so order_id was duplicated. Need to keep it in mind when calculating using order_id"
   ]
  },
  {
   "cell_type": "markdown",
   "metadata": {},
   "source": [
    "## Business metrics\n",
    "- GMV (Gross Merchendise Value)\n",
    "- GMV Orders \n",
    "- GMV units\n",
    "- ASP (Average selling price)\n",
    "- AOV ( Average order value) "
   ]
  },
  {
   "cell_type": "markdown",
   "metadata": {},
   "source": [
    "#### GMV (Gross Merchendise Value) ,  ASP (Average selling price per item), GMV orders, GMV units\n"
   ]
  },
  {
   "cell_type": "code",
   "execution_count": 61,
   "metadata": {
    "scrolled": true
   },
   "outputs": [
    {
     "data": {
      "text/html": [
       "<div>\n",
       "<style scoped>\n",
       "    .dataframe tbody tr th:only-of-type {\n",
       "        vertical-align: middle;\n",
       "    }\n",
       "\n",
       "    .dataframe tbody tr th {\n",
       "        vertical-align: top;\n",
       "    }\n",
       "\n",
       "    .dataframe thead th {\n",
       "        text-align: right;\n",
       "    }\n",
       "</style>\n",
       "<table border=\"1\" class=\"dataframe\">\n",
       "  <thead>\n",
       "    <tr style=\"text-align: right;\">\n",
       "      <th></th>\n",
       "      <th>GMV_orders</th>\n",
       "      <th>GMV_units</th>\n",
       "      <th>GMV</th>\n",
       "      <th>max_item_price</th>\n",
       "      <th>min_item_price</th>\n",
       "      <th>ASP</th>\n",
       "    </tr>\n",
       "  </thead>\n",
       "  <tbody>\n",
       "    <tr>\n",
       "      <th>0</th>\n",
       "      <td>1097399</td>\n",
       "      <td>2201567</td>\n",
       "      <td>339246428.0</td>\n",
       "      <td>50925.9</td>\n",
       "      <td>0.0</td>\n",
       "      <td>154.093165</td>\n",
       "    </tr>\n",
       "  </tbody>\n",
       "</table>\n",
       "</div>"
      ],
      "text/plain": [
       "   GMV_orders  GMV_units          GMV  max_item_price  min_item_price  \\\n",
       "0     1097399    2201567  339246428.0         50925.9             0.0   \n",
       "\n",
       "          ASP  \n",
       "0  154.093165  "
      ]
     },
     "execution_count": 61,
     "metadata": {},
     "output_type": "execute_result"
    }
   ],
   "source": [
    "GMV = ('''SELECT COUNT(DISTINCT order_id) as GMV_orders,COUNT(product_id)as GMV_units,\n",
    "               ROUND(SUM(price)) as GMV, MAX(price) as max_item_price,MIN(price) as min_item_price,\n",
    "               AVG(price) as ASP FROM all_data WHERE price >= 0''')\n",
    "pd.read_sql_query(GMV, connection)"
   ]
  },
  {
   "cell_type": "markdown",
   "metadata": {},
   "source": [
    "####  AOV (Average order value)"
   ]
  },
  {
   "cell_type": "code",
   "execution_count": 18,
   "metadata": {},
   "outputs": [
    {
     "data": {
      "text/html": [
       "<div>\n",
       "<style scoped>\n",
       "    .dataframe tbody tr th:only-of-type {\n",
       "        vertical-align: middle;\n",
       "    }\n",
       "\n",
       "    .dataframe tbody tr th {\n",
       "        vertical-align: top;\n",
       "    }\n",
       "\n",
       "    .dataframe thead th {\n",
       "        text-align: right;\n",
       "    }\n",
       "</style>\n",
       "<table border=\"1\" class=\"dataframe\">\n",
       "  <thead>\n",
       "    <tr style=\"text-align: right;\">\n",
       "      <th></th>\n",
       "      <th>AOV</th>\n",
       "    </tr>\n",
       "  </thead>\n",
       "  <tbody>\n",
       "    <tr>\n",
       "      <th>0</th>\n",
       "      <td>304.966377</td>\n",
       "    </tr>\n",
       "  </tbody>\n",
       "</table>\n",
       "</div>"
      ],
      "text/plain": [
       "          AOV\n",
       "0  304.966377"
      ]
     },
     "execution_count": 18,
     "metadata": {},
     "output_type": "execute_result"
    }
   ],
   "source": [
    "aov = pd.read_sql_query('''SELECT SUM(price) / COUNT(DISTINCT order_id) as AOV\n",
    "FROM all_data''', connection)\n",
    "aov"
   ]
  },
  {
   "cell_type": "markdown",
   "metadata": {},
   "source": [
    "####    Orders count over the AOV"
   ]
  },
  {
   "cell_type": "code",
   "execution_count": 19,
   "metadata": {
    "scrolled": true
   },
   "outputs": [
    {
     "data": {
      "text/html": [
       "<div>\n",
       "<style scoped>\n",
       "    .dataframe tbody tr th:only-of-type {\n",
       "        vertical-align: middle;\n",
       "    }\n",
       "\n",
       "    .dataframe tbody tr th {\n",
       "        vertical-align: top;\n",
       "    }\n",
       "\n",
       "    .dataframe thead th {\n",
       "        text-align: right;\n",
       "    }\n",
       "</style>\n",
       "<table border=\"1\" class=\"dataframe\">\n",
       "  <thead>\n",
       "    <tr style=\"text-align: right;\">\n",
       "      <th></th>\n",
       "      <th>COUNT(DISTINCT order_id)</th>\n",
       "    </tr>\n",
       "  </thead>\n",
       "  <tbody>\n",
       "    <tr>\n",
       "      <th>0</th>\n",
       "      <td>221431</td>\n",
       "    </tr>\n",
       "  </tbody>\n",
       "</table>\n",
       "</div>"
      ],
      "text/plain": [
       "   COUNT(DISTINCT order_id)\n",
       "0                    221431"
      ]
     },
     "execution_count": 19,
     "metadata": {},
     "output_type": "execute_result"
    }
   ],
   "source": [
    "num_ord_over = pd.read_sql_query('''SELECT COUNT(DISTINCT order_id) FROM all_data\n",
    "WHERE price > 305''', connection)\n",
    "num_ord_over"
   ]
  },
  {
   "cell_type": "markdown",
   "metadata": {},
   "source": [
    "#### Median price per item\n"
   ]
  },
  {
   "cell_type": "code",
   "execution_count": 21,
   "metadata": {
    "scrolled": false
   },
   "outputs": [
    {
     "data": {
      "text/html": [
       "<div>\n",
       "<style scoped>\n",
       "    .dataframe tbody tr th:only-of-type {\n",
       "        vertical-align: middle;\n",
       "    }\n",
       "\n",
       "    .dataframe tbody tr th {\n",
       "        vertical-align: top;\n",
       "    }\n",
       "\n",
       "    .dataframe thead th {\n",
       "        text-align: right;\n",
       "    }\n",
       "</style>\n",
       "<table border=\"1\" class=\"dataframe\">\n",
       "  <thead>\n",
       "    <tr style=\"text-align: right;\">\n",
       "      <th></th>\n",
       "      <th>median_price</th>\n",
       "    </tr>\n",
       "  </thead>\n",
       "  <tbody>\n",
       "    <tr>\n",
       "      <th>0</th>\n",
       "      <td>34.7</td>\n",
       "    </tr>\n",
       "  </tbody>\n",
       "</table>\n",
       "</div>"
      ],
      "text/plain": [
       "   median_price\n",
       "0          34.7"
      ]
     },
     "execution_count": 21,
     "metadata": {},
     "output_type": "execute_result"
    }
   ],
   "source": [
    "\n",
    "median = ('''SELECT price as median_price FROM all_data ORDER BY price\n",
    "LIMIT 1 OFFSET(SELECT COUNT(*) FROM all_data) / 2 ''')\n",
    "\n",
    "pd.read_sql_query(median, connection)"
   ]
  },
  {
   "cell_type": "markdown",
   "metadata": {},
   "source": [
    "###  Highst price item sold\n"
   ]
  },
  {
   "cell_type": "code",
   "execution_count": 22,
   "metadata": {},
   "outputs": [
    {
     "data": {
      "text/html": [
       "<div>\n",
       "<style scoped>\n",
       "    .dataframe tbody tr th:only-of-type {\n",
       "        vertical-align: middle;\n",
       "    }\n",
       "\n",
       "    .dataframe tbody tr th {\n",
       "        vertical-align: top;\n",
       "    }\n",
       "\n",
       "    .dataframe thead th {\n",
       "        text-align: right;\n",
       "    }\n",
       "</style>\n",
       "<table border=\"1\" class=\"dataframe\">\n",
       "  <thead>\n",
       "    <tr style=\"text-align: right;\">\n",
       "      <th></th>\n",
       "      <th>index</th>\n",
       "      <th>event_time</th>\n",
       "      <th>order_id</th>\n",
       "      <th>product_id</th>\n",
       "      <th>category_id</th>\n",
       "      <th>category_code</th>\n",
       "      <th>brand</th>\n",
       "      <th>price</th>\n",
       "      <th>user_id</th>\n",
       "    </tr>\n",
       "  </thead>\n",
       "  <tbody>\n",
       "    <tr>\n",
       "      <th>0</th>\n",
       "      <td>28623</td>\n",
       "      <td>2020-06-26 09:10:44 UTC</td>\n",
       "      <td>2.339940e+18</td>\n",
       "      <td>1.515966e+18</td>\n",
       "      <td>2.374499e+18</td>\n",
       "      <td>electronics.video.tv</td>\n",
       "      <td>None</td>\n",
       "      <td>13310.16</td>\n",
       "      <td>1.515916e+18</td>\n",
       "    </tr>\n",
       "  </tbody>\n",
       "</table>\n",
       "</div>"
      ],
      "text/plain": [
       "   index               event_time      order_id    product_id   category_id  \\\n",
       "0  28623  2020-06-26 09:10:44 UTC  2.339940e+18  1.515966e+18  2.374499e+18   \n",
       "\n",
       "          category_code brand     price       user_id  \n",
       "0  electronics.video.tv  None  13310.16  1.515916e+18  "
      ]
     },
     "execution_count": 22,
     "metadata": {},
     "output_type": "execute_result"
    }
   ],
   "source": [
    "highst_item = ('''SELECT * \n",
    "FROM checkout\n",
    "WHERE price = (SELECT max(price) FROM checkout)''')\n",
    "\n",
    "highst_item_df = pd.read_sql_query(highst_item, connection)\n",
    "highst_item_df.head()"
   ]
  },
  {
   "cell_type": "markdown",
   "metadata": {},
   "source": [
    "### Lowest price items\n"
   ]
  },
  {
   "cell_type": "code",
   "execution_count": 23,
   "metadata": {
    "scrolled": true
   },
   "outputs": [
    {
     "data": {
      "text/html": [
       "<div>\n",
       "<style scoped>\n",
       "    .dataframe tbody tr th:only-of-type {\n",
       "        vertical-align: middle;\n",
       "    }\n",
       "\n",
       "    .dataframe tbody tr th {\n",
       "        vertical-align: top;\n",
       "    }\n",
       "\n",
       "    .dataframe thead th {\n",
       "        text-align: right;\n",
       "    }\n",
       "</style>\n",
       "<table border=\"1\" class=\"dataframe\">\n",
       "  <thead>\n",
       "    <tr style=\"text-align: right;\">\n",
       "      <th></th>\n",
       "      <th>index</th>\n",
       "      <th>event_time</th>\n",
       "      <th>order_id</th>\n",
       "      <th>product_id</th>\n",
       "      <th>category_id</th>\n",
       "      <th>category_code</th>\n",
       "      <th>brand</th>\n",
       "      <th>price</th>\n",
       "      <th>user_id</th>\n",
       "    </tr>\n",
       "  </thead>\n",
       "  <tbody>\n",
       "    <tr>\n",
       "      <th>0</th>\n",
       "      <td>25</td>\n",
       "      <td>2020-04-29 03:25:12 UTC</td>\n",
       "      <td>2.297729e+18</td>\n",
       "      <td>1.515966e+18</td>\n",
       "      <td>2.268105e+18</td>\n",
       "      <td>None</td>\n",
       "      <td>sbs</td>\n",
       "      <td>0.02</td>\n",
       "      <td>1.515916e+18</td>\n",
       "    </tr>\n",
       "  </tbody>\n",
       "</table>\n",
       "</div>"
      ],
      "text/plain": [
       "   index               event_time      order_id    product_id   category_id  \\\n",
       "0     25  2020-04-29 03:25:12 UTC  2.297729e+18  1.515966e+18  2.268105e+18   \n",
       "\n",
       "  category_code brand  price       user_id  \n",
       "0          None   sbs   0.02  1.515916e+18  "
      ]
     },
     "execution_count": 23,
     "metadata": {},
     "output_type": "execute_result"
    }
   ],
   "source": [
    "lowest_item = ('''SELECT DISTINCT* \n",
    "FROM checkout\n",
    "WHERE price = (SELECT min(price) FROM checkout WHERE price >0)''')\n",
    "\n",
    "lowest_item_df = pd.read_sql_query(lowest_item, connection)\n",
    "lowest_item_df.head(1)"
   ]
  },
  {
   "cell_type": "markdown",
   "metadata": {},
   "source": [
    "## Site Metrics\n",
    "- Session Count, Session per customer, Total order per session, Session per Visitor\n",
    "- Orders per session\n",
    "- Session conversion ( session with orders / total session)\n",
    "- Visitor Count\n",
    "- Customer Count, average visits per customer\n",
    "- total visits\n",
    "- order shares and total share for each group\n"
   ]
  },
  {
   "cell_type": "markdown",
   "metadata": {},
   "source": [
    "#### Session count \n",
    "Assuming that every order or event time from the checkout table is counted as a session since we don't have session information"
   ]
  },
  {
   "cell_type": "code",
   "execution_count": 24,
   "metadata": {
    "scrolled": true
   },
   "outputs": [
    {
     "data": {
      "text/html": [
       "<div>\n",
       "<style scoped>\n",
       "    .dataframe tbody tr th:only-of-type {\n",
       "        vertical-align: middle;\n",
       "    }\n",
       "\n",
       "    .dataframe tbody tr th {\n",
       "        vertical-align: top;\n",
       "    }\n",
       "\n",
       "    .dataframe thead th {\n",
       "        text-align: right;\n",
       "    }\n",
       "</style>\n",
       "<table border=\"1\" class=\"dataframe\">\n",
       "  <thead>\n",
       "    <tr style=\"text-align: right;\">\n",
       "      <th></th>\n",
       "      <th>session_count</th>\n",
       "    </tr>\n",
       "  </thead>\n",
       "  <tbody>\n",
       "    <tr>\n",
       "      <th>0</th>\n",
       "      <td>1112406</td>\n",
       "    </tr>\n",
       "  </tbody>\n",
       "</table>\n",
       "</div>"
      ],
      "text/plain": [
       "   session_count\n",
       "0        1112406"
      ]
     },
     "execution_count": 24,
     "metadata": {},
     "output_type": "execute_result"
    }
   ],
   "source": [
    "session = pd.read_sql_query('SELECT COUNT(event_time) as session_count from checkout', connection)\n",
    "session"
   ]
  },
  {
   "cell_type": "markdown",
   "metadata": {},
   "source": [
    "#### Total visitor count , visitors, customers\n",
    "Guest checkouts is available since some user_id column has null values choosing checkout table \n",
    "since we have only the data for the orders and not the sessions. Lets assume one visitor or customer per orders\n",
    "\n",
    "using the all_data table, the number of unique customers is 98262 while checkout table is 80354.  If every order comes from a unique customer or visitor, then the checkout data is not acurate and missleading since both tables have the same distinct order_id"
   ]
  },
  {
   "cell_type": "markdown",
   "metadata": {},
   "source": [
    "#### Orders from customers\n",
    "Number of unique customers, # of orders from customers, average orders per customer total value, % of the GMV"
   ]
  },
  {
   "cell_type": "code",
   "execution_count": 49,
   "metadata": {
    "scrolled": true
   },
   "outputs": [
    {
     "data": {
      "text/html": [
       "<div>\n",
       "<style scoped>\n",
       "    .dataframe tbody tr th:only-of-type {\n",
       "        vertical-align: middle;\n",
       "    }\n",
       "\n",
       "    .dataframe tbody tr th {\n",
       "        vertical-align: top;\n",
       "    }\n",
       "\n",
       "    .dataframe thead th {\n",
       "        text-align: right;\n",
       "    }\n",
       "</style>\n",
       "<table border=\"1\" class=\"dataframe\">\n",
       "  <thead>\n",
       "    <tr style=\"text-align: right;\">\n",
       "      <th></th>\n",
       "      <th>customers</th>\n",
       "      <th>customer_orders</th>\n",
       "      <th>$total_value</th>\n",
       "      <th>avg_per_customer</th>\n",
       "    </tr>\n",
       "  </thead>\n",
       "  <tbody>\n",
       "    <tr>\n",
       "      <th>0</th>\n",
       "      <td>98262</td>\n",
       "      <td>564169</td>\n",
       "      <td>117499096.0</td>\n",
       "      <td>5</td>\n",
       "    </tr>\n",
       "  </tbody>\n",
       "</table>\n",
       "</div>"
      ],
      "text/plain": [
       "   customers  customer_orders  $total_value  avg_per_customer\n",
       "0      98262           564169   117499096.0                 5"
      ]
     },
     "execution_count": 49,
     "metadata": {},
     "output_type": "execute_result"
    }
   ],
   "source": [
    "orders_from_customers = pd.read_sql_query('''SELECT COUNT(DISTINCT user_id) as customers, \n",
    "COUNT(user_id) as customer_orders,ROUND(SUM(price)) as '$total_value', COUNT(order_id) / COUNT(DISTINCT user_id) as avg_per_customer\n",
    "FROM all_data  WHERE user_id != \"None \"''', connection)\n",
    "orders_from_customers"
   ]
  },
  {
   "cell_type": "markdown",
   "metadata": {},
   "source": [
    "#### Count of visitors or non-cusotmers"
   ]
  },
  {
   "cell_type": "code",
   "execution_count": 50,
   "metadata": {},
   "outputs": [
    {
     "data": {
      "text/html": [
       "<div>\n",
       "<style scoped>\n",
       "    .dataframe tbody tr th:only-of-type {\n",
       "        vertical-align: middle;\n",
       "    }\n",
       "\n",
       "    .dataframe tbody tr th {\n",
       "        vertical-align: top;\n",
       "    }\n",
       "\n",
       "    .dataframe thead th {\n",
       "        text-align: right;\n",
       "    }\n",
       "</style>\n",
       "<table border=\"1\" class=\"dataframe\">\n",
       "  <thead>\n",
       "    <tr style=\"text-align: right;\">\n",
       "      <th></th>\n",
       "      <th>visitor</th>\n",
       "      <th>orders</th>\n",
       "      <th>$total_value</th>\n",
       "    </tr>\n",
       "  </thead>\n",
       "  <tbody>\n",
       "    <tr>\n",
       "      <th>0</th>\n",
       "      <td>234818</td>\n",
       "      <td>234818</td>\n",
       "      <td>117499096.0</td>\n",
       "    </tr>\n",
       "  </tbody>\n",
       "</table>\n",
       "</div>"
      ],
      "text/plain": [
       "   visitor  orders  $total_value\n",
       "0   234818  234818   117499096.0"
      ]
     },
     "execution_count": 50,
     "metadata": {},
     "output_type": "execute_result"
    }
   ],
   "source": [
    "non_customers = pd.read_sql_query('''SELECT COUNT(DISTINCT order_id) as visitor, \n",
    "COUNT(DISTINCT order_id) as orders,ROUND(SUM(price)) as '$total_value'\n",
    "FROM all_data  WHERE user_id NOT LIKE \"%1-9%\"''', connection)\n",
    "non_customers"
   ]
  },
  {
   "cell_type": "markdown",
   "metadata": {},
   "source": [
    "Cannot get the average number of order for visitors since there is no id for the visitors"
   ]
  },
  {
   "cell_type": "markdown",
   "metadata": {},
   "source": [
    "## Category Metrics\n",
    "- Category GMV\n",
    "- Brand GMV\n",
    "- Moving average ( 7 days, 14 days, 28 days)"
   ]
  },
  {
   "cell_type": "markdown",
   "metadata": {},
   "source": [
    "#### Category GMV\n"
   ]
  },
  {
   "cell_type": "code",
   "execution_count": 55,
   "metadata": {
    "scrolled": false
   },
   "outputs": [
    {
     "data": {
      "text/html": [
       "<div>\n",
       "<style scoped>\n",
       "    .dataframe tbody tr th:only-of-type {\n",
       "        vertical-align: middle;\n",
       "    }\n",
       "\n",
       "    .dataframe tbody tr th {\n",
       "        vertical-align: top;\n",
       "    }\n",
       "\n",
       "    .dataframe thead th {\n",
       "        text-align: right;\n",
       "    }\n",
       "</style>\n",
       "<table border=\"1\" class=\"dataframe\">\n",
       "  <thead>\n",
       "    <tr style=\"text-align: right;\">\n",
       "      <th></th>\n",
       "      <th>category_code</th>\n",
       "      <th>order_GMV</th>\n",
       "      <th>$GMV</th>\n",
       "      <th>percentage</th>\n",
       "      <th>Item_GMV</th>\n",
       "      <th>$AVG_Ord_category</th>\n",
       "      <th>$AVG_item</th>\n",
       "    </tr>\n",
       "  </thead>\n",
       "  <tbody>\n",
       "    <tr>\n",
       "      <th>0</th>\n",
       "      <td>None</td>\n",
       "      <td>363194</td>\n",
       "      <td>36274337.0</td>\n",
       "      <td>0.000115</td>\n",
       "      <td>612202</td>\n",
       "      <td>99.875926</td>\n",
       "      <td>59.252235</td>\n",
       "    </tr>\n",
       "    <tr>\n",
       "      <th>1</th>\n",
       "      <td>electronics.smartphone</td>\n",
       "      <td>248810</td>\n",
       "      <td>102642274.0</td>\n",
       "      <td>0.000408</td>\n",
       "      <td>357682</td>\n",
       "      <td>412.532753</td>\n",
       "      <td>286.965165</td>\n",
       "    </tr>\n",
       "    <tr>\n",
       "      <th>2</th>\n",
       "      <td>appliances.kitchen.refrigerators</td>\n",
       "      <td>59481</td>\n",
       "      <td>31507998.0</td>\n",
       "      <td>0.002792</td>\n",
       "      <td>77386</td>\n",
       "      <td>529.715331</td>\n",
       "      <td>407.153718</td>\n",
       "    </tr>\n",
       "    <tr>\n",
       "      <th>3</th>\n",
       "      <td>electronics.video.tv</td>\n",
       "      <td>55405</td>\n",
       "      <td>29301226.0</td>\n",
       "      <td>0.001264</td>\n",
       "      <td>71711</td>\n",
       "      <td>528.855264</td>\n",
       "      <td>408.601552</td>\n",
       "    </tr>\n",
       "    <tr>\n",
       "      <th>4</th>\n",
       "      <td>computers.notebook</td>\n",
       "      <td>50347</td>\n",
       "      <td>31354631.0</td>\n",
       "      <td>0.002820</td>\n",
       "      <td>71436</td>\n",
       "      <td>622.770593</td>\n",
       "      <td>438.919187</td>\n",
       "    </tr>\n",
       "  </tbody>\n",
       "</table>\n",
       "</div>"
      ],
      "text/plain": [
       "                      category_code  order_GMV         $GMV  percentage  \\\n",
       "0                              None     363194   36274337.0    0.000115   \n",
       "1            electronics.smartphone     248810  102642274.0    0.000408   \n",
       "2  appliances.kitchen.refrigerators      59481   31507998.0    0.002792   \n",
       "3              electronics.video.tv      55405   29301226.0    0.001264   \n",
       "4                computers.notebook      50347   31354631.0    0.002820   \n",
       "\n",
       "   Item_GMV  $AVG_Ord_category   $AVG_item  \n",
       "0    612202          99.875926   59.252235  \n",
       "1    357682         412.532753  286.965165  \n",
       "2     77386         529.715331  407.153718  \n",
       "3     71711         528.855264  408.601552  \n",
       "4     71436         622.770593  438.919187  "
      ]
     },
     "execution_count": 55,
     "metadata": {},
     "output_type": "execute_result"
    }
   ],
   "source": [
    "category_GMV= ('''SELECT category_code, COUNT(DISTINCT order_id) as order_GMV,\n",
    "ROUND(SUM(price)) as \"$GMV\", price /SUM(price) * 100 as percentage,  COUNT(price) as Item_GMV,  \n",
    "SUM(price) / COUNT(DISTINCT order_id) as \"$AVG_Ord_category\",\n",
    "AVG(price) as \"$AVG_item\"\n",
    "FROM all_data GROUP BY category_code\n",
    "ORDER BY COUNT(category_id) DESC''')\n",
    "\n",
    "category_GMV = pd.read_sql_query(category_GMV, connection)\n",
    "category_GMV[:5]"
   ]
  },
  {
   "cell_type": "markdown",
   "metadata": {},
   "source": [
    "#### Plot Category GMV"
   ]
  },
  {
   "cell_type": "code",
   "execution_count": 52,
   "metadata": {
    "scrolled": false
   },
   "outputs": [
    {
     "data": {
      "image/png": "[encoded data removed]",
      "text/plain": [
       "<Figure size 432x288 with 1 Axes>"
      ]
     },
     "metadata": {
      "needs_background": "light"
     },
     "output_type": "display_data"
    }
   ],
   "source": [
    "sns.barplot(x ='category_code', y ='$GMV',data = category_GMV[:5] )\n",
    "plt.show()\n"
   ]
  },
  {
   "cell_type": "markdown",
   "metadata": {},
   "source": [
    "Display 4 most preforming categories, None categorized items have more number of orders but less average order"
   ]
  },
  {
   "cell_type": "markdown",
   "metadata": {},
   "source": [
    "### Brand GMV  \n"
   ]
  },
  {
   "cell_type": "code",
   "execution_count": 54,
   "metadata": {
    "scrolled": false
   },
   "outputs": [
    {
     "data": {
      "text/html": [
       "<div>\n",
       "<style scoped>\n",
       "    .dataframe tbody tr th:only-of-type {\n",
       "        vertical-align: middle;\n",
       "    }\n",
       "\n",
       "    .dataframe tbody tr th {\n",
       "        vertical-align: top;\n",
       "    }\n",
       "\n",
       "    .dataframe thead th {\n",
       "        text-align: right;\n",
       "    }\n",
       "</style>\n",
       "<table border=\"1\" class=\"dataframe\">\n",
       "  <thead>\n",
       "    <tr style=\"text-align: right;\">\n",
       "      <th></th>\n",
       "      <th>brand</th>\n",
       "      <th>category_code</th>\n",
       "      <th>orders_per_brand</th>\n",
       "      <th>brand_GMV</th>\n",
       "      <th>price / SUM(price) *100</th>\n",
       "      <th>Item_by_brand</th>\n",
       "      <th>avg_ord_GMV</th>\n",
       "      <th>$AVG_ord_item</th>\n",
       "    </tr>\n",
       "  </thead>\n",
       "  <tbody>\n",
       "    <tr>\n",
       "      <th>0</th>\n",
       "      <td>samsung</td>\n",
       "      <td>electronics.smartphone</td>\n",
       "      <td>129649</td>\n",
       "      <td>44984338.0</td>\n",
       "      <td>0.002213</td>\n",
       "      <td>178903</td>\n",
       "      <td>346.970189</td>\n",
       "      <td>251.445409</td>\n",
       "    </tr>\n",
       "    <tr>\n",
       "      <th>1</th>\n",
       "      <td>apple</td>\n",
       "      <td>electronics.smartphone</td>\n",
       "      <td>33322</td>\n",
       "      <td>35352547.0</td>\n",
       "      <td>0.001185</td>\n",
       "      <td>46030</td>\n",
       "      <td>1060.937115</td>\n",
       "      <td>768.032730</td>\n",
       "    </tr>\n",
       "    <tr>\n",
       "      <th>2</th>\n",
       "      <td>samsung</td>\n",
       "      <td>electronics.video.tv</td>\n",
       "      <td>17894</td>\n",
       "      <td>12674670.0</td>\n",
       "      <td>0.013697</td>\n",
       "      <td>22698</td>\n",
       "      <td>708.319553</td>\n",
       "      <td>558.404709</td>\n",
       "    </tr>\n",
       "    <tr>\n",
       "      <th>3</th>\n",
       "      <td>lg</td>\n",
       "      <td>electronics.video.tv</td>\n",
       "      <td>15297</td>\n",
       "      <td>10499896.0</td>\n",
       "      <td>0.003527</td>\n",
       "      <td>19234</td>\n",
       "      <td>686.402296</td>\n",
       "      <td>545.902876</td>\n",
       "    </tr>\n",
       "    <tr>\n",
       "      <th>4</th>\n",
       "      <td>lenovo</td>\n",
       "      <td>computers.notebook</td>\n",
       "      <td>13711</td>\n",
       "      <td>10257374.0</td>\n",
       "      <td>0.008621</td>\n",
       "      <td>17886</td>\n",
       "      <td>748.112755</td>\n",
       "      <td>573.486190</td>\n",
       "    </tr>\n",
       "  </tbody>\n",
       "</table>\n",
       "</div>"
      ],
      "text/plain": [
       "     brand           category_code  orders_per_brand   brand_GMV  \\\n",
       "0  samsung  electronics.smartphone            129649  44984338.0   \n",
       "1    apple  electronics.smartphone             33322  35352547.0   \n",
       "2  samsung    electronics.video.tv             17894  12674670.0   \n",
       "3       lg    electronics.video.tv             15297  10499896.0   \n",
       "4   lenovo      computers.notebook             13711  10257374.0   \n",
       "\n",
       "   price / SUM(price) *100  Item_by_brand  avg_ord_GMV  $AVG_ord_item  \n",
       "0                 0.002213         178903   346.970189     251.445409  \n",
       "1                 0.001185          46030  1060.937115     768.032730  \n",
       "2                 0.013697          22698   708.319553     558.404709  \n",
       "3                 0.003527          19234   686.402296     545.902876  \n",
       "4                 0.008621          17886   748.112755     573.486190  "
      ]
     },
     "execution_count": 54,
     "metadata": {},
     "output_type": "execute_result"
    }
   ],
   "source": [
    "per_brand = ('''SELECT  brand,category_code,count(DISTINCT order_id) as orders_per_brand, ROUND(SUM(price)) as brand_GMV,\n",
    "price / SUM(price) *100,\n",
    "COUNT(price) as Item_by_brand,\n",
    "SUM(price) / COUNT(DISTINCT order_id) as avg_ord_GMV,\n",
    "AVG(price) as \"$AVG_ord_item\"\n",
    "FROM all_data\n",
    "group by brand, category_code\n",
    "HAVING brand_GMV >1 AND brand !='None'\n",
    "ORDER by brand_GMV DESC''')\n",
    "\n",
    "per_brand_df = pd.read_sql_query(per_brand, connection)\n",
    "per_brand_df.head()"
   ]
  },
  {
   "cell_type": "markdown",
   "metadata": {},
   "source": [
    "Brands with average price per item and tend increase the GMV of the brand  * samsung is displayed twice since it has more than one category_code"
   ]
  },
  {
   "cell_type": "markdown",
   "metadata": {},
   "source": [
    "#### Plot GMV by brand"
   ]
  },
  {
   "cell_type": "code",
   "execution_count": 33,
   "metadata": {
    "scrolled": false
   },
   "outputs": [
    {
     "data": {
      "image/png": "[encoded data removed]",
      "text/plain": [
       "<Figure size 432x288 with 1 Axes>"
      ]
     },
     "metadata": {
      "needs_background": "light"
     },
     "output_type": "display_data"
    }
   ],
   "source": [
    "sns.barplot(x ='brand', y ='brand_GMV',data = per_brand_df[:10] )\n",
    "plt.show()"
   ]
  },
  {
   "cell_type": "markdown",
   "metadata": {},
   "source": [
    "### Min category GMV \n"
   ]
  },
  {
   "cell_type": "code",
   "execution_count": 30,
   "metadata": {
    "scrolled": true
   },
   "outputs": [
    {
     "data": {
      "text/html": [
       "<div>\n",
       "<style scoped>\n",
       "    .dataframe tbody tr th:only-of-type {\n",
       "        vertical-align: middle;\n",
       "    }\n",
       "\n",
       "    .dataframe tbody tr th {\n",
       "        vertical-align: top;\n",
       "    }\n",
       "\n",
       "    .dataframe thead th {\n",
       "        text-align: right;\n",
       "    }\n",
       "</style>\n",
       "<table border=\"1\" class=\"dataframe\">\n",
       "  <thead>\n",
       "    <tr style=\"text-align: right;\">\n",
       "      <th></th>\n",
       "      <th>order_count</th>\n",
       "      <th>category_code</th>\n",
       "    </tr>\n",
       "  </thead>\n",
       "  <tbody>\n",
       "    <tr>\n",
       "      <th>0</th>\n",
       "      <td>2</td>\n",
       "      <td>apparel.shoes</td>\n",
       "    </tr>\n",
       "  </tbody>\n",
       "</table>\n",
       "</div>"
      ],
      "text/plain": [
       "   order_count  category_code\n",
       "0            2  apparel.shoes"
      ]
     },
     "execution_count": 30,
     "metadata": {},
     "output_type": "execute_result"
    }
   ],
   "source": [
    "min_category = ('''SELECT min(mincount) as order_count, category_code\n",
    "FROM (SELECT category_code, COUNT(category_code) AS mincount FROM all_data GROUP BY category_code) \n",
    "where  category_code = 'apparel.shoes'\n",
    "''')\n",
    "\n",
    "min_category_df = pd.read_sql_query(min_category, connection)\n",
    "min_category_df.head()"
   ]
  }
 ],
 "metadata": {
  "kernelspec": {
   "display_name": "Python 3",
   "language": "python",
   "name": "python3"
  },
  "language_info": {
   "codemirror_mode": {
    "name": "ipython",
    "version": 3
   },
   "file_extension": ".py",
   "mimetype": "text/x-python",
   "name": "python",
   "nbconvert_exporter": "python",
   "pygments_lexer": "ipython3",
   "version": "3.7.1"
  }
 },
 "nbformat": 4,
 "nbformat_minor": 4
}
